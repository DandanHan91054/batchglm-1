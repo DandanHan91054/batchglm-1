{
 "cells": [
  {
   "cell_type": "markdown",
   "metadata": {
    "collapsed": true
   },
   "source": [
    "# Tests for Negative Binomial Noise Models (glm_nb)"
   ]
  },
  {
   "cell_type": "markdown",
   "metadata": {},
   "source": [
    "This notebook shows the typical workflow of batchglm using simulated data."
   ]
  },
  {
   "cell_type": "code",
   "execution_count": 1,
   "metadata": {},
   "outputs": [],
   "source": [
    "import os\n",
    "import datetime\n",
    "import numpy as np\n",
    "import pprint\n",
    "import matplotlib.pyplot as plt\n",
    "import logging\n",
    "import warnings\n",
    "import scipy\n",
    "import seaborn as sns\n",
    "\n",
    "%load_ext autoreload\n",
    "%autoreload 2"
   ]
  },
  {
   "cell_type": "code",
   "execution_count": 2,
   "metadata": {},
   "outputs": [
    {
     "name": "stderr",
     "output_type": "stream",
     "text": [
      "/home/mario/miniconda3/envs/batchglm_tf2/lib/python3.7/site-packages/tensorflow/python/framework/dtypes.py:516: FutureWarning: Passing (type, 1) or '1type' as a synonym of type is deprecated; in a future version of numpy, it will be understood as (type, (1,)) / '(1,)type'.\n",
      "  _np_qint8 = np.dtype([(\"qint8\", np.int8, 1)])\n",
      "/home/mario/miniconda3/envs/batchglm_tf2/lib/python3.7/site-packages/tensorflow/python/framework/dtypes.py:517: FutureWarning: Passing (type, 1) or '1type' as a synonym of type is deprecated; in a future version of numpy, it will be understood as (type, (1,)) / '(1,)type'.\n",
      "  _np_quint8 = np.dtype([(\"quint8\", np.uint8, 1)])\n",
      "/home/mario/miniconda3/envs/batchglm_tf2/lib/python3.7/site-packages/tensorflow/python/framework/dtypes.py:518: FutureWarning: Passing (type, 1) or '1type' as a synonym of type is deprecated; in a future version of numpy, it will be understood as (type, (1,)) / '(1,)type'.\n",
      "  _np_qint16 = np.dtype([(\"qint16\", np.int16, 1)])\n",
      "/home/mario/miniconda3/envs/batchglm_tf2/lib/python3.7/site-packages/tensorflow/python/framework/dtypes.py:519: FutureWarning: Passing (type, 1) or '1type' as a synonym of type is deprecated; in a future version of numpy, it will be understood as (type, (1,)) / '(1,)type'.\n",
      "  _np_quint16 = np.dtype([(\"quint16\", np.uint16, 1)])\n",
      "/home/mario/miniconda3/envs/batchglm_tf2/lib/python3.7/site-packages/tensorflow/python/framework/dtypes.py:520: FutureWarning: Passing (type, 1) or '1type' as a synonym of type is deprecated; in a future version of numpy, it will be understood as (type, (1,)) / '(1,)type'.\n",
      "  _np_qint32 = np.dtype([(\"qint32\", np.int32, 1)])\n",
      "/home/mario/miniconda3/envs/batchglm_tf2/lib/python3.7/site-packages/tensorflow/python/framework/dtypes.py:525: FutureWarning: Passing (type, 1) or '1type' as a synonym of type is deprecated; in a future version of numpy, it will be understood as (type, (1,)) / '(1,)type'.\n",
      "  np_resource = np.dtype([(\"resource\", np.ubyte, 1)])\n",
      "/home/mario/miniconda3/envs/batchglm_tf2/lib/python3.7/site-packages/tensorboard/compat/tensorflow_stub/dtypes.py:541: FutureWarning: Passing (type, 1) or '1type' as a synonym of type is deprecated; in a future version of numpy, it will be understood as (type, (1,)) / '(1,)type'.\n",
      "  _np_qint8 = np.dtype([(\"qint8\", np.int8, 1)])\n",
      "/home/mario/miniconda3/envs/batchglm_tf2/lib/python3.7/site-packages/tensorboard/compat/tensorflow_stub/dtypes.py:542: FutureWarning: Passing (type, 1) or '1type' as a synonym of type is deprecated; in a future version of numpy, it will be understood as (type, (1,)) / '(1,)type'.\n",
      "  _np_quint8 = np.dtype([(\"quint8\", np.uint8, 1)])\n",
      "/home/mario/miniconda3/envs/batchglm_tf2/lib/python3.7/site-packages/tensorboard/compat/tensorflow_stub/dtypes.py:543: FutureWarning: Passing (type, 1) or '1type' as a synonym of type is deprecated; in a future version of numpy, it will be understood as (type, (1,)) / '(1,)type'.\n",
      "  _np_qint16 = np.dtype([(\"qint16\", np.int16, 1)])\n",
      "/home/mario/miniconda3/envs/batchglm_tf2/lib/python3.7/site-packages/tensorboard/compat/tensorflow_stub/dtypes.py:544: FutureWarning: Passing (type, 1) or '1type' as a synonym of type is deprecated; in a future version of numpy, it will be understood as (type, (1,)) / '(1,)type'.\n",
      "  _np_quint16 = np.dtype([(\"quint16\", np.uint16, 1)])\n",
      "/home/mario/miniconda3/envs/batchglm_tf2/lib/python3.7/site-packages/tensorboard/compat/tensorflow_stub/dtypes.py:545: FutureWarning: Passing (type, 1) or '1type' as a synonym of type is deprecated; in a future version of numpy, it will be understood as (type, (1,)) / '(1,)type'.\n",
      "  _np_qint32 = np.dtype([(\"qint32\", np.int32, 1)])\n",
      "/home/mario/miniconda3/envs/batchglm_tf2/lib/python3.7/site-packages/tensorboard/compat/tensorflow_stub/dtypes.py:550: FutureWarning: Passing (type, 1) or '1type' as a synonym of type is deprecated; in a future version of numpy, it will be understood as (type, (1,)) / '(1,)type'.\n",
      "  np_resource = np.dtype([(\"resource\", np.ubyte, 1)])\n"
     ]
    }
   ],
   "source": [
    "import batchglm.api as glm\n",
    "\n",
    "np.warnings.filterwarnings(\"ignore\")\n",
    "warnings.filterwarnings(\"ignore\", category=DeprecationWarning, module=\"tensorflow\")\n",
    "logging.getLogger(\"tensorflow\").setLevel(logging.INFO)\n",
    "logging.getLogger(\"batchglm\").setLevel(logging.INFO)\n",
    "logging.getLogger(\"diffxpy\").setLevel(logging.INFO)"
   ]
  },
  {
   "cell_type": "markdown",
   "metadata": {},
   "source": [
    "## Setup"
   ]
  },
  {
   "cell_type": "markdown",
   "metadata": {},
   "source": [
    "I/O parameters"
   ]
  },
  {
   "cell_type": "code",
   "execution_count": 3,
   "metadata": {},
   "outputs": [],
   "source": [
    "out_dir = './' # specifies where figures should be stored"
   ]
  },
  {
   "cell_type": "markdown",
   "metadata": {},
   "source": [
    "Some other parameter setups:"
   ]
  },
  {
   "cell_type": "code",
   "execution_count": 4,
   "metadata": {},
   "outputs": [],
   "source": [
    "quick_scale = False # if True, only the mean model is trained which is much quicker\n",
    "plot_figures = True # specifies whether figures should be plotted\n",
    "save_figures = False # specifies whether figures should be saved\n",
    "featurewise = True # if true, will only calculate updates on not yet converged parameters (feature batching).\n",
    "autograd = False # if True, uses TensorFlow's integrated auto differentiation for jacobian and hessian calculation\n",
    "                 # if False, uses implemented closed form differentiation, has no effect on closed form FIM calculation."
   ]
  },
  {
   "cell_type": "markdown",
   "metadata": {},
   "source": [
    "## Simulate some Data"
   ]
  },
  {
   "cell_type": "markdown",
   "metadata": {},
   "source": [
    "First, we generate three different simulators with different number of observations and 500 features."
   ]
  },
  {
   "cell_type": "code",
   "execution_count": 5,
   "metadata": {},
   "outputs": [],
   "source": [
    "sim1 = glm.models.glm_nb.Simulator(10000,500)\n",
    "sim2 = glm.models.glm_nb.Simulator(5000,500)\n",
    "sim3 = glm.models.glm_nb.Simulator(1000,500)"
   ]
  },
  {
   "cell_type": "markdown",
   "metadata": {},
   "source": [
    "Now data needs to be sampled from the simulated distributions."
   ]
  },
  {
   "cell_type": "code",
   "execution_count": 6,
   "metadata": {},
   "outputs": [],
   "source": [
    "sim1.generate()\n",
    "sim2.generate()\n",
    "sim3.generate()"
   ]
  },
  {
   "cell_type": "markdown",
   "metadata": {},
   "source": [
    "Now we can visualize different batches and distributions for individual features by slicing the design matrix `x`.\n",
    "Here, it is shown for `sim1.x`, where the individual batches and condition rows are extracted from the corresponding design matrix."
   ]
  },
  {
   "cell_type": "code",
   "execution_count": 7,
   "metadata": {},
   "outputs": [
    {
     "data": {
      "text/plain": [
       "array([[1., 0., 0., 0., 0.],\n",
       "       [1., 1., 0., 0., 0.],\n",
       "       [1., 0., 0., 0., 0.],\n",
       "       ...,\n",
       "       [1., 1., 0., 0., 1.],\n",
       "       [1., 0., 0., 0., 1.],\n",
       "       [1., 1., 0., 0., 1.]])"
      ]
     },
     "execution_count": 7,
     "metadata": {},
     "output_type": "execute_result"
    }
   ],
   "source": [
    "sim1.design_loc"
   ]
  },
  {
   "cell_type": "markdown",
   "metadata": {},
   "source": [
    "The first column denotes the intercept, followed by condition, then three columns for additional batches. The default is thereby made up of two conditions in a total of four batches. The simulator samples the same number of observation for each batch and alternates between condition 0 and 1 in each row in this example.\n",
    "This might not be true if you change the above default simulators however. You need to have a look at the design matrix, then and slice it correctly, if you wish to plot the individual distributions per batch and conditions."
   ]
  },
  {
   "cell_type": "code",
   "execution_count": 8,
   "metadata": {},
   "outputs": [],
   "source": [
    "intercept_0 = sim1.x[:2500:2]\n",
    "intercept_1 = sim1.x[1:2501:2]\n",
    "batch_1_0 = sim1.x[2500:5000:2]\n",
    "batch_1_1 = sim1.x[2501:5001:2]\n",
    "batch_2_0 = sim1.x[5000:7500:2]\n",
    "batch_2_1 = sim1.x[5001:7501:2]\n",
    "batch_3_0 = sim1.x[7500:10000:2]\n",
    "batch_3_1 = sim1.x[7501:10001:2]\n",
    "#sim1.design_loc[500:1000:2]"
   ]
  },
  {
   "cell_type": "code",
   "execution_count": 9,
   "metadata": {},
   "outputs": [
    {
     "data": {
      "image/png": "[encoded data removed]",
      "text/plain": [
       "<Figure size 432x288 with 1 Axes>"
      ]
     },
     "metadata": {
      "needs_background": "light"
     },
     "output_type": "display_data"
    }
   ],
   "source": [
    "feature = 395\n",
    "sns.violinplot(data=[intercept_0[:,feature],intercept_1[:,feature], batch_1_0[:,feature], batch_1_1[:,feature], batch_2_0[:,feature], batch_2_1[:,feature], batch_3_0[:,feature], batch_3_1[:,feature]])\n",
    "plt.savefig('/home/mario/PSC19/batchglm_tf2/violins.pdf', bbox_inches=\"tight\")\n"
   ]
  },
  {
   "cell_type": "markdown",
   "metadata": {},
   "source": [
    "## Set up Estimator"
   ]
  },
  {
   "cell_type": "markdown",
   "metadata": {},
   "source": [
    "Create the count matrix first. Here, you can choose to take a sparse csr_matrix or take `x` directly from the simulator. This will result in a sparse or dense tensor, respectively. Note that feature batching is currently not working with sparse x tensors, so you need to choose the dense x matrix directly from the simulator if you wish to try out feature batching. "
   ]
  },
  {
   "cell_type": "code",
   "execution_count": 10,
   "metadata": {},
   "outputs": [],
   "source": [
    "#x1 = sim1.x\n",
    "x1 = scipy.sparse.csr_matrix(sim1.x)\n",
    "#x2 = sim2.x\n",
    "x2 = scipy.sparse.csr_matrix(sim2.x)\n",
    "#x3 = sim3.x\n",
    "x3 = scipy.sparse.csr_matrix(sim3.x)"
   ]
  },
  {
   "cell_type": "markdown",
   "metadata": {},
   "source": [
    "Now create the design matrices. In this case, we take the design matrices for the loc and scale model which were created by the simulators."
   ]
  },
  {
   "cell_type": "code",
   "execution_count": 11,
   "metadata": {},
   "outputs": [],
   "source": [
    "design_loc_1 = sim1.design_loc\n",
    "design_scale_1 = sim1.design_scale\n",
    "design_loc_2 = sim2.design_loc\n",
    "design_scale_2 = sim2.design_scale\n",
    "design_loc_3 = sim3.design_loc\n",
    "design_scale_3 = sim3.design_scale"
   ]
  },
  {
   "cell_type": "markdown",
   "metadata": {},
   "source": [
    "Now create the input data for each individual run:"
   ]
  },
  {
   "cell_type": "code",
   "execution_count": 12,
   "metadata": {},
   "outputs": [],
   "source": [
    "input_data1 = glm.models.glm_nb.InputDataGLM(data=x1, design_loc=design_loc_1, design_scale=design_scale_1)\n",
    "input_data2 = glm.models.glm_nb.InputDataGLM(data=x2, design_loc=design_loc_2, design_scale=design_scale_2)\n",
    "input_data3 = glm.models.glm_nb.InputDataGLM(data=x3, design_loc=design_loc_3, design_scale=design_scale_3)"
   ]
  },
  {
   "cell_type": "markdown",
   "metadata": {},
   "source": [
    "Finally, the estimators are created:"
   ]
  },
  {
   "cell_type": "code",
   "execution_count": 13,
   "metadata": {
    "scrolled": false
   },
   "outputs": [],
   "source": [
    "estimator1 = glm.models.glm_nb.Estimator(input_data1, \n",
    "                init_a = \"standard\", init_b = \"standard\", quick_scale=quick_scale)\n",
    "estimator2 = glm.models.glm_nb.Estimator(input_data2, \n",
    "                init_a = \"standard\", init_b = \"standard\", quick_scale=quick_scale)\n",
    "estimator3 = glm.models.glm_nb.Estimator(input_data3, \n",
    "                init_a = \"standard\", init_b = \"standard\", quick_scale=quick_scale)"
   ]
  },
  {
   "cell_type": "markdown",
   "metadata": {},
   "source": [
    "## Parameter Fitting Procedure"
   ]
  },
  {
   "cell_type": "markdown",
   "metadata": {},
   "source": [
    "Choose optimizer (for glm_nb you should only use \"adam\" or \"irls_gd_tr\"): "
   ]
  },
  {
   "cell_type": "code",
   "execution_count": 14,
   "metadata": {},
   "outputs": [],
   "source": [
    "optim = \"irls_gd_tr\""
   ]
  },
  {
   "cell_type": "markdown",
   "metadata": {},
   "source": [
    "Start the training"
   ]
  },
  {
   "cell_type": "code",
   "execution_count": 15,
   "metadata": {
    "scrolled": true
   },
   "outputs": [
    {
     "name": "stderr",
     "output_type": "stream",
     "text": [
      "WARNING: Logging before flag parsing goes to stderr.\n",
      "I1021 22:54:55.652695 139828282468160 estimator.py:157] step 0\n",
      "W1021 22:54:55.659723 139825386604288 backprop.py:842] The dtype of the watched tensor must be floating (e.g. tf.float32), got tf.int64\n",
      "W1021 22:54:55.660223 139825394996992 backprop.py:842] The dtype of the watched tensor must be floating (e.g. tf.float32), got tf.int64\n",
      "W1021 22:54:55.660414 139825629861632 backprop.py:842] The dtype of the watched tensor must be floating (e.g. tf.float32), got tf.int64\n",
      "W1021 22:54:55.660671 139825403389696 backprop.py:842] The dtype of the watched tensor must be floating (e.g. tf.float32), got tf.int64\n",
      "W1021 22:54:55.660838 139825646647040 backprop.py:842] The dtype of the watched tensor must be floating (e.g. tf.float32), got tf.int64\n",
      "I1021 22:55:04.763368 139828282468160 estimator.py:244] Step: 5 loss: 214853.017438, converged 182, updated 500, (logs: 182, grad: 0, x_step: 0)\n",
      "W1021 22:55:04.929954 139828282468160 deprecation.py:323] From /home/mario/miniconda3/envs/batchglm_tf2/lib/python3.7/site-packages/tensorflow/python/ops/array_ops.py:1340: add_dispatch_support.<locals>.wrapper (from tensorflow.python.ops.array_ops) is deprecated and will be removed in a future version.\n",
      "Instructions for updating:\n",
      "Use tf.where in 2.0, which has the same broadcast rule as np.where\n",
      "I1021 22:55:08.315747 139828282468160 estimator.py:244] Step: 6 loss: 140432.751624, converged 500, updated 500, (logs: 318, grad: 0, x_step: 0)\n",
      "I1021 22:55:08.335409 139828282468160 estimator.py:157] step 0\n",
      "I1021 22:55:12.737623 139828282468160 estimator.py:244] Step: 5 loss: 107181.609286, converged 182, updated 500, (logs: 182, grad: 0, x_step: 0)\n",
      "I1021 22:55:14.523374 139828282468160 estimator.py:244] Step: 6 loss: 69989.548548, converged 500, updated 500, (logs: 318, grad: 0, x_step: 0)\n",
      "I1021 22:55:14.545921 139828282468160 estimator.py:157] step 0\n",
      "I1021 22:55:15.488054 139828282468160 estimator.py:244] Step: 5 loss: 21440.568530, converged 149, updated 500, (logs: 149, grad: 0, x_step: 0)\n",
      "I1021 22:55:15.982115 139828282468160 estimator.py:244] Step: 6 loss: 15371.353850, converged 497, updated 500, (logs: 348, grad: 0, x_step: 0)\n",
      "I1021 22:55:16.188359 139828282468160 estimator.py:244] Step: 7 loss: 141.749857, converged 500, updated 500, (logs: 3, grad: 0, x_step: 0)\n"
     ]
    }
   ],
   "source": [
    "estimator1.initialize()\n",
    "estimator1.train(batched_model=False, batch_size=200, optimizer=optim, learning_rate=1e-2, \n",
    "                convergence_criteria=\"both\", stopping_criteria=100, autograd=autograd, featurewise=featurewise, benchmark=True)\n",
    "\n",
    "deviations1 = estimator1.model.trainable_weights[0].numpy()-np.concatenate((sim1.a,sim1.b),axis=0)\n",
    "estimator2.initialize()\n",
    "estimator2.train(batched_model=False, batch_size=200, optimizer=optim, learning_rate=1e-2, \n",
    "                convergence_criteria=\"both\", stopping_criteria=100, autograd=autograd, featurewise=featurewise, benchmark=True)\n",
    "\n",
    "deviations2 = estimator2.model.trainable_weights[0].numpy()-np.concatenate((sim2.a,sim2.b),axis=0)\n",
    "estimator3.initialize()\n",
    "estimator3.train(batched_model=False, batch_size=200, optimizer=optim, learning_rate=1e-2, \n",
    "                convergence_criteria=\"both\", stopping_criteria=100, autograd=autograd, featurewise=featurewise, benchmark=True)\n",
    "\n",
    "deviations3 = estimator3.model.trainable_weights[0].numpy()-np.concatenate((sim3.a,sim3.b),axis=0)\n"
   ]
  },
  {
   "cell_type": "markdown",
   "metadata": {},
   "source": [
    "## Analysis"
   ]
  },
  {
   "cell_type": "markdown",
   "metadata": {},
   "source": [
    "### Overall deviation"
   ]
  },
  {
   "cell_type": "markdown",
   "metadata": {},
   "source": [
    "Check overall deviation between true and predicted values for mean and variance parameters"
   ]
  },
  {
   "cell_type": "code",
   "execution_count": 16,
   "metadata": {},
   "outputs": [
    {
     "data": {
      "image/png": "[encoded data removed]",
      "text/plain": [
       "<Figure size 432x288 with 2 Axes>"
      ]
     },
     "metadata": {
      "needs_background": "light"
     },
     "output_type": "display_data"
    }
   ],
   "source": [
    "if plot_figures:\n",
    "    fig, (ax1, ax2) = plt.subplots(1,2)\n",
    "    a = ax1.hist(deviations3[0:5].flatten(),  bins = np.linspace(-0.1,0.1,100), color=\"#3b5998\", alpha=1, histtype='stepfilled')\n",
    "    b = ax1.hist(deviations2[0:5].flatten(),  bins = np.linspace(-0.1,0.1,100), color=\"#8b9dc3\", alpha = 0.8, histtype='stepfilled')\n",
    "    c = ax1.hist(deviations1[0:5].flatten(),  bins = np.linspace(-0.1,0.1,100), color=\"#dfe3ee\", alpha=0.7, histtype='stepfilled')\n",
    "    ax2.hist(deviations3[5:10].flatten(),  bins = np.linspace(-0.5,0.5,100), color=\"#3b5998\", alpha=1, histtype='stepfilled')\n",
    "    ax2.hist(deviations2[5:10].flatten(),  bins = np.linspace(-0.5,0.5,100), color=\"#8b9dc3\", alpha=0.8, histtype='stepfilled')\n",
    "    ax2.hist(deviations1[5:10].flatten(),  bins = np.linspace(-0.5,0.5,100), color=\"#dfe3ee\", alpha=0.7, histtype='stepfilled')\n",
    "\n",
    "    ax1.set_xlabel(\"deviation of mean\")\n",
    "    ax2.set_xlabel(\"deviation of variance\")\n",
    "    ax1.set_ylabel(\"number of parameters\")\n",
    "    plt.figlegend((a,b,c), labels=(\"1000\",\"5000\",\"10000\"), loc = (0.30,0.895),ncol=3, labelspacing=0. )\n",
    "    plt.plot()\n",
    "    if save_figures:\n",
    "        plt.tight_layout()\n",
    "        plt.savefig(\"/home/mario/PSC19/batchglm_tf2/deviations.pdf\", bbox_inches=\"tight\")"
   ]
  },
  {
   "cell_type": "markdown",
   "metadata": {},
   "source": [
    "All estimated parameters should be normally distributed around zero. The variance deviations only follow this distribution if they were fitted (check the `quick_scale` parameter).\n",
    "With increasing number of observations, the variance should get smaller, which is caused by imperfection in the randomization process during sampling."
   ]
  },
  {
   "cell_type": "markdown",
   "metadata": {},
   "source": [
    "### Individual parameter convergence"
   ]
  },
  {
   "cell_type": "markdown",
   "metadata": {},
   "source": [
    "Decide which batch/condition (coefficient) and feature to analyze:"
   ]
  },
  {
   "cell_type": "code",
   "execution_count": 17,
   "metadata": {},
   "outputs": [],
   "source": [
    "coeff = 2\n",
    "feature = 12"
   ]
  },
  {
   "cell_type": "markdown",
   "metadata": {},
   "source": [
    "Decide which simulator and estimator to use:"
   ]
  },
  {
   "cell_type": "code",
   "execution_count": 18,
   "metadata": {},
   "outputs": [],
   "source": [
    "estimator = estimator1\n",
    "simulator = sim1"
   ]
  },
  {
   "cell_type": "markdown",
   "metadata": {},
   "source": [
    "Assemble values"
   ]
  },
  {
   "cell_type": "code",
   "execution_count": 19,
   "metadata": {},
   "outputs": [],
   "source": [
    "true_loc = simulator.a_var[coeff,feature]\n",
    "true_scale = simulator.b_var[coeff,feature]\n",
    "locs = [results[coeff,feature] for results in estimator.values]\n",
    "scales = [results[coeff+5,feature] for results in estimator.values]"
   ]
  },
  {
   "cell_type": "markdown",
   "metadata": {},
   "source": [
    "Plot the results from training for selected loc_param and feature:"
   ]
  },
  {
   "cell_type": "code",
   "execution_count": 20,
   "metadata": {
    "scrolled": true
   },
   "outputs": [
    {
     "data": {
      "image/png": "[encoded data removed]",
      "text/plain": [
       "<Figure size 432x288 with 1 Axes>"
      ]
     },
     "metadata": {
      "needs_background": "light"
     },
     "output_type": "display_data"
    }
   ],
   "source": [
    "if plot_figures:\n",
    "    num_steps = len(locs)\n",
    "    #num_steps = 10\n",
    "    loc_x = range(num_steps)\n",
    "    scale_x = range(num_steps)\n",
    "    plt.plot(loc_x, locs[0:num_steps], 'r',\n",
    "             scale_x, scales[0:num_steps], 'b')\n",
    "             #loc_x, locs_auto,'r--',\n",
    "             #scale_x, scales_auto, 'b--')\n",
    "    plt.plot(loc_x,[true_loc] * num_steps, 'r--',\n",
    "             scale_x, [true_scale] * num_steps, 'b--')\n",
    "    plt.legend(['loc', 'scale', 'true loc', 'true_scale'])\n",
    "    plt.show()"
   ]
  },
  {
   "cell_type": "markdown",
   "metadata": {},
   "source": [
    "### Final Parameter Comparison"
   ]
  },
  {
   "cell_type": "markdown",
   "metadata": {},
   "source": [
    "Get absoute differences between each individual true and estimated parameter for selected estimator and simulator (see section above):"
   ]
  },
  {
   "cell_type": "code",
   "execution_count": 21,
   "metadata": {},
   "outputs": [],
   "source": [
    "differences = np.abs(estimator.model.params.numpy()- np.concatenate((simulator.a, simulator.b), axis=0))"
   ]
  },
  {
   "cell_type": "code",
   "execution_count": 22,
   "metadata": {},
   "outputs": [
    {
     "data": {
      "text/plain": [
       "<matplotlib.colorbar.Colorbar at 0x7f2beb059358>"
      ]
     },
     "execution_count": 22,
     "metadata": {},
     "output_type": "execute_result"
    },
    {
     "data": {
      "image/png": "[encoded data removed]",
      "text/plain": [
       "<Figure size 432x288 with 2 Axes>"
      ]
     },
     "metadata": {
      "needs_background": "light"
     },
     "output_type": "display_data"
    }
   ],
   "source": [
    "plt.imshow(differences, aspect='auto',cmap=\"YlGn\")\n",
    "plt.colorbar()"
   ]
  },
  {
   "cell_type": "code",
   "execution_count": 23,
   "metadata": {},
   "outputs": [
    {
     "data": {
      "text/plain": [
       "2.297892708103166"
      ]
     },
     "execution_count": 23,
     "metadata": {},
     "output_type": "execute_result"
    }
   ],
   "source": [
    "np.max(differences)"
   ]
  },
  {
   "cell_type": "code",
   "execution_count": 24,
   "metadata": {},
   "outputs": [
    {
     "data": {
      "text/plain": [
       "(array([3]), array([117]))"
      ]
     },
     "execution_count": 24,
     "metadata": {},
     "output_type": "execute_result"
    }
   ],
   "source": [
    "np.where(differences[0:5]==np.max(differences[0:5]))"
   ]
  },
  {
   "cell_type": "code",
   "execution_count": null,
   "metadata": {},
   "outputs": [],
   "source": []
  },
  {
   "cell_type": "code",
   "execution_count": null,
   "metadata": {},
   "outputs": [],
   "source": []
  }
 ],
 "metadata": {
  "kernelspec": {
   "display_name": "Python 3",
   "language": "python",
   "name": "python3"
  },
  "language_info": {
   "codemirror_mode": {
    "name": "ipython",
    "version": 3
   },
   "file_extension": ".py",
   "mimetype": "text/x-python",
   "name": "python",
   "nbconvert_exporter": "python",
   "pygments_lexer": "ipython3",
   "version": "3.7.3"
  }
 },
 "nbformat": 4,
 "nbformat_minor": 1
}
