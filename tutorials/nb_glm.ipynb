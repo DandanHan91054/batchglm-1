{
 "cells": [
  {
   "cell_type": "code",
   "execution_count": 1,
   "metadata": {},
   "outputs": [],
   "source": [
    "import os\n",
    "import datetime\n",
    "import numpy as np\n",
    "import pprint\n",
    "\n",
    "import logging\n",
    "import warnings\n",
    "\n",
    "logging.getLogger(\"tensorflow\").setLevel(logging.INFO)\n",
    "logging.getLogger(\"batchglm\").setLevel(logging.INFO)"
   ]
  },
  {
   "cell_type": "markdown",
   "metadata": {},
   "source": [
    "## Import batchglm"
   ]
  },
  {
   "cell_type": "code",
   "execution_count": 2,
   "metadata": {},
   "outputs": [],
   "source": [
    "import batchglm.api as glm"
   ]
  },
  {
   "cell_type": "code",
   "execution_count": 3,
   "metadata": {},
   "outputs": [],
   "source": [
    "# just to ignore some tensorflow warnings; just ignore this line\n",
    "warnings.filterwarnings(\"ignore\", category=DeprecationWarning, module=\"tensorflow\")"
   ]
  },
  {
   "cell_type": "markdown",
   "metadata": {},
   "source": [
    "## Simulate some data"
   ]
  },
  {
   "cell_type": "code",
   "execution_count": 4,
   "metadata": {},
   "outputs": [],
   "source": [
    "sim = glm.models.nb_glm.Simulator(num_features=100)\n",
    "sim.generate()"
   ]
  },
  {
   "cell_type": "markdown",
   "metadata": {},
   "source": [
    "### Simulated model data:"
   ]
  },
  {
   "cell_type": "code",
   "execution_count": 5,
   "metadata": {},
   "outputs": [
    {
     "data": {
      "text/plain": [
       "<xarray.DataArray 'X' (observations: 2000, features: 100)>\n",
       "array([[ 4591,  6286,  4754, ...,  5106,   370,   539],\n",
       "       [ 5503, 18603,  7617, ..., 14718,   458,  1923],\n",
       "       [11337,  4280,  3251, ...,  8953,   643,   691],\n",
       "       ..., \n",
       "       [ 7733, 11835,  4322, ..., 14312,   458,  1787],\n",
       "       [ 3621,  2372,  9816, ..., 12259,   775,   643],\n",
       "       [ 4161, 16194, 13938, ...,  3701,   438,  2283]])\n",
       "Dimensions without coordinates: observations, features"
      ]
     },
     "execution_count": 5,
     "metadata": {},
     "output_type": "execute_result"
    }
   ],
   "source": [
    "sim.X"
   ]
  },
  {
   "cell_type": "code",
   "execution_count": 6,
   "metadata": {},
   "outputs": [
    {
     "data": {
      "text/plain": [
       "array([[ 1.,  0.,  0.,  0.,  0.],\n",
       "       [ 1.,  0.,  0.,  0.,  1.],\n",
       "       [ 1.,  0.,  0.,  1.,  0.],\n",
       "       [ 1.,  0.,  0.,  1.,  1.],\n",
       "       [ 1.,  0.,  1.,  0.,  0.],\n",
       "       [ 1.,  0.,  1.,  0.,  1.],\n",
       "       [ 1.,  1.,  0.,  0.,  0.],\n",
       "       [ 1.,  1.,  0.,  0.,  1.]])"
      ]
     },
     "execution_count": 6,
     "metadata": {},
     "output_type": "execute_result"
    }
   ],
   "source": [
    "np.unique(sim.design_loc, axis=0)"
   ]
  },
  {
   "cell_type": "code",
   "execution_count": 7,
   "metadata": {},
   "outputs": [
    {
     "data": {
      "text/plain": [
       "array([[ 1.,  0.,  0.,  0.,  0.],\n",
       "       [ 1.,  0.,  0.,  0.,  1.],\n",
       "       [ 1.,  0.,  0.,  1.,  0.],\n",
       "       [ 1.,  0.,  0.,  1.,  1.],\n",
       "       [ 1.,  0.,  1.,  0.,  0.],\n",
       "       [ 1.,  0.,  1.,  0.,  1.],\n",
       "       [ 1.,  1.,  0.,  0.,  0.],\n",
       "       [ 1.,  1.,  0.,  0.,  1.]])"
      ]
     },
     "execution_count": 7,
     "metadata": {},
     "output_type": "execute_result"
    }
   ],
   "source": [
    "np.unique(sim.design_scale, axis=0)"
   ]
  },
  {
   "cell_type": "markdown",
   "metadata": {},
   "source": [
    "### The parameters used to generate this data:"
   ]
  },
  {
   "cell_type": "code",
   "execution_count": 8,
   "metadata": {},
   "outputs": [
    {
     "data": {
      "text/plain": [
       "<xarray.DataArray 'a' (design_loc_params: 5, features: 100)>\n",
       "array([[  8.913801e+00,   8.977684e+00,   8.618311e+00, ...,   9.051508e+00,\n",
       "          6.624763e+00,   6.779789e+00],\n",
       "       [  5.277409e-01,   1.234578e-01,   2.199390e-01, ...,   2.866304e-01,\n",
       "          4.977616e-01,   2.566364e-01],\n",
       "       [ -5.909113e-01,   5.375138e-01,  -3.491470e-01, ...,  -1.098316e-01,\n",
       "         -2.146866e-01,   1.921012e-02],\n",
       "       [  1.137895e-01,   8.568040e-02,   3.509631e-01, ...,   2.903533e-01,\n",
       "         -3.090637e-03,   2.251633e-01],\n",
       "       [ -3.579814e-01,   4.854707e-01,   2.406968e-01, ...,   5.728669e-01,\n",
       "         -6.259994e-01,   3.608064e-01]])\n",
       "Coordinates:\n",
       "  * design_loc_params  (design_loc_params) <U14 'Intercept' 'batch[T.1]' ...\n",
       "Dimensions without coordinates: features"
      ]
     },
     "execution_count": 8,
     "metadata": {},
     "output_type": "execute_result"
    }
   ],
   "source": [
    "sim.par_link_loc"
   ]
  },
  {
   "cell_type": "code",
   "execution_count": 9,
   "metadata": {},
   "outputs": [
    {
     "data": {
      "text/plain": [
       "<xarray.DataArray 'b' (design_scale_params: 5, features: 100)>\n",
       "array([[ 1.609438,  1.609438,  1.791759, ...,  1.098612,  1.098612,  1.791759],\n",
       "       [ 0.269036, -0.299555,  0.42504 , ...,  0.489682,  0.255016,  0.16679 ],\n",
       "       [ 0.21587 ,  0.162142, -0.659762, ...,  0.565868,  0.684866, -0.677622],\n",
       "       [-0.377317,  0.008908, -0.596742, ...,  0.452542, -0.418559,  0.050641],\n",
       "       [-0.493644, -0.050117, -0.602287, ..., -0.555146,  0.370324, -0.098433]])\n",
       "Coordinates:\n",
       "  * design_scale_params  (design_scale_params) <U14 'Intercept' 'batch[T.1]' ...\n",
       "Dimensions without coordinates: features"
      ]
     },
     "execution_count": 9,
     "metadata": {},
     "output_type": "execute_result"
    }
   ],
   "source": [
    "sim.par_link_scale"
   ]
  },
  {
   "cell_type": "markdown",
   "metadata": {},
   "source": [
    "## Estimate the model"
   ]
  },
  {
   "cell_type": "code",
   "execution_count": 10,
   "metadata": {},
   "outputs": [],
   "source": [
    "X = sim.X\n",
    "design_loc = sim.design_loc\n",
    "design_scale = sim.design_scale\n",
    "\n",
    "# input data\n",
    "input_data = glm.models.nb_glm.InputData.new(data=X, design_loc=design_loc, design_scale=design_scale)"
   ]
  },
  {
   "cell_type": "markdown",
   "metadata": {},
   "source": [
    "### set up estimator:"
   ]
  },
  {
   "cell_type": "code",
   "execution_count": 11,
   "metadata": {},
   "outputs": [
    {
     "name": "stdout",
     "output_type": "stream",
     "text": [
      "Using closed-form MLE initialization for mean\n",
      "Using closed-form MME initialization for dispersion\n",
      "Graph was finalized.\n",
      "Running local_init_op.\n",
      "Done running local_init_op.\n"
     ]
    }
   ],
   "source": [
    "estimator = glm.models.nb_glm.Estimator(input_data)\n",
    "estimator.initialize()"
   ]
  },
  {
   "cell_type": "markdown",
   "metadata": {},
   "source": [
    "### Now train:\n",
    "\n",
    "There are multiple possible training strategies:"
   ]
  },
  {
   "cell_type": "code",
   "execution_count": 12,
   "metadata": {},
   "outputs": [
    {
     "name": "stdout",
     "output_type": "stream",
     "text": [
      "AUTO\n",
      "DEFAULT\n",
      "EXACT\n",
      "QUICK\n",
      "PRE_INITIALIZED\n"
     ]
    }
   ],
   "source": [
    "for i in estimator.TrainingStrategy:\n",
    "    print(i.name)"
   ]
  },
  {
   "cell_type": "markdown",
   "metadata": {},
   "source": [
    "Each one of them corresponds to a list of training options which will be passed to the estimator.train() function:"
   ]
  },
  {
   "cell_type": "code",
   "execution_count": 13,
   "metadata": {},
   "outputs": [
    {
     "name": "stdout",
     "output_type": "stream",
     "text": [
      "[{'convergence_criteria': 't_test',\n",
      "  'learning_rate': 0.1,\n",
      "  'loss_window_size': 100,\n",
      "  'optim_algo': 'ADAM',\n",
      "  'stop_at_loss_change': 0.05,\n",
      "  'use_batching': True},\n",
      " {'convergence_criteria': 't_test',\n",
      "  'learning_rate': 0.05,\n",
      "  'loss_window_size': 10,\n",
      "  'optim_algo': 'GD',\n",
      "  'stop_at_loss_change': 0.05,\n",
      "  'use_batching': False}]\n"
     ]
    }
   ],
   "source": [
    "pprint.pprint(estimator.TrainingStrategy.DEFAULT.value)"
   ]
  },
  {
   "cell_type": "markdown",
   "metadata": {},
   "source": [
    "Therefore, when choosing the training strategy \"DEFAULT\", the following call:\n",
    "```python\n",
    "estimator.train_sequence(\"DEFAULT\")\n",
    "```\n",
    "is equal to:\n",
    "```python\n",
    "estimator.train_sequence(estimator.TrainingStrategy.DEFAULT)\n",
    "```\n",
    "is equal to:\n",
    "```python\n",
    "estimator.train(\n",
    "    convergence_criteria = 't_test',\n",
    "    learning_rate = 0.1,\n",
    "    loss_window_size = 100,\n",
    "    optim_algo = 'ADAM',\n",
    "    stop_at_loss_change = 0.05,\n",
    "    use_batching = True\n",
    ")\n",
    "estimator.train(\n",
    "    convergence_criteria = 't_test',\n",
    "    learning_rate = 0.05,\n",
    "    loss_window_size = 10,\n",
    "    optim_algo = 'GD',\n",
    "    stop_at_loss_change = 0.05,\n",
    "    use_batching = False\n",
    ")\n",
    "```"
   ]
  },
  {
   "cell_type": "markdown",
   "metadata": {},
   "source": [
    "Now start the training sequence and let the estimator choose automatically the best training strategy:"
   ]
  },
  {
   "cell_type": "code",
   "execution_count": 14,
   "metadata": {},
   "outputs": [
    {
     "name": "stdout",
     "output_type": "stream",
     "text": [
      "training strategy:\n",
      "[{'convergence_criteria': 't_test',\n",
      "  'learning_rate': 0.1,\n",
      "  'loss_window_size': 100,\n",
      "  'optim_algo': 'ADAM',\n",
      "  'stop_at_loss_change': 0.05,\n",
      "  'use_batching': True},\n",
      " {'convergence_criteria': 't_test',\n",
      "  'learning_rate': 0.05,\n",
      "  'loss_window_size': 10,\n",
      "  'optim_algo': 'GD',\n",
      "  'stop_at_loss_change': 0.05,\n",
      "  'use_batching': False}]\n",
      "Beginning with training sequence #1\n",
      "Step: 1\tloss: 874.227234\n",
      "Step: 2\tloss: 891.925110\n",
      "Step: 3\tloss: 880.911133\n",
      "Step: 4\tloss: 882.574097\n",
      "Step: 5\tloss: 879.281921\n",
      "Step: 6\tloss: 882.160706\n",
      "Step: 7\tloss: 881.002991\n",
      "Step: 8\tloss: 881.263123\n",
      "Step: 9\tloss: 877.321106\n",
      "Step: 10\tloss: 879.381836\n",
      "Step: 11\tloss: 880.998474\n",
      "Step: 12\tloss: 880.275818\n",
      "Step: 13\tloss: 875.146912\n",
      "Step: 14\tloss: 879.836731\n",
      "Step: 15\tloss: 878.588379\n",
      "Step: 16\tloss: 878.498474\n",
      "Step: 17\tloss: 875.313782\n",
      "Step: 18\tloss: 877.923645\n",
      "Step: 19\tloss: 878.182068\n",
      "Step: 20\tloss: 878.936157\n",
      "Step: 21\tloss: 874.566223\n",
      "Step: 22\tloss: 877.987732\n",
      "Step: 23\tloss: 877.975769\n",
      "Step: 24\tloss: 878.064941\n",
      "Step: 25\tloss: 874.618835\n",
      "Step: 26\tloss: 876.710510\n",
      "Step: 27\tloss: 877.605713\n",
      "Step: 28\tloss: 878.600830\n",
      "Step: 29\tloss: 874.360596\n",
      "Step: 30\tloss: 877.200500\n",
      "Step: 31\tloss: 878.083374\n",
      "Step: 32\tloss: 877.394836\n",
      "Step: 33\tloss: 875.094238\n",
      "Step: 34\tloss: 877.485352\n",
      "Step: 35\tloss: 877.319336\n",
      "Step: 36\tloss: 876.584290\n",
      "Step: 37\tloss: 874.135376\n",
      "Step: 38\tloss: 877.079346\n",
      "Step: 39\tloss: 877.462585\n",
      "Step: 40\tloss: 877.621765\n",
      "Step: 41\tloss: 873.980103\n",
      "Step: 42\tloss: 877.196594\n",
      "Step: 43\tloss: 878.021301\n",
      "Step: 44\tloss: 876.905640\n",
      "Step: 45\tloss: 873.729797\n",
      "Step: 46\tloss: 877.589172\n",
      "Step: 47\tloss: 877.036316\n",
      "Step: 48\tloss: 877.761353\n",
      "Step: 49\tloss: 874.440857\n",
      "Step: 50\tloss: 876.551208\n",
      "Step: 51\tloss: 876.892212\n",
      "Step: 52\tloss: 878.131104\n",
      "Step: 53\tloss: 873.643555\n",
      "Step: 54\tloss: 877.292969\n",
      "Step: 55\tloss: 877.536865\n",
      "Step: 56\tloss: 877.430237\n",
      "Step: 57\tloss: 874.301086\n",
      "Step: 58\tloss: 876.720154\n",
      "Step: 59\tloss: 878.302490\n",
      "Step: 60\tloss: 876.617432\n",
      "Step: 61\tloss: 874.127075\n",
      "Step: 62\tloss: 876.985596\n",
      "Step: 63\tloss: 877.643677\n",
      "Step: 64\tloss: 877.188965\n",
      "Step: 65\tloss: 873.847412\n",
      "Step: 66\tloss: 877.546021\n",
      "Step: 67\tloss: 877.183289\n",
      "Step: 68\tloss: 877.345642\n",
      "Step: 69\tloss: 874.120972\n",
      "Step: 70\tloss: 876.838379\n",
      "Step: 71\tloss: 877.432495\n",
      "Step: 72\tloss: 877.611877\n",
      "Step: 73\tloss: 873.491638\n",
      "Step: 74\tloss: 877.483398\n",
      "Step: 75\tloss: 877.795288\n",
      "Step: 76\tloss: 877.160034\n",
      "Step: 77\tloss: 873.819336\n",
      "Step: 78\tloss: 876.983459\n",
      "Step: 79\tloss: 877.103210\n",
      "Step: 80\tloss: 877.988281\n",
      "Step: 81\tloss: 874.440857\n",
      "Step: 82\tloss: 876.358582\n",
      "Step: 83\tloss: 877.519409\n",
      "Step: 84\tloss: 877.628479\n",
      "Step: 85\tloss: 873.945801\n",
      "Step: 86\tloss: 877.699768\n",
      "Step: 87\tloss: 876.822327\n",
      "Step: 88\tloss: 877.525635\n",
      "Step: 89\tloss: 874.310059\n",
      "Step: 90\tloss: 877.014404\n",
      "Step: 91\tloss: 877.437744\n",
      "Step: 92\tloss: 877.300171\n",
      "Step: 93\tloss: 873.665283\n",
      "Step: 94\tloss: 877.868042\n",
      "Step: 95\tloss: 877.010498\n",
      "Step: 96\tloss: 877.753723\n",
      "Step: 97\tloss: 874.200806\n",
      "Step: 98\tloss: 877.331177\n",
      "Step: 99\tloss: 877.538269\n",
      "Step: 100\tloss: 877.165710\n",
      "Step: 101\tloss: 874.122559\n",
      "Step: 102\tloss: 877.283813\n",
      "Step: 103\tloss: 877.669312\n",
      "Step: 104\tloss: 877.132385\n",
      "Step: 105\tloss: 874.623596\n",
      "Step: 106\tloss: 876.841919\n",
      "Step: 107\tloss: 877.868225\n",
      "Step: 108\tloss: 877.044189\n",
      "Step: 109\tloss: 874.146484\n",
      "Step: 110\tloss: 877.063232\n",
      "Step: 111\tloss: 877.501160\n",
      "Step: 112\tloss: 877.512939\n",
      "Step: 113\tloss: 873.771179\n",
      "Step: 114\tloss: 876.787964\n",
      "Step: 115\tloss: 877.990234\n",
      "Step: 116\tloss: 877.817078\n",
      "Step: 117\tloss: 874.348389\n",
      "Step: 118\tloss: 877.966370\n",
      "Step: 119\tloss: 876.929993\n",
      "Step: 120\tloss: 877.064697\n",
      "Step: 121\tloss: 874.228577\n",
      "Step: 122\tloss: 876.642517\n",
      "Step: 123\tloss: 877.786255\n",
      "Step: 124\tloss: 877.639709\n",
      "Step: 125\tloss: 874.597534\n",
      "Step: 126\tloss: 876.697815\n",
      "Step: 127\tloss: 877.208191\n",
      "Step: 128\tloss: 877.713318\n",
      "Step: 129\tloss: 874.381287\n",
      "Step: 130\tloss: 876.884644\n",
      "Step: 131\tloss: 877.365906\n",
      "Step: 132\tloss: 877.731384\n",
      "Step: 133\tloss: 873.568848\n",
      "Step: 134\tloss: 876.761108\n",
      "Step: 135\tloss: 878.632812\n",
      "Step: 136\tloss: 877.433105\n",
      "Step: 137\tloss: 874.444519\n",
      "Step: 138\tloss: 876.964722\n",
      "Step: 139\tloss: 877.439575\n",
      "Step: 140\tloss: 877.649292\n",
      "Step: 141\tloss: 874.141968\n",
      "Step: 142\tloss: 877.114441\n",
      "Step: 143\tloss: 878.135498\n",
      "Step: 144\tloss: 877.122681\n",
      "Step: 145\tloss: 873.835205\n",
      "Step: 146\tloss: 877.697266\n",
      "Step: 147\tloss: 877.528748\n",
      "Step: 148\tloss: 877.580322\n",
      "Step: 149\tloss: 874.486206\n",
      "Step: 150\tloss: 877.018738\n",
      "Step: 151\tloss: 877.308655\n",
      "Step: 152\tloss: 877.908875\n",
      "Step: 153\tloss: 873.880066\n",
      "Step: 154\tloss: 877.471985\n",
      "Step: 155\tloss: 877.513733\n",
      "Step: 156\tloss: 877.842346\n",
      "Step: 157\tloss: 874.315735\n",
      "Step: 158\tloss: 877.547119\n",
      "Step: 159\tloss: 877.490173\n",
      "Step: 160\tloss: 877.374207\n",
      "Step: 161\tloss: 874.561340\n",
      "Step: 162\tloss: 877.837646\n",
      "Step: 163\tloss: 877.545776\n",
      "Step: 164\tloss: 876.795959\n",
      "Step: 165\tloss: 874.329041\n",
      "Step: 166\tloss: 877.370850\n",
      "Step: 167\tloss: 876.715027\n",
      "Step: 168\tloss: 878.382080\n",
      "Step: 169\tloss: 874.838562\n",
      "Step: 170\tloss: 877.117676\n",
      "Step: 171\tloss: 877.806946\n",
      "Step: 172\tloss: 876.978333\n",
      "Step: 173\tloss: 874.086426\n",
      "Step: 174\tloss: 876.898926\n",
      "Step: 175\tloss: 877.924377\n",
      "Step: 176\tloss: 877.875671\n",
      "Step: 177\tloss: 873.902588\n",
      "Step: 178\tloss: 876.483521\n",
      "Step: 179\tloss: 877.813599\n",
      "Step: 180\tloss: 878.495178\n",
      "Step: 181\tloss: 873.910339\n",
      "Step: 182\tloss: 877.150696\n",
      "Step: 183\tloss: 878.037354\n",
      "Step: 184\tloss: 877.671143\n",
      "Step: 185\tloss: 873.839722\n",
      "Step: 186\tloss: 877.774475\n",
      "Step: 187\tloss: 877.291870\n",
      "Step: 188\tloss: 877.815674\n",
      "Step: 189\tloss: 873.745850\n",
      "Step: 190\tloss: 877.231445\n",
      "Step: 191\tloss: 877.513977\n",
      "Step: 192\tloss: 878.094116\n",
      "Step: 193\tloss: 874.029785\n",
      "Step: 194\tloss: 877.797607\n",
      "Step: 195\tloss: 877.622681\n",
      "Step: 196\tloss: 877.136353\n",
      "Step: 197\tloss: 873.590820\n",
      "Step: 198\tloss: 877.477234\n",
      "Step: 199\tloss: 878.317261\n",
      "Step: 200\tloss: 877.432800\n",
      "pval: 0.024935\n",
      "Step: 201\tloss: 875.020996\n",
      "Step: 202\tloss: 877.071228\n",
      "Step: 203\tloss: 877.431885\n",
      "Step: 204\tloss: 877.175232\n",
      "Step: 205\tloss: 874.433105\n",
      "Step: 206\tloss: 877.185059\n",
      "Step: 207\tloss: 878.094360\n",
      "Step: 208\tloss: 877.050415\n",
      "Step: 209\tloss: 873.794556\n",
      "Step: 210\tloss: 877.183960\n",
      "Step: 211\tloss: 877.772583\n",
      "Step: 212\tloss: 877.930176\n",
      "Step: 213\tloss: 874.444702\n",
      "Step: 214\tloss: 877.197021\n",
      "Step: 215\tloss: 878.375305\n",
      "Step: 216\tloss: 876.829468\n",
      "Step: 217\tloss: 874.442993\n",
      "Step: 218\tloss: 876.745911\n",
      "Step: 219\tloss: 877.938110\n",
      "Step: 220\tloss: 877.795837\n",
      "Step: 221\tloss: 873.800659\n",
      "Step: 222\tloss: 877.364624\n",
      "Step: 223\tloss: 878.373657\n",
      "Step: 224\tloss: 877.438660\n",
      "Step: 225\tloss: 874.141296\n",
      "Step: 226\tloss: 877.715515\n",
      "Step: 227\tloss: 877.449646\n",
      "Step: 228\tloss: 877.656128\n",
      "Step: 229\tloss: 874.463379\n",
      "Step: 230\tloss: 877.179016\n",
      "Step: 231\tloss: 877.293762\n",
      "Step: 232\tloss: 877.821777\n",
      "Step: 233\tloss: 873.522522\n",
      "Step: 234\tloss: 877.824219\n",
      "Step: 235\tloss: 878.030823\n",
      "Step: 236\tloss: 877.533630\n",
      "Step: 237\tloss: 874.498474\n",
      "Step: 238\tloss: 877.364990\n",
      "Step: 239\tloss: 877.219360\n",
      "Step: 240\tloss: 877.675232\n",
      "Step: 241\tloss: 874.157593\n",
      "Step: 242\tloss: 877.738403\n",
      "Step: 243\tloss: 877.608643\n",
      "Step: 244\tloss: 877.295349\n",
      "Step: 245\tloss: 874.278564\n",
      "Step: 246\tloss: 876.957214\n",
      "Step: 247\tloss: 877.519287\n",
      "Step: 248\tloss: 878.040527\n",
      "Step: 249\tloss: 874.262268\n",
      "Step: 250\tloss: 877.105286\n",
      "Step: 251\tloss: 877.929138\n",
      "Step: 252\tloss: 877.554688\n",
      "Step: 253\tloss: 874.817383\n",
      "Step: 254\tloss: 878.086914\n",
      "Step: 255\tloss: 877.252625\n",
      "Step: 256\tloss: 876.573242\n",
      "Step: 257\tloss: 873.891968\n",
      "Step: 258\tloss: 877.259949\n",
      "Step: 259\tloss: 877.806213\n",
      "Step: 260\tloss: 877.887817\n",
      "Step: 261\tloss: 874.046326\n",
      "Step: 262\tloss: 877.895020\n",
      "Step: 263\tloss: 877.548523\n",
      "Step: 264\tloss: 877.343262\n",
      "Step: 265\tloss: 873.990967\n",
      "Step: 266\tloss: 877.683289\n",
      "Step: 267\tloss: 878.279297\n",
      "Step: 268\tloss: 876.980042\n",
      "Step: 269\tloss: 874.420776\n",
      "Step: 270\tloss: 876.949402\n",
      "Step: 271\tloss: 877.833862\n",
      "Step: 272\tloss: 877.685791\n",
      "Step: 273\tloss: 874.191589\n",
      "Step: 274\tloss: 877.454651\n",
      "Step: 275\tloss: 877.132935\n",
      "Step: 276\tloss: 878.182312\n",
      "Step: 277\tloss: 873.330811\n",
      "Step: 278\tloss: 877.570068\n",
      "Step: 279\tloss: 877.522095\n",
      "Step: 280\tloss: 878.493469\n",
      "Step: 281\tloss: 874.502930\n",
      "Step: 282\tloss: 877.038086\n",
      "Step: 283\tloss: 877.697632\n",
      "Step: 284\tloss: 877.551025\n",
      "Step: 285\tloss: 874.665039\n",
      "Step: 286\tloss: 877.453796\n",
      "Step: 287\tloss: 877.498779\n",
      "Step: 288\tloss: 877.289429\n",
      "Step: 289\tloss: 874.563843\n",
      "Step: 290\tloss: 876.444580\n",
      "Step: 291\tloss: 877.826660\n",
      "Step: 292\tloss: 877.861694\n",
      "Step: 293\tloss: 874.532715\n"
     ]
    },
    {
     "name": "stdout",
     "output_type": "stream",
     "text": [
      "Step: 294\tloss: 877.174500\n",
      "Step: 295\tloss: 876.600830\n",
      "Step: 296\tloss: 878.241516\n",
      "Step: 297\tloss: 874.371460\n",
      "Step: 298\tloss: 876.768555\n",
      "Step: 299\tloss: 877.739746\n",
      "Step: 300\tloss: 877.787537\n",
      "pval: 0.623752\n",
      "Training sequence #1 complete\n",
      "Beginning with training sequence #2\n",
      "Step: 301\tloss: 876.474548\n",
      "Step: 302\tloss: 876.286011\n",
      "Step: 303\tloss: 876.257385\n",
      "Step: 304\tloss: 876.251953\n",
      "Step: 305\tloss: 876.242798\n",
      "Step: 306\tloss: 876.235779\n",
      "Step: 307\tloss: 876.231445\n",
      "Step: 308\tloss: 876.224365\n",
      "Step: 309\tloss: 876.226074\n",
      "Step: 310\tloss: 876.219666\n",
      "Step: 311\tloss: 876.215759\n",
      "Step: 312\tloss: 876.215149\n",
      "Step: 313\tloss: 876.214722\n",
      "Step: 314\tloss: 876.215515\n",
      "Step: 315\tloss: 876.213440\n",
      "Step: 316\tloss: 876.214905\n",
      "Step: 317\tloss: 876.204346\n",
      "Step: 318\tloss: 876.213867\n",
      "Step: 319\tloss: 876.204346\n",
      "Step: 320\tloss: 876.217102\n",
      "pval: 0.024419\n",
      "Step: 321\tloss: 876.202820\n",
      "Step: 322\tloss: 876.211304\n",
      "Step: 323\tloss: 876.202026\n",
      "Step: 324\tloss: 876.200195\n",
      "Step: 325\tloss: 876.195984\n",
      "Step: 326\tloss: 876.202087\n",
      "Step: 327\tloss: 876.201660\n",
      "Step: 328\tloss: 876.198975\n",
      "Step: 329\tloss: 876.196228\n",
      "Step: 330\tloss: 876.201965\n",
      "pval: 0.000004\n",
      "Step: 331\tloss: 876.200684\n",
      "Step: 332\tloss: 876.209717\n",
      "Step: 333\tloss: 876.200562\n",
      "Step: 334\tloss: 876.209412\n",
      "Step: 335\tloss: 876.200378\n",
      "Step: 336\tloss: 876.193970\n",
      "Step: 337\tloss: 876.194580\n",
      "Step: 338\tloss: 876.198853\n",
      "Step: 339\tloss: 876.197327\n",
      "Step: 340\tloss: 876.195435\n",
      "pval: 0.283018\n",
      "Training sequence #2 complete\n"
     ]
    }
   ],
   "source": [
    "estimator.train_sequence(\"AUTO\")"
   ]
  },
  {
   "cell_type": "markdown",
   "metadata": {},
   "source": [
    "## Obtaining the results\n",
    "\n",
    "The fitted parameters can be retrieved by calling the corresponding parameters of `estimator`:"
   ]
  },
  {
   "cell_type": "code",
   "execution_count": 15,
   "metadata": {},
   "outputs": [
    {
     "data": {
      "text/plain": [
       "<xarray.DataArray (design_loc_params: 5, features: 100)>\n",
       "array([[  8.896719e+00,   8.968782e+00,   8.630840e+00, ...,   9.043062e+00,\n",
       "          6.607889e+00,   6.775296e+00],\n",
       "       [  5.645462e-01,   1.241246e-01,   2.213196e-01, ...,   2.810317e-01,\n",
       "          4.911180e-01,   2.649933e-01],\n",
       "       [ -5.622654e-01,   5.468256e-01,  -3.109781e-01, ...,  -6.594287e-02,\n",
       "         -2.112963e-01,   3.426668e-03],\n",
       "       [  1.686629e-01,   1.246395e-01,   3.659815e-01, ...,   3.122060e-01,\n",
       "          2.498589e-02,   2.529985e-01],\n",
       "       [ -3.719978e-01,   4.811932e-01,   2.587149e-01, ...,   5.567902e-01,\n",
       "         -6.043478e-01,   3.910311e-01]], dtype=float32)\n",
       "Coordinates:\n",
       "  * design_loc_params  (design_loc_params) <U14 'Intercept' 'batch[T.1]' ...\n",
       "    feature_allzero    (features) bool False False False False False False ...\n",
       "  * features           (features) int64 0 1 2 3 4 5 6 7 8 9 10 11 12 13 14 ..."
      ]
     },
     "execution_count": 15,
     "metadata": {},
     "output_type": "execute_result"
    }
   ],
   "source": [
    "estimator.par_link_loc"
   ]
  },
  {
   "cell_type": "code",
   "execution_count": 16,
   "metadata": {},
   "outputs": [
    {
     "data": {
      "text/plain": [
       "<xarray.DataArray (design_scale_params: 5, features: 100)>\n",
       "array([[ 1.538816,  1.700791,  1.759085, ...,  1.132266,  0.982784,  1.759065],\n",
       "       [ 0.258989, -0.418664,  0.513659, ...,  0.464592,  0.323254,  0.236866],\n",
       "       [ 0.271992,  0.069093, -0.720841, ...,  0.636362,  0.721407, -0.598967],\n",
       "       [-0.376817, -0.147543, -0.497577, ...,  0.398896, -0.26284 ,  0.095415],\n",
       "       [-0.407618, -0.126005, -0.580147, ..., -0.578385,  0.373495, -0.049214]], dtype=float32)\n",
       "Coordinates:\n",
       "  * design_scale_params  (design_scale_params) <U14 'Intercept' 'batch[T.1]' ...\n",
       "    feature_allzero      (features) bool False False False False False False ...\n",
       "  * features             (features) int64 0 1 2 3 4 5 6 7 8 9 10 11 12 13 14 ..."
      ]
     },
     "execution_count": 16,
     "metadata": {},
     "output_type": "execute_result"
    }
   ],
   "source": [
    "estimator.par_link_scale"
   ]
  },
  {
   "cell_type": "markdown",
   "metadata": {},
   "source": [
    "## Comparing the results with the simulated data:"
   ]
  },
  {
   "cell_type": "code",
   "execution_count": 17,
   "metadata": {},
   "outputs": [
    {
     "name": "stdout",
     "output_type": "stream",
     "text": [
      "Root mean squared deviation of location: 0.03\n",
      "Root mean squared deviation of scale:    0.08\n"
     ]
    }
   ],
   "source": [
    "locdiff = glm.utils.stats.rmsd(estimator.par_link_loc, sim.par_link_loc)\n",
    "print(\"Root mean squared deviation of location: %.2f\" % locdiff)\n",
    "\n",
    "scalediff = glm.utils.stats.rmsd(estimator.par_link_scale, sim.par_link_scale)\n",
    "print(\"Root mean squared deviation of scale:    %.2f\" % scalediff)"
   ]
  }
 ],
 "metadata": {
  "kernelspec": {
   "display_name": "Python 3",
   "language": "python",
   "name": "python3"
  },
  "language_info": {
   "codemirror_mode": {
    "name": "ipython",
    "version": 3
   },
   "file_extension": ".py",
   "mimetype": "text/x-python",
   "name": "python",
   "nbconvert_exporter": "python",
   "pygments_lexer": "ipython3",
   "version": "3.6.5"
  }
 },
 "nbformat": 4,
 "nbformat_minor": 2
}
