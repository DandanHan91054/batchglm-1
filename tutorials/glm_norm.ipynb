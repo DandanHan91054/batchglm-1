{
 "cells": [
  {
   "cell_type": "markdown",
   "metadata": {
    "collapsed": true
   },
   "source": [
    "# Tests for Normaldistribution (glm_norm)"
   ]
  },
  {
   "cell_type": "code",
   "execution_count": 1,
   "metadata": {},
   "outputs": [],
   "source": [
    "import os\n",
    "import datetime\n",
    "import numpy as np\n",
    "import pprint\n",
    "\n",
    "import logging\n",
    "import warnings\n",
    "\n",
    "%load_ext autoreload\n",
    "%autoreload 2"
   ]
  },
  {
   "cell_type": "code",
   "execution_count": 2,
   "metadata": {},
   "outputs": [],
   "source": [
    "import batchglm.api as glm\n",
    "\n",
    "np.warnings.filterwarnings(\"ignore\")\n",
    "warnings.filterwarnings(\"ignore\", category=DeprecationWarning, module=\"tensorflow\")\n",
    "logging.getLogger(\"tensorflow\").setLevel(logging.INFO)\n",
    "logging.getLogger(\"batchglm\").setLevel(logging.INFO)\n",
    "logging.getLogger(\"diffxpy\").setLevel(logging.INFO)"
   ]
  },
  {
   "cell_type": "markdown",
   "metadata": {},
   "source": [
    "## Import batchglm"
   ]
  },
  {
   "cell_type": "code",
   "execution_count": 3,
   "metadata": {},
   "outputs": [],
   "source": [
    "#import batchglm.api as glm"
   ]
  },
  {
   "cell_type": "markdown",
   "metadata": {},
   "source": [
    "## Sample from Normal Distribution"
   ]
  },
  {
   "cell_type": "code",
   "execution_count": 4,
   "metadata": {},
   "outputs": [],
   "source": [
    "norm = glm.utils.random.Normal(500, 0.7)"
   ]
  },
  {
   "cell_type": "code",
   "execution_count": 5,
   "metadata": {},
   "outputs": [
    {
     "data": {
      "text/plain": [
       "array([499.81300155, 499.67698884, 501.14545915, 500.03680682,\n",
       "       499.91719565, 500.55032355, 500.09589318, 499.8435251 ,\n",
       "       499.59043686, 500.5751665 ])"
      ]
     },
     "execution_count": 5,
     "metadata": {},
     "output_type": "execute_result"
    }
   ],
   "source": [
    "norm.sample(10)"
   ]
  },
  {
   "cell_type": "markdown",
   "metadata": {},
   "source": [
    "## Simulate some Data"
   ]
  },
  {
   "cell_type": "code",
   "execution_count": 6,
   "metadata": {},
   "outputs": [],
   "source": [
    "sim = glm.models.glm_norm.Simulator()"
   ]
  },
  {
   "cell_type": "code",
   "execution_count": 7,
   "metadata": {},
   "outputs": [],
   "source": [
    "sim.generate()"
   ]
  },
  {
   "cell_type": "code",
   "execution_count": 8,
   "metadata": {},
   "outputs": [
    {
     "data": {
      "text/plain": [
       "<xarray.DataArray 'X' (observations: 1000, features: 100)>\n",
       "array([[1825.736317, 1717.151464, 2058.068455, ..., 1338.386091, 1553.415151,\n",
       "        1473.683407],\n",
       "       [1824.984823, 1716.314222, 2053.891666, ..., 1338.511869, 1552.190071,\n",
       "        1473.468847],\n",
       "       [1822.978204, 1715.913483, 2055.33396 , ..., 1339.48997 , 1552.839886,\n",
       "        1473.543676],\n",
       "       ...,\n",
       "       [1824.026528, 1715.670734, 2057.29308 , ..., 1338.608833, 1553.574349,\n",
       "        1474.881435],\n",
       "       [1823.777335, 1717.562966, 2055.145852, ..., 1338.979296, 1553.043821,\n",
       "        1476.517067],\n",
       "       [1825.012217, 1715.266316, 2057.753804, ..., 1339.927605, 1553.114601,\n",
       "        1475.45076 ]])\n",
       "Dimensions without coordinates: observations, features"
      ]
     },
     "execution_count": 8,
     "metadata": {},
     "output_type": "execute_result"
    }
   ],
   "source": [
    "sim.X"
   ]
  },
  {
   "cell_type": "code",
   "execution_count": 9,
   "metadata": {},
   "outputs": [
    {
     "data": {
      "text/plain": [
       "<xarray.DataArray (observations: 1000, features: 100)>\n",
       "array([[1824.072639, 1716.272203, 2056.038906, ..., 1338.973189, 1553.245036,\n",
       "        1474.503634],\n",
       "       [1824.072639, 1716.272203, 2056.038906, ..., 1338.973189, 1553.245036,\n",
       "        1474.503634],\n",
       "       [1824.072639, 1716.272203, 2056.038906, ..., 1338.973189, 1553.245036,\n",
       "        1474.503634],\n",
       "       ...,\n",
       "       [1824.072639, 1716.272203, 2056.038906, ..., 1338.973189, 1553.245036,\n",
       "        1474.503634],\n",
       "       [1824.072639, 1716.272203, 2056.038906, ..., 1338.973189, 1553.245036,\n",
       "        1474.503634],\n",
       "       [1824.072639, 1716.272203, 2056.038906, ..., 1338.973189, 1553.245036,\n",
       "        1474.503634]])\n",
       "Dimensions without coordinates: observations, features"
      ]
     },
     "execution_count": 9,
     "metadata": {},
     "output_type": "execute_result"
    }
   ],
   "source": [
    "sim.mean"
   ]
  },
  {
   "cell_type": "code",
   "execution_count": 10,
   "metadata": {},
   "outputs": [
    {
     "data": {
      "text/plain": [
       "<xarray.DataArray (design_loc_params: 5, features: 100)>\n",
       "array([[1.824073e+03, 1.716272e+03, 2.056039e+03, ..., 1.338973e+03,\n",
       "        1.553245e+03, 1.474504e+03],\n",
       "       [1.000000e-08, 1.000000e-08, 1.000000e-08, ..., 1.000000e-08,\n",
       "        1.000000e-08, 1.000000e-08],\n",
       "       [1.000000e-08, 1.000000e-08, 1.000000e-08, ..., 1.000000e-08,\n",
       "        1.000000e-08, 1.000000e-08],\n",
       "       [1.000000e-08, 1.000000e-08, 1.000000e-08, ..., 1.000000e-08,\n",
       "        1.000000e-08, 1.000000e-08],\n",
       "       [1.000000e-08, 1.000000e-08, 1.000000e-08, ..., 1.000000e-08,\n",
       "        1.000000e-08, 1.000000e-08]])\n",
       "Coordinates:\n",
       "  * design_loc_params  (design_loc_params) object 'Intercept' ... 'batch[T.3]'\n",
       "Dimensions without coordinates: features"
      ]
     },
     "execution_count": 10,
     "metadata": {},
     "output_type": "execute_result"
    }
   ],
   "source": [
    "sim.par_link_loc"
   ]
  },
  {
   "cell_type": "code",
   "execution_count": 11,
   "metadata": {},
   "outputs": [
    {
     "data": {
      "text/plain": [
       "<xarray.DataArray (design_scale_params: 5, features: 100)>\n",
       "array([[0., 0., 0., ..., 0., 0., 0.],\n",
       "       [0., 0., 0., ..., 0., 0., 0.],\n",
       "       [0., 0., 0., ..., 0., 0., 0.],\n",
       "       [0., 0., 0., ..., 0., 0., 0.],\n",
       "       [0., 0., 0., ..., 0., 0., 0.]])\n",
       "Coordinates:\n",
       "  * design_scale_params  (design_scale_params) object 'Intercept' ... 'batch[T.3]'\n",
       "Dimensions without coordinates: features"
      ]
     },
     "execution_count": 11,
     "metadata": {},
     "output_type": "execute_result"
    }
   ],
   "source": [
    "sim.par_link_scale"
   ]
  },
  {
   "cell_type": "markdown",
   "metadata": {},
   "source": [
    "## Set up Estimator"
   ]
  },
  {
   "cell_type": "code",
   "execution_count": 12,
   "metadata": {},
   "outputs": [],
   "source": [
    "X = sim.X\n",
    "design_loc = sim.design_loc\n",
    "design_scale = sim.design_scale\n",
    "\n",
    "# input data\n",
    "input_data = glm.models.glm_norm.InputData.new(data=X, design_loc=design_loc, design_scale=design_scale)"
   ]
  },
  {
   "cell_type": "code",
   "execution_count": 13,
   "metadata": {},
   "outputs": [],
   "source": [
    "estimator = glm.models.glm_norm.Estimator(input_data, init_a = \"closed_form\", init_b = \"standard\", provide_optimizers = {\n",
    "                \"gd\": True,\n",
    "                \"adam\": True,\n",
    "                \"adagrad\": True,\n",
    "                \"rmsprop\": True,\n",
    "                \"nr\": True,\n",
    "                \"nr_tr\": True,\n",
    "                \"irls\": False,\n",
    "                \"irls_gd\": False,\n",
    "                \"irls_tr\": False,\n",
    "                \"irls_gd_tr\": False,\n",
    "            })"
   ]
  },
  {
   "cell_type": "code",
   "execution_count": 14,
   "metadata": {},
   "outputs": [
    {
     "name": "stdout",
     "output_type": "stream",
     "text": [
      "INFO:tensorflow:Graph was finalized.\n",
      "INFO:tensorflow:Running local_init_op.\n",
      "INFO:tensorflow:Done running local_init_op.\n"
     ]
    }
   ],
   "source": [
    "estimator.initialize()"
   ]
  },
  {
   "cell_type": "code",
   "execution_count": 15,
   "metadata": {},
   "outputs": [
    {
     "name": "stdout",
     "output_type": "stream",
     "text": [
      "INFO:tensorflow:Step: 0 loss: 74444.007192 models converged 0\n",
      "INFO:tensorflow:Step: 1 loss: 74444.007192, converged 100 in 0.797 sec., updated 0, {f: 0, g: 100, x: 0}\n"
     ]
    }
   ],
   "source": [
    "estimator.train_sequence(training_strategy=[\n",
    "            {\n",
    "                \"learning_rate\": 1,\n",
    "                \"convergence_criteria\": \"all_converged_ll\",\n",
    "                \"stopping_criteria\": 1e-6,\n",
    "                \"use_batching\": False,\n",
    "                \"optim_algo\": \"nr_tr\",\n",
    "            },\n",
    "        ])"
   ]
  },
  {
   "cell_type": "code",
   "execution_count": 16,
   "metadata": {},
   "outputs": [],
   "source": [
    "store = estimator.finalize()"
   ]
  },
  {
   "cell_type": "code",
   "execution_count": 22,
   "metadata": {},
   "outputs": [
    {
     "data": {
      "text/plain": [
       "array([283.91308516, 283.91308516, 283.91308516, 283.91308516,\n",
       "       283.91308516, 283.91308516, 283.91308516, 283.91308516,\n",
       "       283.91308516, 283.91308516, 283.91308516, 283.91308516,\n",
       "       283.91308516, 283.91308516, 283.91308516, 283.91308516,\n",
       "       283.91308516, 283.91308516, 283.91308516, 283.91308516,\n",
       "       283.91308516, 283.91308516, 283.91308516, 283.91308516,\n",
       "       283.91308516, 283.91308516, 283.91308516, 283.91308516,\n",
       "       283.91308516, 283.91308516, 283.91308516, 283.91308516,\n",
       "       283.91308516, 283.91308516, 283.91308516, 283.91308516,\n",
       "       283.91308516, 283.91308516, 283.91308516, 283.91308516,\n",
       "       283.91308516, 283.91308516, 283.91308516, 283.91308516,\n",
       "       283.91308516, 283.91308516, 283.91308516, 283.91308516,\n",
       "       283.91308516, 283.91308516, 283.91308516, 283.91308516,\n",
       "       283.91308516, 283.91308516, 283.91308516, 283.91308516,\n",
       "       283.91308516, 283.91308516, 283.91308516, 283.91308516,\n",
       "       283.91308516, 283.91308516, 283.91308516, 283.91308516,\n",
       "       283.91308516, 283.91308516, 283.91308516, 283.91308516,\n",
       "       283.91308516, 283.91308516, 283.91308516, 283.91308516,\n",
       "       283.91308516, 283.91308516, 283.91308516, 283.91308516,\n",
       "       283.91308516, 283.91308516, 283.91308516, 283.91308516,\n",
       "       283.91308516, 283.91308516, 283.91308516, 283.91308516,\n",
       "       283.91308516, 283.91308516, 283.91308516, 283.91308516,\n",
       "       283.91308516, 283.91308516, 283.91308516, 283.91308516,\n",
       "       283.91308516, 283.91308516, 283.91308516, 283.91308516,\n",
       "       283.91308516, 283.91308516, 283.91308516, 283.91308516])"
      ]
     },
     "execution_count": 22,
     "metadata": {},
     "output_type": "execute_result"
    }
   ],
   "source": [
    "store.a[0,:]"
   ]
  },
  {
   "cell_type": "code",
   "execution_count": 18,
   "metadata": {},
   "outputs": [
    {
     "data": {
      "text/plain": [
       "<xarray.DataArray (features: 100)>\n",
       "array([1824.072639, 1716.272203, 2056.038906, 2120.103698, 1532.846973,\n",
       "       1528.466331, 1261.464591, 1777.739713, 1967.850575, 1292.692008,\n",
       "       1581.014622, 1482.277993, 1019.19021 , 1278.826588, 1346.757696,\n",
       "       1634.915703, 1886.123402, 1599.484147, 1411.332042, 1212.843183,\n",
       "       1123.296401, 1280.61181 , 1002.096508, 1735.527243, 2094.811979,\n",
       "       1060.903049, 1513.869454, 1707.829402, 1142.400485, 1898.505965,\n",
       "       1458.644519, 1481.455326, 1221.431544, 1609.599   , 1682.243177,\n",
       "       1566.522661, 1719.416092, 1195.099899, 1864.987071, 1612.083425,\n",
       "       1394.067084, 1622.161249, 1742.31738 , 1109.616013, 1112.524298,\n",
       "       2001.788263, 1634.033024, 1349.785632, 1466.259668, 1626.582973,\n",
       "       1407.379542, 1904.402993, 2026.989203, 1775.926046, 1638.616197,\n",
       "       1195.298279, 1873.293301, 1434.340039, 2008.238807, 1348.614909,\n",
       "       1752.291047, 1976.446388, 1782.418839, 1299.910167, 1023.587471,\n",
       "       1892.333133, 1021.148799, 1546.984176, 1256.666408, 1009.426163,\n",
       "       1964.851224, 1413.946167, 2060.189118, 1409.276563, 2067.781649,\n",
       "       1875.250231, 1436.196648, 1207.084354, 1067.162856, 1257.987243,\n",
       "       1054.26346 , 1808.442168, 1950.830476, 2134.446969, 1899.954778,\n",
       "       1795.343147, 1947.588493, 1901.376707, 1033.326355, 1761.915713,\n",
       "       2091.436487, 1481.564375, 1976.725807, 1572.996912, 1309.794487,\n",
       "       1416.533017, 1988.814856, 1338.973189, 1553.245036, 1474.503634])\n",
       "Coordinates:\n",
       "    design_loc_params  <U9 'Intercept'\n",
       "Dimensions without coordinates: features"
      ]
     },
     "execution_count": 18,
     "metadata": {},
     "output_type": "execute_result"
    }
   ],
   "source": [
    "sim.a[0, :]"
   ]
  },
  {
   "cell_type": "code",
   "execution_count": 19,
   "metadata": {},
   "outputs": [
    {
     "data": {
      "text/plain": [
       "<xarray.DataArray (features: 100)>\n",
       "array([1540.159554, 1432.359118, 1772.125821, 1836.190613, 1248.933888,\n",
       "       1244.553246,  977.551506, 1493.826628, 1683.93749 , 1008.778923,\n",
       "       1297.101536, 1198.364908,  735.277125,  994.913503, 1062.844611,\n",
       "       1351.002618, 1602.210317, 1315.571062, 1127.418956,  928.930098,\n",
       "        839.383316,  996.698724,  718.183423, 1451.614157, 1810.898894,\n",
       "        776.989964, 1229.956369, 1423.916317,  858.4874  , 1614.592879,\n",
       "       1174.731434, 1197.542241,  937.518459, 1325.685915, 1398.330092,\n",
       "       1282.609576, 1435.503007,  911.186814, 1581.073985, 1328.170339,\n",
       "       1110.153999, 1338.248164, 1458.404295,  825.702928,  828.611213,\n",
       "       1717.875178, 1350.119939, 1065.872547, 1182.346583, 1342.669888,\n",
       "       1123.466457, 1620.489908, 1743.076118, 1492.012961, 1354.703112,\n",
       "        911.385194, 1589.380216, 1150.426954, 1724.325722, 1064.701824,\n",
       "       1468.377962, 1692.533303, 1498.505754, 1015.997082,  739.674386,\n",
       "       1608.420048,  737.235714, 1263.071091,  972.753323,  725.513078,\n",
       "       1680.938139, 1130.033081, 1776.276033, 1125.363477, 1783.868564,\n",
       "       1591.337146, 1152.283563,  923.171269,  783.24977 ,  974.074158,\n",
       "        770.350375, 1524.529083, 1666.917391, 1850.533884, 1616.041693,\n",
       "       1511.430062, 1663.675408, 1617.463621,  749.41327 , 1478.002628,\n",
       "       1807.523402, 1197.65129 , 1692.812722, 1289.083826, 1025.881402,\n",
       "       1132.619932, 1704.901771, 1055.060104, 1269.331951, 1190.590548])\n",
       "Coordinates:\n",
       "    design_loc_params  <U9 'Intercept'\n",
       "Dimensions without coordinates: features"
      ]
     },
     "execution_count": 19,
     "metadata": {},
     "output_type": "execute_result"
    }
   ],
   "source": [
    "sim.a[0, :] - store.a[0, :]"
   ]
  },
  {
   "cell_type": "code",
   "execution_count": 20,
   "metadata": {},
   "outputs": [
    {
     "data": {
      "text/plain": [
       "<xarray.DataArray 'X' ()>\n",
       "array(1569.870755)"
      ]
     },
     "execution_count": 20,
     "metadata": {},
     "output_type": "execute_result"
    }
   ],
   "source": [
    "sim.X.mean()"
   ]
  },
  {
   "cell_type": "code",
   "execution_count": 21,
   "metadata": {},
   "outputs": [
    {
     "data": {
      "text/plain": [
       "<xarray.DataArray 'a_var' (loc_params: 5, features: 100)>\n",
       "array([[1.824073e+03, 1.716272e+03, 2.056039e+03, ..., 1.338973e+03,\n",
       "        1.553245e+03, 1.474504e+03],\n",
       "       [1.000000e-08, 1.000000e-08, 1.000000e-08, ..., 1.000000e-08,\n",
       "        1.000000e-08, 1.000000e-08],\n",
       "       [1.000000e-08, 1.000000e-08, 1.000000e-08, ..., 1.000000e-08,\n",
       "        1.000000e-08, 1.000000e-08],\n",
       "       [1.000000e-08, 1.000000e-08, 1.000000e-08, ..., 1.000000e-08,\n",
       "        1.000000e-08, 1.000000e-08],\n",
       "       [1.000000e-08, 1.000000e-08, 1.000000e-08, ..., 1.000000e-08,\n",
       "        1.000000e-08, 1.000000e-08]])\n",
       "Coordinates:\n",
       "  * loc_params  (loc_params) <U14 'Intercept' 'condition[T.1]' ... 'batch[T.3]'\n",
       "Dimensions without coordinates: features"
      ]
     },
     "execution_count": 21,
     "metadata": {},
     "output_type": "execute_result"
    }
   ],
   "source": [
    "sim.a_var"
   ]
  },
  {
   "cell_type": "code",
   "execution_count": null,
   "metadata": {},
   "outputs": [],
   "source": []
  },
  {
   "cell_type": "code",
   "execution_count": null,
   "metadata": {},
   "outputs": [],
   "source": []
  },
  {
   "cell_type": "code",
   "execution_count": null,
   "metadata": {},
   "outputs": [],
   "source": []
  },
  {
   "cell_type": "code",
   "execution_count": null,
   "metadata": {},
   "outputs": [],
   "source": []
  }
 ],
 "metadata": {
  "kernelspec": {
   "display_name": "Python (batchglm)",
   "language": "python",
   "name": "batchglm"
  },
  "language_info": {
   "codemirror_mode": {
    "name": "ipython",
    "version": 3
   },
   "file_extension": ".py",
   "mimetype": "text/x-python",
   "name": "python",
   "nbconvert_exporter": "python",
   "pygments_lexer": "ipython3",
   "version": "3.6.8"
  }
 },
 "nbformat": 4,
 "nbformat_minor": 1
}
