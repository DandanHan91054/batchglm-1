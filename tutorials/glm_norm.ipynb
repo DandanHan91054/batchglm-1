{
 "cells": [
  {
   "cell_type": "markdown",
   "metadata": {
    "collapsed": true
   },
   "source": [
    "# Tests for Normaldistribution (glm_norm)"
   ]
  },
  {
   "cell_type": "markdown",
   "metadata": {},
   "source": [
    "## Import batchglm"
   ]
  },
  {
   "cell_type": "code",
   "execution_count": 1,
   "metadata": {},
   "outputs": [],
   "source": [
    "import batchglm.api as glm"
   ]
  },
  {
   "cell_type": "markdown",
   "metadata": {},
   "source": [
    "## Sample from Normal Distribution"
   ]
  },
  {
   "cell_type": "code",
   "execution_count": 2,
   "metadata": {},
   "outputs": [],
   "source": [
    "norm = glm.utils.random.Normal(500, 0.7)"
   ]
  },
  {
   "cell_type": "code",
   "execution_count": 3,
   "metadata": {},
   "outputs": [
    {
     "data": {
      "text/plain": [
       "array([498.81220635, 499.6507498 , 498.87137306, 499.60301927,\n",
       "       500.6274368 , 499.55720288, 500.26555201, 499.7246484 ,\n",
       "       499.47013197, 500.47771238])"
      ]
     },
     "execution_count": 3,
     "metadata": {},
     "output_type": "execute_result"
    }
   ],
   "source": [
    "norm.sample(10)"
   ]
  },
  {
   "cell_type": "markdown",
   "metadata": {},
   "source": [
    "## Simulate some Data"
   ]
  },
  {
   "cell_type": "code",
   "execution_count": 2,
   "metadata": {},
   "outputs": [],
   "source": [
    "sim = glm.models.glm_norm.Simulator()"
   ]
  },
  {
   "cell_type": "code",
   "execution_count": 10,
   "metadata": {},
   "outputs": [],
   "source": [
    "sim.generate()"
   ]
  },
  {
   "cell_type": "code",
   "execution_count": 11,
   "metadata": {},
   "outputs": [
    {
     "data": {
      "text/plain": [
       "<xarray.DataArray 'X' (observations: 1000, features: 100)>\n",
       "array([[515.878749, 505.115542, 464.8847  , ..., 513.568395, 545.952475,\n",
       "        484.128537],\n",
       "       [515.276004, 507.807106, 466.066018, ..., 515.542401, 545.857157,\n",
       "        486.921158],\n",
       "       [514.03148 , 504.083918, 465.951999, ..., 514.887351, 546.109544,\n",
       "        485.488721],\n",
       "       ...,\n",
       "       [511.237142, 505.850286, 472.324455, ..., 520.201227, 547.050678,\n",
       "        491.45296 ],\n",
       "       [517.429221, 506.312295, 467.379809, ..., 519.196043, 550.217428,\n",
       "        486.35296 ],\n",
       "       [518.145111, 508.511771, 466.062051, ..., 514.239254, 543.586163,\n",
       "        490.513002]])\n",
       "Dimensions without coordinates: observations, features"
      ]
     },
     "execution_count": 11,
     "metadata": {},
     "output_type": "execute_result"
    }
   ],
   "source": [
    "sim.X"
   ]
  },
  {
   "cell_type": "code",
   "execution_count": 9,
   "metadata": {},
   "outputs": [
    {
     "data": {
      "text/plain": [
       "<xarray.DataArray (observations: 1000, features: 100)>\n",
       "array([[ 0.467682, -0.524545, -0.915007, ..., -0.967671, -0.311905,  0.843839],\n",
       "       [ 1.59176 ,  1.786959, -0.025886, ..., -2.688454,  1.24129 , -1.48183 ],\n",
       "       [ 0.059762,  0.355035, -0.295983, ...,  2.256162,  0.297215, -0.841416],\n",
       "       ...,\n",
       "       [-1.809512,  2.185521, -0.815438, ...,  3.122467, -2.080335, -3.937895],\n",
       "       [-1.401406,  0.472041, -1.213392, ...,  1.976149, -6.482258,  1.566594],\n",
       "       [ 0.892894, -3.088314, -1.275129, ..., -5.184083,  4.446354, -1.929366]])\n",
       "Dimensions without coordinates: observations, features"
      ]
     },
     "execution_count": 9,
     "metadata": {},
     "output_type": "execute_result"
    }
   ],
   "source": [
    "sim.X - sim.mean"
   ]
  },
  {
   "cell_type": "code",
   "execution_count": null,
   "metadata": {},
   "outputs": [],
   "source": []
  }
 ],
 "metadata": {
  "kernelspec": {
   "display_name": "Python (batchglm)",
   "language": "python",
   "name": "batchglm"
  },
  "language_info": {
   "codemirror_mode": {
    "name": "ipython",
    "version": 3
   },
   "file_extension": ".py",
   "mimetype": "text/x-python",
   "name": "python",
   "nbconvert_exporter": "python",
   "pygments_lexer": "ipython3",
   "version": "3.6.8"
  }
 },
 "nbformat": 4,
 "nbformat_minor": 1
}
