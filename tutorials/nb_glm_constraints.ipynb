{
 "cells": [
  {
   "cell_type": "code",
   "execution_count": 1,
   "metadata": {},
   "outputs": [],
   "source": [
    "import os\n",
    "import datetime\n",
    "import numpy as np\n",
    "import xarray as xa\n",
    "import pprint\n",
    "\n",
    "import logging\n",
    "import warnings\n",
    "\n",
    "logging.getLogger(\"tensorflow\").setLevel(logging.INFO)\n",
    "logging.getLogger(\"batchglm\").setLevel(logging.INFO)"
   ]
  },
  {
   "cell_type": "markdown",
   "metadata": {},
   "source": [
    "## Import batchglm"
   ]
  },
  {
   "cell_type": "code",
   "execution_count": 2,
   "metadata": {},
   "outputs": [],
   "source": [
    "import batchglm.api as glm"
   ]
  },
  {
   "cell_type": "code",
   "execution_count": 3,
   "metadata": {},
   "outputs": [],
   "source": [
    "# just to ignore some tensorflow warnings; just ignore this line\n",
    "warnings.filterwarnings(\"ignore\", category=DeprecationWarning, module=\"tensorflow\")"
   ]
  },
  {
   "cell_type": "markdown",
   "metadata": {},
   "source": [
    "# Introduction"
   ]
  },
  {
   "cell_type": "markdown",
   "metadata": {},
   "source": [
    "Perfect confounding occurs frequently in differential expression assays, often if biological replicates cannot be spread acrodd conditions: This is often the case with animals or patients. Perfect confoudnding implies that the corresponding design matrix is not full rank and the model underdetermined. This can be circumvented by certain tricks which essentially regress repplicates to reference replicates. We believe that this is firstly undesirable as the condition coefficients depend on the identity of the reference replicates and accordingly on the ordering of the replicates, which has no experiental meaning and is purely a result of sample labels. Secondly, such tricks may be hard to come up with in hard cases such as presented in example 2. Here, we show how one can solve both problems by constraining parameterse in the model. "
   ]
  },
  {
   "cell_type": "markdown",
   "metadata": {},
   "source": [
    "# Example 1: easy"
   ]
  },
  {
   "cell_type": "markdown",
   "metadata": {},
   "source": [
    "## Simulate data"
   ]
  },
  {
   "cell_type": "markdown",
   "metadata": {},
   "source": [
    "In this example, we have 4 biological replicates (animals, patients, cell culture replicates etc.) in a treatment experiment: 2 in each condition (treated, untreated). Accordingly, there is perfect confounding at this level. We circumvent this by constraining the biological replicate coefficients to not model mean trends. "
   ]
  },
  {
   "cell_type": "markdown",
   "metadata": {},
   "source": [
    "### Define design matrices"
   ]
  },
  {
   "cell_type": "code",
   "execution_count": 4,
   "metadata": {},
   "outputs": [
    {
     "name": "stdout",
     "output_type": "stream",
     "text": [
      "[[1. 0. 0. 0. 1. 1.]\n",
      " [1. 0. 0. 1. 0. 1.]\n",
      " [1. 0. 1. 0. 0. 0.]\n",
      " [1. 1. 0. 0. 0. 0.]]\n"
     ]
    }
   ],
   "source": [
    "ncells = 2000\n",
    "dmat = np.zeros([ncells, 6])\n",
    "dmat[:,0] = 1\n",
    "dmat[:500,1] = 1 # bio rep 1\n",
    "dmat[500:1000,2] = 1 # bio rep 2\n",
    "dmat[1000:1500,3] = 1 # bio rep 3\n",
    "dmat[1500:2000,4] = 1 # bio rep 4\n",
    "dmat[1000:2000,5] = 1 # condition effect\n",
    "print(np.unique(dmat, axis=0))"
   ]
  },
  {
   "cell_type": "code",
   "execution_count": 5,
   "metadata": {},
   "outputs": [],
   "source": [
    "sim = glm.models.nb_glm.Simulator(num_features=100)"
   ]
  },
  {
   "cell_type": "code",
   "execution_count": 6,
   "metadata": {},
   "outputs": [],
   "source": [
    "sim.parse_dmat_loc(dmat = dmat)\n",
    "sim.parse_dmat_scale(dmat = dmat)\n",
    "sim.generate_params()\n",
    "sim.generate_data()"
   ]
  },
  {
   "cell_type": "markdown",
   "metadata": {},
   "source": [
    "### Simulated model data:"
   ]
  },
  {
   "cell_type": "code",
   "execution_count": 7,
   "metadata": {
    "scrolled": true
   },
   "outputs": [
    {
     "data": {
      "text/plain": [
       "<xarray.DataArray 'X' (observations: 2000, features: 100)>\n",
       "array([[  865, 12768,   917, ..., 12761,  2869,  2481],\n",
       "       [ 2751, 10937,   674, ...,  7563,  8906,  1191],\n",
       "       [  427, 15638,   702, ...,  4856,  3458,  4536],\n",
       "       ...,\n",
       "       [ 4843, 15996,   865, ...,  7491, 15674,  5349],\n",
       "       [ 1620, 17567,   811, ...,  6933, 19805,  4601],\n",
       "       [14987, 26191,   723, ...,  7653, 16142,  3981]])\n",
       "Dimensions without coordinates: observations, features"
      ]
     },
     "execution_count": 7,
     "metadata": {},
     "output_type": "execute_result"
    }
   ],
   "source": [
    "sim.X"
   ]
  },
  {
   "cell_type": "code",
   "execution_count": 8,
   "metadata": {},
   "outputs": [
    {
     "data": {
      "text/plain": [
       "array([[1., 0., 0., 0., 1., 1.],\n",
       "       [1., 0., 0., 1., 0., 1.],\n",
       "       [1., 0., 1., 0., 0., 0.],\n",
       "       [1., 1., 0., 0., 0., 0.]])"
      ]
     },
     "execution_count": 8,
     "metadata": {},
     "output_type": "execute_result"
    }
   ],
   "source": [
    "np.unique(sim.design_loc, axis=0)"
   ]
  },
  {
   "cell_type": "markdown",
   "metadata": {},
   "source": [
    "### The parameters used to generate this data:"
   ]
  },
  {
   "cell_type": "code",
   "execution_count": 9,
   "metadata": {},
   "outputs": [
    {
     "data": {
      "text/plain": [
       "<xarray.DataArray 'a' (design_loc_params: 6, features: 100)>\n",
       "array([[ 7.569248,  8.890025,  7.028238, ...,  8.353432,  8.723765,  8.625727],\n",
       "       [-0.317375,  0.478504, -0.357971, ...,  0.475232, -0.101983, -0.551926],\n",
       "       [ 0.390059,  0.332053,  0.379956, ...,  0.118794,  0.201195,  0.275354],\n",
       "       [ 0.164272, -0.255698,  0.552759, ..., -0.483279,  0.479711,  0.477822],\n",
       "       [ 0.180245,  0.492293, -0.109394, ...,  0.569809,  0.527508, -0.414742],\n",
       "       [ 0.487067,  0.185528,  0.087079, ..., -0.095335,  0.57964 ,  0.300389]])\n",
       "Coordinates:\n",
       "  * design_loc_params  (design_loc_params) <U2 'p0' 'p1' 'p2' 'p3' 'p4' 'p5'\n",
       "Dimensions without coordinates: features"
      ]
     },
     "execution_count": 9,
     "metadata": {},
     "output_type": "execute_result"
    }
   ],
   "source": [
    "sim.par_link_loc"
   ]
  },
  {
   "cell_type": "code",
   "execution_count": 10,
   "metadata": {
    "scrolled": true
   },
   "outputs": [
    {
     "data": {
      "text/plain": [
       "<xarray.DataArray 'b' (design_scale_params: 6, features: 100)>\n",
       "array([[ 0.693147,  2.079442,  1.791759, ...,  1.94591 ,  2.197225,  1.098612],\n",
       "       [ 0.184218,  0.425898,  0.490049, ...,  0.472858, -0.50144 ,  0.524885],\n",
       "       [ 0.225669,  0.028211,  0.24437 , ...,  0.658131,  0.679489, -0.264468],\n",
       "       [ 0.367617,  0.405594,  0.617539, ...,  0.520513, -0.401469,  0.507148],\n",
       "       [ 0.103364, -0.124424,  0.011604, ...,  0.630569,  0.571592,  0.664485],\n",
       "       [-0.0635  , -0.031324,  0.36708 , ...,  0.396978, -0.139396,  0.60142 ]])\n",
       "Coordinates:\n",
       "  * design_scale_params  (design_scale_params) <U2 'p0' 'p1' 'p2' 'p3' 'p4' 'p5'\n",
       "Dimensions without coordinates: features"
      ]
     },
     "execution_count": 10,
     "metadata": {},
     "output_type": "execute_result"
    }
   ],
   "source": [
    "sim.par_link_scale"
   ]
  },
  {
   "cell_type": "markdown",
   "metadata": {},
   "source": [
    "## Constraints for model"
   ]
  },
  {
   "cell_type": "code",
   "execution_count": 11,
   "metadata": {},
   "outputs": [],
   "source": [
    "dmat_est_loc = sim.design_loc"
   ]
  },
  {
   "cell_type": "code",
   "execution_count": 12,
   "metadata": {},
   "outputs": [],
   "source": [
    "dmat_est_scale = sim.design_scale"
   ]
  },
  {
   "cell_type": "markdown",
   "metadata": {},
   "source": [
    "Build constraints based on sets of parameters that have to sum to zero. Each of these constraints is enforced by binding one of these parameters to the rest of the set. Such a constraint is encoded by assigning a 1 to each parameter in the set and a -1 to to the dependent parameter."
   ]
  },
  {
   "cell_type": "code",
   "execution_count": 13,
   "metadata": {},
   "outputs": [
    {
     "data": {
      "text/plain": [
       "array([[ 0.,  0.,  0., -1.,  1.,  0.],\n",
       "       [ 0., -1.,  1.,  1.,  1.,  0.]])"
      ]
     },
     "execution_count": 13,
     "metadata": {},
     "output_type": "execute_result"
    }
   ],
   "source": [
    "constraints_loc = np.zeros([2, dmat_est_loc.shape[1]])\n",
    "# Constraint 0: Account for perfect confouding at biological replicate and treatment level \n",
    "# by constraining biological replicate coefficients not to produce mean effects across conditions.\n",
    "constraints_loc[0,3] = -1\n",
    "constraints_loc[0,4:5] = 1\n",
    "# Constraint 1: Account for fact that first level of biological replicates was not absorbed into offset.\n",
    "constraints_loc[1,1] = -1\n",
    "constraints_loc[1,2:5] = 1\n",
    "constraints_loc"
   ]
  },
  {
   "cell_type": "code",
   "execution_count": 14,
   "metadata": {},
   "outputs": [],
   "source": [
    "constraints_scale = constraints_loc.copy()"
   ]
  },
  {
   "cell_type": "code",
   "execution_count": 15,
   "metadata": {},
   "outputs": [
    {
     "name": "stdout",
     "output_type": "stream",
     "text": [
      "[[1. 0. 0. 0. 1. 1.]\n",
      " [1. 0. 0. 1. 0. 1.]\n",
      " [1. 0. 1. 0. 0. 0.]\n",
      " [1. 1. 0. 0. 0. 0.]\n",
      " [0. 0. 0. 1. 1. 0.]\n",
      " [0. 1. 1. 1. 1. 0.]]\n",
      "rank deficiency without constraints: 2\n",
      "rank deficiency with constraints: 0\n"
     ]
    }
   ],
   "source": [
    "from numpy.linalg import matrix_rank\n",
    "constraints_loc_mod = constraints_loc.copy()\n",
    "constraints_loc_mod[constraints_loc_mod==-1] = 1\n",
    "print(np.vstack([np.unique(dmat_est_loc, axis=0), constraints_loc_mod]))\n",
    "print(\"rank deficiency without constraints: \"+ str(dmat_est_loc.shape[1] - matrix_rank(np.vstack([np.unique(dmat_est_loc, axis=0)]))))\n",
    "print(\"rank deficiency with constraints: \"+ str(dmat_est_loc.shape[1] - matrix_rank(np.vstack([np.unique(dmat_est_loc, axis=0), constraints_loc_mod]))))"
   ]
  },
  {
   "cell_type": "markdown",
   "metadata": {},
   "source": [
    "## Estimate the model"
   ]
  },
  {
   "cell_type": "code",
   "execution_count": 17,
   "metadata": {},
   "outputs": [],
   "source": [
    "X = sim.X\n",
    "design_loc = dmat_est_loc\n",
    "design_scale = dmat_est_scale\n",
    "\n",
    "# input data\n",
    "input_data = glm.models.nb_glm.InputData.new(\n",
    "    data=X, \n",
    "    design_loc=design_loc,\n",
    "    design_scale=design_scale,\n",
    "    constraints_loc=constraints_loc,\n",
    "    constraints_scale=constraints_scale)"
   ]
  },
  {
   "cell_type": "markdown",
   "metadata": {},
   "source": [
    "### Set up estimator:"
   ]
  },
  {
   "cell_type": "code",
   "execution_count": 18,
   "metadata": {},
   "outputs": [
    {
     "name": "stdout",
     "output_type": "stream",
     "text": [
      "Using closed-form MLE initialization for mean\n",
      "Should train mu: False\n",
      "Using closed-form MME initialization for dispersion\n",
      "Should train r: True\n"
     ]
    },
    {
     "name": "stderr",
     "output_type": "stream",
     "text": [
      "/Users/david.fischer/miniconda3/lib/python3.6/site-packages/tensorflow/python/ops/gradients_impl.py:108: UserWarning: Converting sparse IndexedSlices to a dense Tensor of unknown shape. This may consume a large amount of memory.\n",
      "  \"Converting sparse IndexedSlices to a dense Tensor of unknown shape. \"\n",
      "/Users/david.fischer/miniconda3/lib/python3.6/site-packages/tensorflow/python/ops/gradients_impl.py:108: UserWarning: Converting sparse IndexedSlices to a dense Tensor of unknown shape. This may consume a large amount of memory.\n",
      "  \"Converting sparse IndexedSlices to a dense Tensor of unknown shape. \"\n",
      "/Users/david.fischer/miniconda3/lib/python3.6/site-packages/tensorflow/python/ops/gradients_impl.py:108: UserWarning: Converting sparse IndexedSlices to a dense Tensor of unknown shape. This may consume a large amount of memory.\n",
      "  \"Converting sparse IndexedSlices to a dense Tensor of unknown shape. \"\n",
      "/Users/david.fischer/miniconda3/lib/python3.6/site-packages/tensorflow/python/ops/gradients_impl.py:108: UserWarning: Converting sparse IndexedSlices to a dense Tensor of unknown shape. This may consume a large amount of memory.\n",
      "  \"Converting sparse IndexedSlices to a dense Tensor of unknown shape. \"\n"
     ]
    },
    {
     "name": "stdout",
     "output_type": "stream",
     "text": [
      "Graph was finalized.\n",
      "Running local_init_op.\n",
      "Done running local_init_op.\n"
     ]
    }
   ],
   "source": [
    "estimator = glm.models.nb_glm.Estimator(input_data, quick_scale=False)\n",
    "estimator.initialize()"
   ]
  },
  {
   "cell_type": "markdown",
   "metadata": {},
   "source": [
    "### Train"
   ]
  },
  {
   "cell_type": "markdown",
   "metadata": {},
   "source": [
    "Now start the training sequence and let the estimator choose automatically the best training strategy:"
   ]
  },
  {
   "cell_type": "code",
   "execution_count": 19,
   "metadata": {
    "scrolled": true
   },
   "outputs": [
    {
     "name": "stdout",
     "output_type": "stream",
     "text": [
      "training strategy:\n",
      "[{'convergence_criteria': 't_test',\n",
      "  'learning_rate': 0.1,\n",
      "  'loss_window_size': 100,\n",
      "  'optim_algo': 'ADAM',\n",
      "  'stop_at_loss_change': 0.05,\n",
      "  'use_batching': True}]\n",
      "Beginning with training sequence #1\n",
      "Step: 1\tloss: 882.075268\n",
      "Step: 2\tloss: 886.603730\n",
      "Step: 3\tloss: 888.413564\n",
      "Step: 4\tloss: 889.325455\n",
      "Step: 5\tloss: 881.437230\n",
      "Step: 6\tloss: 886.622384\n",
      "Step: 7\tloss: 889.451865\n",
      "Step: 8\tloss: 888.701746\n",
      "Step: 9\tloss: 882.119454\n",
      "Step: 10\tloss: 886.732701\n",
      "Step: 11\tloss: 888.263349\n",
      "Step: 12\tloss: 888.789886\n",
      "Step: 13\tloss: 881.556806\n",
      "Step: 14\tloss: 886.671547\n",
      "Step: 15\tloss: 888.566374\n",
      "Step: 16\tloss: 889.120927\n",
      "Step: 17\tloss: 881.184785\n",
      "Step: 18\tloss: 885.914453\n",
      "Step: 19\tloss: 889.513262\n",
      "Step: 20\tloss: 889.190920\n",
      "Step: 21\tloss: 881.919622\n",
      "Step: 22\tloss: 885.329601\n",
      "Step: 23\tloss: 889.437051\n",
      "Step: 24\tloss: 889.126494\n",
      "Step: 25\tloss: 881.133643\n",
      "Step: 26\tloss: 886.371602\n",
      "Step: 27\tloss: 889.085185\n",
      "Step: 28\tloss: 889.185028\n",
      "Step: 29\tloss: 881.564541\n",
      "Step: 30\tloss: 886.754848\n",
      "Step: 31\tloss: 888.413747\n",
      "Step: 32\tloss: 889.034181\n",
      "Step: 33\tloss: 881.642042\n",
      "Step: 34\tloss: 886.898381\n",
      "Step: 35\tloss: 888.366920\n",
      "Step: 36\tloss: 888.875106\n",
      "Step: 37\tloss: 881.815466\n",
      "Step: 38\tloss: 886.375347\n",
      "Step: 39\tloss: 889.012418\n",
      "Step: 40\tloss: 888.559850\n",
      "Step: 41\tloss: 881.505218\n",
      "Step: 42\tloss: 886.063395\n",
      "Step: 43\tloss: 889.388754\n",
      "Step: 44\tloss: 888.795350\n",
      "Step: 45\tloss: 880.766313\n",
      "Step: 46\tloss: 886.769882\n",
      "Step: 47\tloss: 889.691074\n",
      "Step: 48\tloss: 888.509238\n",
      "Step: 49\tloss: 882.153794\n",
      "Step: 50\tloss: 886.169235\n",
      "Step: 51\tloss: 888.359930\n",
      "Step: 52\tloss: 889.072095\n",
      "Step: 53\tloss: 881.525935\n",
      "Step: 54\tloss: 886.088543\n",
      "Step: 55\tloss: 888.492574\n",
      "Step: 56\tloss: 889.634794\n",
      "Step: 57\tloss: 881.449181\n",
      "Step: 58\tloss: 886.480653\n",
      "Step: 59\tloss: 888.817100\n",
      "Step: 60\tloss: 888.994456\n",
      "Step: 61\tloss: 881.575004\n",
      "Step: 62\tloss: 886.602786\n",
      "Step: 63\tloss: 888.645054\n",
      "Step: 64\tloss: 888.902169\n",
      "Step: 65\tloss: 881.977370\n",
      "Step: 66\tloss: 885.844029\n",
      "Step: 67\tloss: 888.529996\n",
      "Step: 68\tloss: 889.399678\n",
      "Step: 69\tloss: 881.419383\n",
      "Step: 70\tloss: 886.512172\n",
      "Step: 71\tloss: 888.554551\n",
      "Step: 72\tloss: 889.260139\n",
      "Step: 73\tloss: 881.692409\n",
      "Step: 74\tloss: 886.074401\n",
      "Step: 75\tloss: 888.496564\n",
      "Step: 76\tloss: 889.473245\n",
      "Step: 77\tloss: 881.719721\n",
      "Step: 78\tloss: 886.532747\n",
      "Step: 79\tloss: 889.163717\n",
      "Step: 80\tloss: 888.341636\n",
      "Step: 81\tloss: 882.091973\n",
      "Step: 82\tloss: 886.296339\n",
      "Step: 83\tloss: 888.878471\n",
      "Step: 84\tloss: 888.490517\n",
      "Step: 85\tloss: 881.368430\n",
      "Step: 86\tloss: 886.628170\n",
      "Step: 87\tloss: 889.038636\n",
      "Step: 88\tloss: 888.710186\n",
      "Step: 89\tloss: 882.099754\n",
      "Step: 90\tloss: 886.794137\n",
      "Step: 91\tloss: 888.249389\n",
      "Step: 92\tloss: 888.610698\n",
      "Step: 93\tloss: 881.607575\n",
      "Step: 94\tloss: 886.539405\n",
      "Step: 95\tloss: 889.062425\n",
      "Step: 96\tloss: 888.527763\n",
      "Step: 97\tloss: 881.633341\n",
      "Step: 98\tloss: 886.589900\n",
      "Step: 99\tloss: 888.611912\n",
      "Step: 100\tloss: 888.897023\n",
      "Step: 101\tloss: 881.806019\n",
      "Step: 102\tloss: 886.470371\n",
      "Step: 103\tloss: 888.261917\n",
      "Step: 104\tloss: 889.217382\n",
      "Step: 105\tloss: 881.750270\n",
      "Step: 106\tloss: 886.537273\n",
      "Step: 107\tloss: 888.791438\n",
      "Step: 108\tloss: 888.668917\n",
      "Step: 109\tloss: 881.600940\n",
      "Step: 110\tloss: 886.276110\n",
      "Step: 111\tloss: 889.108501\n",
      "Step: 112\tloss: 888.746033\n",
      "Step: 113\tloss: 881.451055\n",
      "Step: 114\tloss: 885.654696\n",
      "Step: 115\tloss: 889.490106\n",
      "Step: 116\tloss: 889.146670\n",
      "Step: 117\tloss: 881.482998\n",
      "Step: 118\tloss: 886.692982\n",
      "Step: 119\tloss: 888.899580\n",
      "Step: 120\tloss: 888.653145\n",
      "Step: 121\tloss: 881.727994\n",
      "Step: 122\tloss: 886.233965\n",
      "Step: 123\tloss: 888.895164\n",
      "Step: 124\tloss: 888.888614\n",
      "Step: 125\tloss: 881.172012\n",
      "Step: 126\tloss: 887.486509\n",
      "Step: 127\tloss: 889.131576\n",
      "Step: 128\tloss: 887.947890\n",
      "Step: 129\tloss: 881.786468\n",
      "Step: 130\tloss: 885.479770\n",
      "Step: 131\tloss: 889.657035\n",
      "Step: 132\tloss: 888.840203\n",
      "Step: 133\tloss: 881.297057\n",
      "Step: 134\tloss: 887.165719\n",
      "Step: 135\tloss: 888.837395\n",
      "Step: 136\tloss: 888.446717\n",
      "Step: 137\tloss: 881.384402\n",
      "Step: 138\tloss: 886.721811\n",
      "Step: 139\tloss: 888.564405\n",
      "Step: 140\tloss: 889.084045\n",
      "Step: 141\tloss: 881.095649\n",
      "Step: 142\tloss: 886.956035\n",
      "Step: 143\tloss: 889.293411\n",
      "Step: 144\tloss: 888.413357\n",
      "Step: 145\tloss: 881.273751\n",
      "Step: 146\tloss: 887.251961\n",
      "Step: 147\tloss: 888.147285\n",
      "Step: 148\tloss: 889.079849\n",
      "Step: 149\tloss: 881.416456\n",
      "Step: 150\tloss: 886.208016\n",
      "Step: 151\tloss: 889.221350\n",
      "Step: 152\tloss: 888.906910\n",
      "Step: 153\tloss: 881.413475\n",
      "Step: 154\tloss: 886.497190\n",
      "Step: 155\tloss: 888.642372\n",
      "Step: 156\tloss: 889.195088\n",
      "Step: 157\tloss: 881.204424\n",
      "Step: 158\tloss: 887.015463\n",
      "Step: 159\tloss: 888.785952\n",
      "Step: 160\tloss: 888.735109\n",
      "Step: 161\tloss: 881.333059\n",
      "Step: 162\tloss: 886.289984\n",
      "Step: 163\tloss: 889.271421\n",
      "Step: 164\tloss: 888.865267\n",
      "Step: 165\tloss: 881.494476\n",
      "Step: 166\tloss: 885.716502\n",
      "Step: 167\tloss: 888.749452\n",
      "Step: 168\tloss: 889.796420\n",
      "Step: 169\tloss: 882.139935\n",
      "Step: 170\tloss: 886.100815\n",
      "Step: 171\tloss: 888.493315\n",
      "Step: 172\tloss: 889.009541\n",
      "Step: 173\tloss: 881.521587\n",
      "Step: 174\tloss: 887.001385\n",
      "Step: 175\tloss: 888.785304\n",
      "Step: 176\tloss: 888.441436\n",
      "Step: 177\tloss: 881.375370\n",
      "Step: 178\tloss: 886.406929\n",
      "Step: 179\tloss: 889.167888\n",
      "Step: 180\tloss: 888.823854\n",
      "Step: 181\tloss: 882.066915\n",
      "Step: 182\tloss: 885.753356\n",
      "Step: 183\tloss: 889.033724\n",
      "Step: 184\tloss: 888.906216\n",
      "Step: 185\tloss: 881.319192\n",
      "Step: 186\tloss: 885.980848\n",
      "Step: 187\tloss: 889.232487\n",
      "Step: 188\tloss: 889.222401\n",
      "Step: 189\tloss: 881.683332\n",
      "Step: 190\tloss: 885.691998\n",
      "Step: 191\tloss: 888.987871\n",
      "Step: 192\tloss: 889.384109\n",
      "Step: 193\tloss: 881.979131\n",
      "Step: 194\tloss: 886.124490\n",
      "Step: 195\tloss: 888.773134\n",
      "Step: 196\tloss: 888.882858\n",
      "Step: 197\tloss: 881.386530\n",
      "Step: 198\tloss: 887.037611\n",
      "Step: 199\tloss: 888.672111\n",
      "Step: 200\tloss: 888.654148\n",
      "pval: 0.485362\n",
      "Training sequence #1 complete\n"
     ]
    }
   ],
   "source": [
    "estimator.train_sequence('QUICK')"
   ]
  },
  {
   "cell_type": "markdown",
   "metadata": {},
   "source": [
    "## Obtaining the results"
   ]
  },
  {
   "cell_type": "markdown",
   "metadata": {},
   "source": [
    "The fitted parameters can be retrieved by calling the corresponding parameters of `estimator`:"
   ]
  },
  {
   "cell_type": "code",
   "execution_count": 20,
   "metadata": {},
   "outputs": [
    {
     "data": {
      "text/plain": [
       "<xarray.DataArray (design_loc_params: 6, features: 100)>\n",
       "array([[ 7.60433 ,  9.299009,  7.036924, ...,  8.647857,  8.786441,  8.500951],\n",
       "       [-0.378287,  0.078669, -0.382539, ...,  0.172109, -0.150278, -0.438347],\n",
       "       [ 0.378287, -0.078669,  0.382539, ..., -0.172109,  0.150278,  0.438347],\n",
       "       [-0.040116, -0.394487,  0.344727, ..., -0.52132 , -0.015463,  0.463282],\n",
       "       [ 0.040116,  0.394487, -0.344727, ...,  0.52132 ,  0.015463, -0.463282],\n",
       "       [ 0.656642, -0.109476,  0.303267, ..., -0.333953,  1.029455,  0.465089]])\n",
       "Coordinates:\n",
       "  * design_loc_params  (design_loc_params) <U2 'p0' 'p1' 'p2' 'p3' 'p4' 'p5'\n",
       "    feature_allzero    (features) bool False False False False False False ...\n",
       "  * features           (features) int64 0 1 2 3 4 5 6 7 8 9 10 11 12 13 14 ..."
      ]
     },
     "execution_count": 20,
     "metadata": {},
     "output_type": "execute_result"
    }
   ],
   "source": [
    "estimator.par_link_loc"
   ]
  },
  {
   "cell_type": "code",
   "execution_count": 21,
   "metadata": {
    "scrolled": true
   },
   "outputs": [
    {
     "data": {
      "text/plain": [
       "<xarray.DataArray (design_scale_params: 6, features: 100)>\n",
       "array([[ 0.937191,  2.361788,  2.112912, ...,  2.506849,  2.256079,  1.175205],\n",
       "       [-0.08379 ,  0.259864,  0.110316, ..., -0.11203 , -0.653096,  0.461834],\n",
       "       [ 0.08379 , -0.259864, -0.110316, ...,  0.11203 ,  0.653096, -0.461834],\n",
       "       [ 0.152664,  0.211096,  0.385954, ..., -0.096363, -0.514341, -0.082485],\n",
       "       [-0.152664, -0.211096, -0.385954, ...,  0.096363,  0.514341,  0.082485],\n",
       "       [-0.071221, -0.145986,  0.429112, ...,  0.447067, -0.091087,  1.154632]])\n",
       "Coordinates:\n",
       "  * design_scale_params  (design_scale_params) <U2 'p0' 'p1' 'p2' 'p3' 'p4' 'p5'\n",
       "    feature_allzero      (features) bool False False False False False False ...\n",
       "  * features             (features) int64 0 1 2 3 4 5 6 7 8 9 10 11 12 13 14 ..."
      ]
     },
     "execution_count": 21,
     "metadata": {},
     "output_type": "execute_result"
    }
   ],
   "source": [
    "estimator.par_link_scale"
   ]
  },
  {
   "cell_type": "markdown",
   "metadata": {},
   "source": [
    "### Check that constraints were met"
   ]
  },
  {
   "cell_type": "markdown",
   "metadata": {},
   "source": [
    "These parameter sets should sum to zero for each gene."
   ]
  },
  {
   "cell_type": "code",
   "execution_count": 22,
   "metadata": {
    "scrolled": false
   },
   "outputs": [
    {
     "data": {
      "text/plain": [
       "<xarray.DataArray ()>\n",
       "array(5.551115e-17)\n",
       "Coordinates:\n",
       "    design_loc_params  <U2 'p1'"
      ]
     },
     "execution_count": 22,
     "metadata": {},
     "output_type": "execute_result"
    }
   ],
   "source": [
    "np.max(estimator.par_link_loc[1,:]+np.sum(estimator.par_link_loc[2:5,:], axis=0))"
   ]
  },
  {
   "cell_type": "code",
   "execution_count": 23,
   "metadata": {
    "scrolled": false
   },
   "outputs": [
    {
     "data": {
      "text/plain": [
       "<xarray.DataArray ()>\n",
       "array(5.551115e-17)"
      ]
     },
     "execution_count": 23,
     "metadata": {},
     "output_type": "execute_result"
    }
   ],
   "source": [
    "np.max(np.sum(estimator.par_link_loc[1:3,:], axis=0)+np.sum(estimator.par_link_loc[3:5,:], axis=0))"
   ]
  },
  {
   "cell_type": "markdown",
   "metadata": {},
   "source": [
    "## Comparing the results with the simulated data:"
   ]
  },
  {
   "cell_type": "markdown",
   "metadata": {},
   "source": [
    "Linear model output:"
   ]
  },
  {
   "cell_type": "code",
   "execution_count": 24,
   "metadata": {},
   "outputs": [
    {
     "name": "stdout",
     "output_type": "stream",
     "text": [
      "Root mean squared deviation of location: 0.02\n",
      "Root mean squared deviation of scale:    0.07\n"
     ]
    }
   ],
   "source": [
    "locdiff = glm.utils.stats.rmsd(np.matmul(estimator.design_loc, estimator.par_link_loc), \n",
    "                               np.matmul(sim.design_loc, sim.par_link_loc))\n",
    "print(\"Root mean squared deviation of location: %.2f\" % locdiff)\n",
    "\n",
    "scalediff = glm.utils.stats.rmsd(np.matmul(estimator.design_scale, estimator.par_link_scale), \n",
    "                                 np.matmul(sim.design_scale, sim.par_link_scale))\n",
    "print(\"Root mean squared deviation of scale:    %.2f\" % scalediff)"
   ]
  },
  {
   "cell_type": "markdown",
   "metadata": {},
   "source": [
    "# Example 2: advanced"
   ]
  },
  {
   "cell_type": "markdown",
   "metadata": {},
   "source": [
    "## Simulate some data"
   ]
  },
  {
   "cell_type": "markdown",
   "metadata": {},
   "source": [
    "In this example, we have 4 biological replicates (animals, patients, cell culture replicates etc.) in a treatment experiment: 2 in each condition (treated, untreated). Accordingly, there is perfect confounding at this level already. We circumvent this by constraining the biological replicate coefficients to not model mean trends (constraints 0,1). Secondly, there a are technical replicates which contain cells from one biological replicate from each condition. Each biological replicate was assigned to one treated-untreated sample pair and each pair split into two technical replicates. Again, we correct perfect confouding by constrainig the techincal replicate coefficients not to model mean effects by constraints 2,3."
   ]
  },
  {
   "cell_type": "markdown",
   "metadata": {},
   "source": [
    "### Define design matrices"
   ]
  },
  {
   "cell_type": "code",
   "execution_count": 25,
   "metadata": {
    "scrolled": true
   },
   "outputs": [
    {
     "name": "stdout",
     "output_type": "stream",
     "text": [
      "[[1. 0. 0. 0. 1. 0. 0. 0. 1. 1.]\n",
      " [1. 0. 0. 0. 1. 0. 0. 1. 0. 1.]\n",
      " [1. 0. 0. 1. 0. 0. 1. 0. 0. 1.]\n",
      " [1. 0. 0. 1. 0. 1. 0. 0. 0. 1.]\n",
      " [1. 0. 1. 0. 0. 0. 0. 0. 1. 0.]\n",
      " [1. 0. 1. 0. 0. 0. 0. 1. 0. 0.]\n",
      " [1. 1. 0. 0. 0. 0. 1. 0. 0. 0.]\n",
      " [1. 1. 0. 0. 0. 1. 0. 0. 0. 0.]]\n"
     ]
    }
   ],
   "source": [
    "ncells = 2000\n",
    "dmat = np.zeros([ncells, 10])\n",
    "dmat[:,0] = 1\n",
    "dmat[:500,1] = 1 # bio rep 1\n",
    "dmat[500:1000,2] = 1 # bio rep 2\n",
    "dmat[1000:1500,3] = 1 # bio rep 3\n",
    "dmat[1500:2000,4] = 1 # bio rep 4\n",
    "dmat[0:250,5] = 1 # tech rep 1\n",
    "dmat[1000:1250,5] = 1 # tech rep 1\n",
    "dmat[250:500,6] = 1 # tech rep 2\n",
    "dmat[1250:1500,6] = 1 # tech rep 2\n",
    "dmat[500:750,7] = 1 # tech rep 3\n",
    "dmat[1500:1750,7] = 1 # tech rep 3\n",
    "dmat[750:1000,8] = 1 # tech rep 4\n",
    "dmat[1750:2000,8] = 1 # tech rep 4\n",
    "dmat[1000:2000,9] = 1 # condition effect\n",
    "print(np.unique(dmat, axis=0))"
   ]
  },
  {
   "cell_type": "code",
   "execution_count": 26,
   "metadata": {},
   "outputs": [],
   "source": [
    "sim = glm.models.nb_glm.Simulator(num_features=100)"
   ]
  },
  {
   "cell_type": "code",
   "execution_count": 27,
   "metadata": {},
   "outputs": [],
   "source": [
    "sim.parse_dmat_loc(dmat = dmat)\n",
    "sim.parse_dmat_scale(dmat = dmat)\n",
    "sim.generate_params()\n",
    "sim.generate_data()"
   ]
  },
  {
   "cell_type": "markdown",
   "metadata": {},
   "source": [
    "### Simulated model data:"
   ]
  },
  {
   "cell_type": "code",
   "execution_count": 28,
   "metadata": {
    "scrolled": false
   },
   "outputs": [
    {
     "data": {
      "text/plain": [
       "<xarray.DataArray 'X' (observations: 2000, features: 100)>\n",
       "array([[  642,   249, 12487, ..., 20348,  2165,  7319],\n",
       "       [ 1576, 14048, 21200, ..., 21197,  3093,  2970],\n",
       "       [ 2671,   196, 25641, ...,  7072,  2239,  5689],\n",
       "       ...,\n",
       "       [ 7340,  2571, 10871, ..., 23945,   784, 32510],\n",
       "       [ 7164,  6329,  9987, ...,  9381,  3204, 17760],\n",
       "       [ 6140,  1068, 10479, ..., 10916,  4179, 28858]])\n",
       "Dimensions without coordinates: observations, features"
      ]
     },
     "execution_count": 28,
     "metadata": {},
     "output_type": "execute_result"
    }
   ],
   "source": [
    "sim.X"
   ]
  },
  {
   "cell_type": "markdown",
   "metadata": {},
   "source": [
    "## Constraints for model"
   ]
  },
  {
   "cell_type": "code",
   "execution_count": 29,
   "metadata": {},
   "outputs": [],
   "source": [
    "dmat_est_loc = sim.design_loc"
   ]
  },
  {
   "cell_type": "code",
   "execution_count": 30,
   "metadata": {},
   "outputs": [],
   "source": [
    "dmat_est_scale = sim.design_scale"
   ]
  },
  {
   "cell_type": "markdown",
   "metadata": {},
   "source": [
    "Build constraints based on sets of parameters that have to sum to zero. Each of these constraints is enforced by binding one of these parameters to the rest of the set. Such a constraint is encoded by assigning a 1 to each parameter in the set and a -1 to to the dependent parameter."
   ]
  },
  {
   "cell_type": "code",
   "execution_count": 31,
   "metadata": {},
   "outputs": [
    {
     "data": {
      "text/plain": [
       "array([[1., 0., 0., 0., 1., 0., 0., 0., 1., 1.],\n",
       "       [1., 0., 0., 0., 1., 0., 0., 1., 0., 1.],\n",
       "       [1., 0., 0., 1., 0., 0., 1., 0., 0., 1.],\n",
       "       [1., 0., 0., 1., 0., 1., 0., 0., 0., 1.],\n",
       "       [1., 0., 1., 0., 0., 0., 0., 0., 1., 0.],\n",
       "       [1., 0., 1., 0., 0., 0., 0., 1., 0., 0.],\n",
       "       [1., 1., 0., 0., 0., 0., 1., 0., 0., 0.],\n",
       "       [1., 1., 0., 0., 0., 1., 0., 0., 0., 0.]])"
      ]
     },
     "execution_count": 31,
     "metadata": {},
     "output_type": "execute_result"
    }
   ],
   "source": [
    "np.unique(dmat_est_loc, axis=0)"
   ]
  },
  {
   "cell_type": "code",
   "execution_count": 32,
   "metadata": {},
   "outputs": [
    {
     "data": {
      "text/plain": [
       "array([[ 0.,  0.,  0., -1.,  1.,  0.,  0.,  0.,  0.,  0.],\n",
       "       [ 0., -1.,  1.,  1.,  1.,  0.,  0.,  0.,  0.,  0.],\n",
       "       [ 0.,  0.,  0.,  0.,  0.,  0.,  0., -1.,  1.,  0.],\n",
       "       [ 0.,  0.,  0.,  0.,  0., -1.,  1.,  1.,  1.,  0.]])"
      ]
     },
     "execution_count": 32,
     "metadata": {},
     "output_type": "execute_result"
    }
   ],
   "source": [
    "constraints_loc = np.zeros([4, dmat_est_loc.shape[1]])\n",
    "# Constraint 0: Account for perfect confouding at biological replicate and treatment level \n",
    "# by constraining biological replicate coefficients not to produce mean effects across conditions.\n",
    "constraints_loc[0,3] = -1\n",
    "constraints_loc[0,4:5] = 1\n",
    "# Constraint 1: Account for fact that first level of biological replicates was not absorbed into offset. \n",
    "constraints_loc[1,1] = -1\n",
    "constraints_loc[1,2:5] = 1\n",
    "# Constraint 2: Account for perfect confouding at biological replicate and technical replicate \n",
    "# by constraining technical replicate coefficients not to produce mean effects across biological replicates.\n",
    "constraints_loc[2,7] = -1\n",
    "constraints_loc[2,8:9] = 1\n",
    "# Constraint 3: Account for fact that first level of technical replicates was not absorbed into offset. \n",
    "constraints_loc[3,5] = -1\n",
    "constraints_loc[3,6:9] = 1\n",
    "\n",
    "constraints_loc"
   ]
  },
  {
   "cell_type": "code",
   "execution_count": 33,
   "metadata": {},
   "outputs": [],
   "source": [
    "constraints_scale = constraints_loc.copy()"
   ]
  },
  {
   "cell_type": "code",
   "execution_count": 34,
   "metadata": {},
   "outputs": [
    {
     "name": "stdout",
     "output_type": "stream",
     "text": [
      "[[1. 0. 0. 0. 1. 0. 0. 0. 1. 1.]\n",
      " [1. 0. 0. 0. 1. 0. 0. 1. 0. 1.]\n",
      " [1. 0. 0. 1. 0. 0. 1. 0. 0. 1.]\n",
      " [1. 0. 0. 1. 0. 1. 0. 0. 0. 1.]\n",
      " [1. 0. 1. 0. 0. 0. 0. 0. 1. 0.]\n",
      " [1. 0. 1. 0. 0. 0. 0. 1. 0. 0.]\n",
      " [1. 1. 0. 0. 0. 0. 1. 0. 0. 0.]\n",
      " [1. 1. 0. 0. 0. 1. 0. 0. 0. 0.]\n",
      " [0. 0. 0. 1. 1. 0. 0. 0. 0. 0.]\n",
      " [0. 1. 1. 1. 1. 0. 0. 0. 0. 0.]\n",
      " [0. 0. 0. 0. 0. 0. 0. 1. 1. 0.]\n",
      " [0. 0. 0. 0. 0. 1. 1. 1. 1. 0.]]\n",
      "rank deficiency without constraints: 4\n",
      "rank deficiency with constraints: 0\n"
     ]
    }
   ],
   "source": [
    "from numpy.linalg import matrix_rank\n",
    "constraints_loc_mod = constraints_loc.copy()\n",
    "constraints_loc_mod[constraints_loc_mod==-1] = 1\n",
    "print(np.vstack([np.unique(dmat_est_loc, axis=0), constraints_loc_mod]))\n",
    "print(\"rank deficiency without constraints: \"+ str(dmat_est_loc.shape[1] - matrix_rank(np.vstack([np.unique(dmat_est_loc, axis=0)]))))\n",
    "print(\"rank deficiency with constraints: \"+ str(dmat_est_loc.shape[1] - matrix_rank(np.vstack([np.unique(dmat_est_loc, axis=0), constraints_loc_mod]))))"
   ]
  },
  {
   "cell_type": "markdown",
   "metadata": {},
   "source": [
    "## Estimate the model"
   ]
  },
  {
   "cell_type": "code",
   "execution_count": 35,
   "metadata": {},
   "outputs": [],
   "source": [
    "X = sim.X\n",
    "design_loc = dmat_est_loc\n",
    "design_scale = dmat_est_scale\n",
    "\n",
    "# input data\n",
    "input_data = glm.models.nb_glm.InputData.new(\n",
    "    data=X, \n",
    "    design_loc=design_loc,\n",
    "    design_scale=design_scale,\n",
    "    constraints_loc=constraints_loc,\n",
    "    constraints_scale=constraints_scale)"
   ]
  },
  {
   "cell_type": "markdown",
   "metadata": {},
   "source": [
    "### Set up estimator:"
   ]
  },
  {
   "cell_type": "markdown",
   "metadata": {},
   "source": [
    "Note that there is no closed form estimator for the mean model here due to the confounding. The model is initialised with least squares but the mean model is also trained."
   ]
  },
  {
   "cell_type": "code",
   "execution_count": 36,
   "metadata": {},
   "outputs": [
    {
     "name": "stdout",
     "output_type": "stream",
     "text": [
      "Using closed-form MLE initialization for mean\n",
      "Should train mu: True\n",
      "Using closed-form MME initialization for dispersion\n",
      "Should train r: True\n"
     ]
    },
    {
     "name": "stderr",
     "output_type": "stream",
     "text": [
      "/Users/david.fischer/miniconda3/lib/python3.6/site-packages/tensorflow/python/ops/gradients_impl.py:108: UserWarning: Converting sparse IndexedSlices to a dense Tensor of unknown shape. This may consume a large amount of memory.\n",
      "  \"Converting sparse IndexedSlices to a dense Tensor of unknown shape. \"\n",
      "/Users/david.fischer/miniconda3/lib/python3.6/site-packages/tensorflow/python/ops/gradients_impl.py:108: UserWarning: Converting sparse IndexedSlices to a dense Tensor of unknown shape. This may consume a large amount of memory.\n",
      "  \"Converting sparse IndexedSlices to a dense Tensor of unknown shape. \"\n",
      "/Users/david.fischer/miniconda3/lib/python3.6/site-packages/tensorflow/python/ops/gradients_impl.py:108: UserWarning: Converting sparse IndexedSlices to a dense Tensor of unknown shape. This may consume a large amount of memory.\n",
      "  \"Converting sparse IndexedSlices to a dense Tensor of unknown shape. \"\n",
      "/Users/david.fischer/miniconda3/lib/python3.6/site-packages/tensorflow/python/ops/gradients_impl.py:108: UserWarning: Converting sparse IndexedSlices to a dense Tensor of unknown shape. This may consume a large amount of memory.\n",
      "  \"Converting sparse IndexedSlices to a dense Tensor of unknown shape. \"\n",
      "/Users/david.fischer/miniconda3/lib/python3.6/site-packages/tensorflow/python/ops/gradients_impl.py:108: UserWarning: Converting sparse IndexedSlices to a dense Tensor of unknown shape. This may consume a large amount of memory.\n",
      "  \"Converting sparse IndexedSlices to a dense Tensor of unknown shape. \"\n",
      "/Users/david.fischer/miniconda3/lib/python3.6/site-packages/tensorflow/python/ops/gradients_impl.py:108: UserWarning: Converting sparse IndexedSlices to a dense Tensor of unknown shape. This may consume a large amount of memory.\n",
      "  \"Converting sparse IndexedSlices to a dense Tensor of unknown shape. \"\n",
      "/Users/david.fischer/miniconda3/lib/python3.6/site-packages/tensorflow/python/ops/gradients_impl.py:108: UserWarning: Converting sparse IndexedSlices to a dense Tensor of unknown shape. This may consume a large amount of memory.\n",
      "  \"Converting sparse IndexedSlices to a dense Tensor of unknown shape. \"\n",
      "/Users/david.fischer/miniconda3/lib/python3.6/site-packages/tensorflow/python/ops/gradients_impl.py:108: UserWarning: Converting sparse IndexedSlices to a dense Tensor of unknown shape. This may consume a large amount of memory.\n",
      "  \"Converting sparse IndexedSlices to a dense Tensor of unknown shape. \"\n",
      "/Users/david.fischer/miniconda3/lib/python3.6/site-packages/tensorflow/python/ops/gradients_impl.py:108: UserWarning: Converting sparse IndexedSlices to a dense Tensor of unknown shape. This may consume a large amount of memory.\n",
      "  \"Converting sparse IndexedSlices to a dense Tensor of unknown shape. \"\n",
      "/Users/david.fischer/miniconda3/lib/python3.6/site-packages/tensorflow/python/ops/gradients_impl.py:108: UserWarning: Converting sparse IndexedSlices to a dense Tensor of unknown shape. This may consume a large amount of memory.\n",
      "  \"Converting sparse IndexedSlices to a dense Tensor of unknown shape. \"\n",
      "/Users/david.fischer/miniconda3/lib/python3.6/site-packages/tensorflow/python/ops/gradients_impl.py:108: UserWarning: Converting sparse IndexedSlices to a dense Tensor of unknown shape. This may consume a large amount of memory.\n",
      "  \"Converting sparse IndexedSlices to a dense Tensor of unknown shape. \"\n",
      "/Users/david.fischer/miniconda3/lib/python3.6/site-packages/tensorflow/python/ops/gradients_impl.py:108: UserWarning: Converting sparse IndexedSlices to a dense Tensor of unknown shape. This may consume a large amount of memory.\n",
      "  \"Converting sparse IndexedSlices to a dense Tensor of unknown shape. \"\n"
     ]
    },
    {
     "name": "stdout",
     "output_type": "stream",
     "text": [
      "Graph was finalized.\n",
      "Running local_init_op.\n",
      "Done running local_init_op.\n"
     ]
    }
   ],
   "source": [
    "estimator = glm.models.nb_glm.Estimator(input_data, quick_scale=False)\n",
    "estimator.initialize()"
   ]
  },
  {
   "cell_type": "markdown",
   "metadata": {},
   "source": [
    "### Train"
   ]
  },
  {
   "cell_type": "markdown",
   "metadata": {},
   "source": [
    "Now start the training sequence and let the estimator choose automatically the best training strategy:"
   ]
  },
  {
   "cell_type": "code",
   "execution_count": 37,
   "metadata": {},
   "outputs": [
    {
     "name": "stdout",
     "output_type": "stream",
     "text": [
      "training strategy:\n",
      "[{'convergence_criteria': 't_test',\n",
      "  'learning_rate': 0.1,\n",
      "  'loss_window_size': 100,\n",
      "  'optim_algo': 'ADAM',\n",
      "  'stop_at_loss_change': 0.05,\n",
      "  'use_batching': True}]\n",
      "Beginning with training sequence #1\n",
      "Step: 1\tloss: 885.917835\n",
      "Step: 2\tloss: 911.328084\n",
      "Step: 3\tloss: 892.516976\n",
      "Step: 4\tloss: 892.208725\n",
      "Step: 5\tloss: 894.579411\n",
      "Step: 6\tloss: 899.264257\n",
      "Step: 7\tloss: 896.262826\n",
      "Step: 8\tloss: 893.874717\n",
      "Step: 9\tloss: 890.636066\n",
      "Step: 10\tloss: 892.263851\n",
      "Step: 11\tloss: 894.195462\n",
      "Step: 12\tloss: 892.248708\n",
      "Step: 13\tloss: 890.761843\n",
      "Step: 14\tloss: 891.491649\n",
      "Step: 15\tloss: 891.946005\n",
      "Step: 16\tloss: 891.261989\n",
      "Step: 17\tloss: 887.718970\n",
      "Step: 18\tloss: 890.695663\n",
      "Step: 19\tloss: 889.861702\n",
      "Step: 20\tloss: 890.756509\n",
      "Step: 21\tloss: 887.416082\n",
      "Step: 22\tloss: 890.205908\n",
      "Step: 23\tloss: 889.012561\n",
      "Step: 24\tloss: 889.114767\n",
      "Step: 25\tloss: 887.146485\n",
      "Step: 26\tloss: 888.758632\n",
      "Step: 27\tloss: 888.741073\n",
      "Step: 28\tloss: 889.252259\n",
      "Step: 29\tloss: 886.806134\n",
      "Step: 30\tloss: 888.869114\n",
      "Step: 31\tloss: 888.797145\n",
      "Step: 32\tloss: 888.557872\n",
      "Step: 33\tloss: 886.964458\n",
      "Step: 34\tloss: 888.852073\n",
      "Step: 35\tloss: 888.830785\n",
      "Step: 36\tloss: 887.778957\n",
      "Step: 37\tloss: 886.854040\n",
      "Step: 38\tloss: 888.064614\n",
      "Step: 39\tloss: 888.610230\n",
      "Step: 40\tloss: 888.231922\n",
      "Step: 41\tloss: 886.378362\n",
      "Step: 42\tloss: 888.104921\n",
      "Step: 43\tloss: 888.413370\n",
      "Step: 44\tloss: 888.118499\n",
      "Step: 45\tloss: 885.874410\n",
      "Step: 46\tloss: 888.106326\n",
      "Step: 47\tloss: 888.561860\n",
      "Step: 48\tloss: 888.214156\n",
      "Step: 49\tloss: 885.815867\n",
      "Step: 50\tloss: 888.070168\n",
      "Step: 51\tloss: 888.699542\n",
      "Step: 52\tloss: 888.080930\n",
      "Step: 53\tloss: 886.279944\n",
      "Step: 54\tloss: 888.242635\n",
      "Step: 55\tloss: 888.465974\n",
      "Step: 56\tloss: 887.863743\n",
      "Step: 57\tloss: 885.884838\n",
      "Step: 58\tloss: 888.565352\n",
      "Step: 59\tloss: 888.250978\n",
      "Step: 60\tloss: 888.396314\n",
      "Step: 61\tloss: 886.393986\n",
      "Step: 62\tloss: 887.999315\n",
      "Step: 63\tloss: 888.308858\n",
      "Step: 64\tloss: 888.430629\n",
      "Step: 65\tloss: 886.129623\n",
      "Step: 66\tloss: 887.662921\n",
      "Step: 67\tloss: 888.429688\n",
      "Step: 68\tloss: 888.581707\n",
      "Step: 69\tloss: 886.779017\n",
      "Step: 70\tloss: 888.205559\n",
      "Step: 71\tloss: 887.863722\n",
      "Step: 72\tloss: 887.908478\n",
      "Step: 73\tloss: 886.501361\n",
      "Step: 74\tloss: 888.504096\n",
      "Step: 75\tloss: 887.964313\n",
      "Step: 76\tloss: 887.993112\n",
      "Step: 77\tloss: 886.423240\n",
      "Step: 78\tloss: 888.225720\n",
      "Step: 79\tloss: 888.589221\n",
      "Step: 80\tloss: 887.884413\n",
      "Step: 81\tloss: 885.707751\n",
      "Step: 82\tloss: 888.058393\n",
      "Step: 83\tloss: 888.931432\n",
      "Step: 84\tloss: 888.535430\n",
      "Step: 85\tloss: 886.002199\n",
      "Step: 86\tloss: 888.092873\n",
      "Step: 87\tloss: 888.593091\n",
      "Step: 88\tloss: 888.480557\n",
      "Step: 89\tloss: 886.430953\n",
      "Step: 90\tloss: 888.468468\n",
      "Step: 91\tloss: 888.406823\n",
      "Step: 92\tloss: 887.889563\n",
      "Step: 93\tloss: 886.028958\n",
      "Step: 94\tloss: 888.186019\n",
      "Step: 95\tloss: 888.232400\n",
      "Step: 96\tloss: 888.600169\n",
      "Step: 97\tloss: 885.982280\n",
      "Step: 98\tloss: 887.763677\n",
      "Step: 99\tloss: 888.377946\n",
      "Step: 100\tloss: 888.645041\n",
      "Step: 101\tloss: 886.177797\n",
      "Step: 102\tloss: 887.328699\n",
      "Step: 103\tloss: 888.580863\n",
      "Step: 104\tloss: 888.789191\n",
      "Step: 105\tloss: 886.401367\n",
      "Step: 106\tloss: 887.780885\n",
      "Step: 107\tloss: 888.558854\n",
      "Step: 108\tloss: 888.330636\n",
      "Step: 109\tloss: 886.418846\n",
      "Step: 110\tloss: 888.617701\n",
      "Step: 111\tloss: 888.209025\n",
      "Step: 112\tloss: 887.857137\n",
      "Step: 113\tloss: 886.000759\n",
      "Step: 114\tloss: 888.234991\n",
      "Step: 115\tloss: 889.101978\n",
      "Step: 116\tloss: 888.128107\n",
      "Step: 117\tloss: 885.988549\n",
      "Step: 118\tloss: 888.469680\n",
      "Step: 119\tloss: 888.562599\n",
      "Step: 120\tloss: 888.729409\n",
      "Step: 121\tloss: 885.918001\n",
      "Step: 122\tloss: 889.058650\n",
      "Step: 123\tloss: 888.646423\n",
      "Step: 124\tloss: 888.040460\n",
      "Step: 125\tloss: 886.239194\n",
      "Step: 126\tloss: 888.247759\n",
      "Step: 127\tloss: 889.228266\n",
      "Step: 128\tloss: 888.254895\n",
      "Step: 129\tloss: 886.271956\n",
      "Step: 130\tloss: 888.461299\n",
      "Step: 131\tloss: 888.421905\n",
      "Step: 132\tloss: 889.061312\n",
      "Step: 133\tloss: 885.739923\n",
      "Step: 134\tloss: 888.634968\n",
      "Step: 135\tloss: 888.608760\n",
      "Step: 136\tloss: 888.951667\n",
      "Step: 137\tloss: 886.625942\n",
      "Step: 138\tloss: 887.697723\n",
      "Step: 139\tloss: 888.496448\n",
      "Step: 140\tloss: 889.000196\n",
      "Step: 141\tloss: 885.984996\n",
      "Step: 142\tloss: 888.498368\n",
      "Step: 143\tloss: 888.407394\n",
      "Step: 144\tloss: 888.853429\n",
      "Step: 145\tloss: 886.292646\n",
      "Step: 146\tloss: 888.942523\n",
      "Step: 147\tloss: 888.042259\n",
      "Step: 148\tloss: 888.409696\n",
      "Step: 149\tloss: 886.360727\n",
      "Step: 150\tloss: 888.391716\n",
      "Step: 151\tloss: 888.717697\n",
      "Step: 152\tloss: 888.268983\n",
      "Step: 153\tloss: 886.798843\n",
      "Step: 154\tloss: 888.700914\n",
      "Step: 155\tloss: 888.210306\n",
      "Step: 156\tloss: 888.196467\n",
      "Step: 157\tloss: 886.642863\n",
      "Step: 158\tloss: 888.056945\n",
      "Step: 159\tloss: 887.942717\n",
      "Step: 160\tloss: 889.192457\n",
      "Step: 161\tloss: 886.079606\n",
      "Step: 162\tloss: 888.370376\n",
      "Step: 163\tloss: 888.331563\n",
      "Step: 164\tloss: 888.952653\n",
      "Step: 165\tloss: 885.979705\n",
      "Step: 166\tloss: 888.460450\n",
      "Step: 167\tloss: 889.240850\n",
      "Step: 168\tloss: 888.265269\n",
      "Step: 169\tloss: 886.907061\n",
      "Step: 170\tloss: 888.120562\n",
      "Step: 171\tloss: 888.287237\n",
      "Step: 172\tloss: 888.436464\n",
      "Step: 173\tloss: 885.916560\n",
      "Step: 174\tloss: 888.742761\n",
      "Step: 175\tloss: 889.060513\n",
      "Step: 176\tloss: 888.244497\n",
      "Step: 177\tloss: 886.587499\n",
      "Step: 178\tloss: 888.584608\n",
      "Step: 179\tloss: 888.353988\n",
      "Step: 180\tloss: 888.418421\n",
      "Step: 181\tloss: 886.108230\n",
      "Step: 182\tloss: 889.389385\n",
      "Step: 183\tloss: 888.175202\n",
      "Step: 184\tloss: 888.371541\n",
      "Step: 185\tloss: 886.128363\n",
      "Step: 186\tloss: 889.502761\n",
      "Step: 187\tloss: 888.324584\n",
      "Step: 188\tloss: 888.046863\n",
      "Step: 189\tloss: 887.033000\n",
      "Step: 190\tloss: 888.211095\n",
      "Step: 191\tloss: 888.520225\n",
      "Step: 192\tloss: 888.001192\n",
      "Step: 193\tloss: 886.010637\n",
      "Step: 194\tloss: 888.270182\n",
      "Step: 195\tloss: 888.989658\n",
      "Step: 196\tloss: 888.518927\n",
      "Step: 197\tloss: 886.537006\n",
      "Step: 198\tloss: 888.699187\n",
      "Step: 199\tloss: 888.298585\n",
      "Step: 200\tloss: 888.525202\n",
      "pval: 0.002016\n",
      "Step: 201\tloss: 886.164793\n",
      "Step: 202\tloss: 888.826802\n",
      "Step: 203\tloss: 889.379215\n",
      "Step: 204\tloss: 888.131225\n",
      "Step: 205\tloss: 886.283068\n",
      "Step: 206\tloss: 889.003394\n",
      "Step: 207\tloss: 888.800171\n",
      "Step: 208\tloss: 888.579225\n",
      "Step: 209\tloss: 886.668278\n",
      "Step: 210\tloss: 888.825972\n",
      "Step: 211\tloss: 888.636355\n",
      "Step: 212\tloss: 888.274660\n",
      "Step: 213\tloss: 886.614404\n",
      "Step: 214\tloss: 888.625480\n",
      "Step: 215\tloss: 888.363772\n",
      "Step: 216\tloss: 888.613276\n",
      "Step: 217\tloss: 885.904829\n",
      "Step: 218\tloss: 888.455048\n",
      "Step: 219\tloss: 889.388594\n",
      "Step: 220\tloss: 888.280476\n",
      "Step: 221\tloss: 886.217585\n",
      "Step: 222\tloss: 888.690327\n",
      "Step: 223\tloss: 888.559708\n",
      "Step: 224\tloss: 888.550121\n",
      "Step: 225\tloss: 886.304544\n",
      "Step: 226\tloss: 888.460666\n",
      "Step: 227\tloss: 888.750822\n",
      "Step: 228\tloss: 888.492953\n",
      "Step: 229\tloss: 885.819401\n",
      "Step: 230\tloss: 888.799641\n",
      "Step: 231\tloss: 888.751045\n",
      "Step: 232\tloss: 888.601847\n",
      "Step: 233\tloss: 886.016020\n",
      "Step: 234\tloss: 888.359078\n",
      "Step: 235\tloss: 888.852354\n",
      "Step: 236\tloss: 888.749833\n",
      "Step: 237\tloss: 885.967369\n",
      "Step: 238\tloss: 889.129877\n",
      "Step: 239\tloss: 887.902116\n",
      "Step: 240\tloss: 888.881541\n",
      "Step: 241\tloss: 886.893239\n",
      "Step: 242\tloss: 887.770788\n",
      "Step: 243\tloss: 888.518272\n",
      "Step: 244\tloss: 888.671178\n",
      "Step: 245\tloss: 886.578759\n",
      "Step: 246\tloss: 888.148472\n",
      "Step: 247\tloss: 888.955795\n",
      "Step: 248\tloss: 888.081975\n",
      "Step: 249\tloss: 886.686352\n",
      "Step: 250\tloss: 888.655957\n",
      "Step: 251\tloss: 888.215492\n",
      "Step: 252\tloss: 888.475469\n",
      "Step: 253\tloss: 885.675686\n",
      "Step: 254\tloss: 888.504821\n",
      "Step: 255\tloss: 889.386938\n",
      "Step: 256\tloss: 888.673385\n",
      "Step: 257\tloss: 885.857923\n",
      "Step: 258\tloss: 888.817289\n",
      "Step: 259\tloss: 888.701795\n",
      "Step: 260\tloss: 889.085820\n",
      "Step: 261\tloss: 886.101479\n",
      "Step: 262\tloss: 888.673547\n",
      "Step: 263\tloss: 889.039138\n",
      "Step: 264\tloss: 888.385234\n",
      "Step: 265\tloss: 886.447258\n",
      "Step: 266\tloss: 888.907537\n",
      "Step: 267\tloss: 888.216499\n",
      "Step: 268\tloss: 888.550016\n",
      "Step: 269\tloss: 886.651502\n",
      "Step: 270\tloss: 888.103246\n",
      "Step: 271\tloss: 889.040243\n",
      "Step: 272\tloss: 888.529315\n",
      "Step: 273\tloss: 886.516689\n",
      "Step: 274\tloss: 888.309036\n",
      "Step: 275\tloss: 889.130184\n",
      "Step: 276\tloss: 888.574543\n",
      "Step: 277\tloss: 886.046986\n",
      "Step: 278\tloss: 888.860997\n",
      "Step: 279\tloss: 888.727085\n",
      "Step: 280\tloss: 888.683646\n",
      "Step: 281\tloss: 886.088700\n",
      "Step: 282\tloss: 888.923769\n",
      "Step: 283\tloss: 889.252853\n",
      "Step: 284\tloss: 887.938132\n",
      "Step: 285\tloss: 886.433450\n",
      "Step: 286\tloss: 888.763804\n",
      "Step: 287\tloss: 889.151060\n",
      "Step: 288\tloss: 888.284630\n",
      "Step: 289\tloss: 886.763250\n",
      "Step: 290\tloss: 889.356108\n",
      "Step: 291\tloss: 888.862103\n",
      "Step: 292\tloss: 887.930213\n",
      "Step: 293\tloss: 886.672281\n",
      "Step: 294\tloss: 888.979175\n",
      "Step: 295\tloss: 888.890808\n",
      "Step: 296\tloss: 888.488114\n",
      "Step: 297\tloss: 886.545161\n",
      "Step: 298\tloss: 888.947446\n",
      "Step: 299\tloss: 889.213877\n"
     ]
    },
    {
     "name": "stdout",
     "output_type": "stream",
     "text": [
      "Step: 300\tloss: 887.954476\n",
      "pval: 0.811604\n",
      "Training sequence #1 complete\n"
     ]
    }
   ],
   "source": [
    "estimator.train_sequence('QUICK')"
   ]
  },
  {
   "cell_type": "markdown",
   "metadata": {},
   "source": [
    "## Obtaining the results"
   ]
  },
  {
   "cell_type": "markdown",
   "metadata": {},
   "source": [
    "### Check that constraints were met"
   ]
  },
  {
   "cell_type": "markdown",
   "metadata": {},
   "source": [
    "These parameter sets should sum to zero for each gene."
   ]
  },
  {
   "cell_type": "code",
   "execution_count": 38,
   "metadata": {
    "scrolled": false
   },
   "outputs": [
    {
     "data": {
      "text/plain": [
       "<xarray.DataArray ()>\n",
       "array(1.110223e-16)\n",
       "Coordinates:\n",
       "    design_loc_params  <U2 'p1'"
      ]
     },
     "execution_count": 38,
     "metadata": {},
     "output_type": "execute_result"
    }
   ],
   "source": [
    "np.max(estimator.par_link_loc[1,:]+np.sum(estimator.par_link_loc[2:5,:], axis=0))"
   ]
  },
  {
   "cell_type": "code",
   "execution_count": 39,
   "metadata": {
    "scrolled": false
   },
   "outputs": [
    {
     "data": {
      "text/plain": [
       "<xarray.DataArray ()>\n",
       "array(1.110223e-16)"
      ]
     },
     "execution_count": 39,
     "metadata": {},
     "output_type": "execute_result"
    }
   ],
   "source": [
    "np.max(np.sum(estimator.par_link_loc[1:3,:], axis=0)+np.sum(estimator.par_link_loc[3:5,:], axis=0))"
   ]
  },
  {
   "cell_type": "markdown",
   "metadata": {},
   "source": [
    "## Comparing the results with the simulated data:"
   ]
  },
  {
   "cell_type": "markdown",
   "metadata": {},
   "source": [
    "Linear model output:"
   ]
  },
  {
   "cell_type": "code",
   "execution_count": 40,
   "metadata": {},
   "outputs": [
    {
     "name": "stdout",
     "output_type": "stream",
     "text": [
      "Root mean squared deviation of location: 0.04\n",
      "Root mean squared deviation of scale:    0.10\n"
     ]
    }
   ],
   "source": [
    "locdiff = glm.utils.stats.rmsd(np.matmul(estimator.design_loc, estimator.par_link_loc), \n",
    "                               np.matmul(sim.design_loc, sim.par_link_loc))\n",
    "print(\"Root mean squared deviation of location: %.2f\" % locdiff)\n",
    "\n",
    "scalediff = glm.utils.stats.rmsd(np.matmul(estimator.design_scale, estimator.par_link_scale), \n",
    "                                 np.matmul(sim.design_scale, sim.par_link_scale))\n",
    "print(\"Root mean squared deviation of scale:    %.2f\" % scalediff)"
   ]
  },
  {
   "cell_type": "markdown",
   "metadata": {},
   "source": [
    "# Example 3: advanced"
   ]
  },
  {
   "cell_type": "markdown",
   "metadata": {},
   "source": [
    "## Simulate some data"
   ]
  },
  {
   "cell_type": "markdown",
   "metadata": {},
   "source": [
    "In this example, we have the same scenario as in example 2 but one technical replicate is missing. We have to drop the corresponding constraint and remove the two parameters belonging to this pair of technical replicates."
   ]
  },
  {
   "cell_type": "markdown",
   "metadata": {},
   "source": [
    "### Define design matrices"
   ]
  },
  {
   "cell_type": "code",
   "execution_count": 41,
   "metadata": {
    "scrolled": true
   },
   "outputs": [
    {
     "name": "stdout",
     "output_type": "stream",
     "text": [
      "[[1. 0. 0. 0. 1. 0. 0. 1.]\n",
      " [1. 0. 0. 1. 0. 0. 1. 1.]\n",
      " [1. 0. 0. 1. 0. 1. 0. 1.]\n",
      " [1. 0. 1. 0. 0. 0. 0. 0.]\n",
      " [1. 1. 0. 0. 0. 0. 1. 0.]\n",
      " [1. 1. 0. 0. 0. 1. 0. 0.]]\n"
     ]
    }
   ],
   "source": [
    "ncells = 2000\n",
    "dmat = np.zeros([ncells, 8])\n",
    "dmat[:,0] = 1\n",
    "dmat[:500,1] = 1 # bio rep 1\n",
    "dmat[500:1000,2] = 1 # bio rep 2\n",
    "dmat[1000:1500,3] = 1 # bio rep 3\n",
    "dmat[1500:2000,4] = 1 # bio rep 4\n",
    "dmat[0:250,5] = 1 # tech rep 1\n",
    "dmat[1000:1250,5] = 1 # tech rep 1\n",
    "dmat[250:500,6] = 1 # tech rep 2\n",
    "dmat[1250:1500,6] = 1 # tech rep 2\n",
    "dmat[1000:2000,7] = 1 # condition effect\n",
    "print(np.unique(dmat, axis=0))"
   ]
  },
  {
   "cell_type": "code",
   "execution_count": 42,
   "metadata": {},
   "outputs": [],
   "source": [
    "sim = glm.models.nb_glm.Simulator(num_features=100)"
   ]
  },
  {
   "cell_type": "code",
   "execution_count": 43,
   "metadata": {},
   "outputs": [],
   "source": [
    "sim.parse_dmat_loc(dmat = dmat)\n",
    "sim.parse_dmat_scale(dmat = dmat)\n",
    "sim.generate_params()\n",
    "sim.generate_data()"
   ]
  },
  {
   "cell_type": "markdown",
   "metadata": {},
   "source": [
    "### Simulated model data:"
   ]
  },
  {
   "cell_type": "code",
   "execution_count": 44,
   "metadata": {
    "scrolled": false
   },
   "outputs": [
    {
     "data": {
      "text/plain": [
       "<xarray.DataArray 'X' (observations: 2000, features: 100)>\n",
       "array([[ 7162,  7387,  3382, ...,  4642,  3427,  2539],\n",
       "       [11531, 28312,  4398, ...,  6501,  2815,  3052],\n",
       "       [11137, 21964,  8779, ...,  2818,  2458,  2243],\n",
       "       ...,\n",
       "       [11197, 14933,  2099, ...,  4123,  6367,  4362],\n",
       "       [ 8916, 17550,  2223, ...,  2077,  5256,  4591],\n",
       "       [ 7343, 11708,  2448, ...,  5147,  6220,  6653]])\n",
       "Dimensions without coordinates: observations, features"
      ]
     },
     "execution_count": 44,
     "metadata": {},
     "output_type": "execute_result"
    }
   ],
   "source": [
    "sim.X"
   ]
  },
  {
   "cell_type": "markdown",
   "metadata": {},
   "source": [
    "## Constraints for model"
   ]
  },
  {
   "cell_type": "code",
   "execution_count": 45,
   "metadata": {},
   "outputs": [],
   "source": [
    "dmat_est_loc = sim.design_loc"
   ]
  },
  {
   "cell_type": "code",
   "execution_count": 46,
   "metadata": {},
   "outputs": [],
   "source": [
    "dmat_est_scale = sim.design_scale"
   ]
  },
  {
   "cell_type": "markdown",
   "metadata": {},
   "source": [
    "Build constraints based on sets of parameters that have to sum to zero. Each of these constraints is enforced by binding one of these parameters to the rest of the set. Such a constraint is encoded by assigning a 1 to each parameter in the set and a -1 to to the dependent parameter."
   ]
  },
  {
   "cell_type": "code",
   "execution_count": 47,
   "metadata": {},
   "outputs": [
    {
     "data": {
      "text/plain": [
       "array([[1., 0., 0., 0., 1., 0., 0., 1.],\n",
       "       [1., 0., 0., 1., 0., 0., 1., 1.],\n",
       "       [1., 0., 0., 1., 0., 1., 0., 1.],\n",
       "       [1., 0., 1., 0., 0., 0., 0., 0.],\n",
       "       [1., 1., 0., 0., 0., 0., 1., 0.],\n",
       "       [1., 1., 0., 0., 0., 1., 0., 0.]])"
      ]
     },
     "execution_count": 47,
     "metadata": {},
     "output_type": "execute_result"
    }
   ],
   "source": [
    "np.unique(dmat_est_loc, axis=0)"
   ]
  },
  {
   "cell_type": "code",
   "execution_count": 48,
   "metadata": {},
   "outputs": [
    {
     "data": {
      "text/plain": [
       "array([[ 0.,  0.,  0., -1.,  1.,  0.,  0.,  0.],\n",
       "       [ 0., -1.,  1.,  1.,  1.,  0.,  0.,  0.],\n",
       "       [ 0.,  0.,  0.,  0.,  0., -1.,  1.,  0.]])"
      ]
     },
     "execution_count": 48,
     "metadata": {},
     "output_type": "execute_result"
    }
   ],
   "source": [
    "constraints_loc = np.zeros([3, dmat_est_loc.shape[1]])\n",
    "# Constraint 0: Account for perfect confouding at biological replicate and treatment level \n",
    "# by constraining biological replicate coefficients not to produce mean effects across conditions.\n",
    "constraints_loc[0,3] = -1\n",
    "constraints_loc[0,4:5] = 1\n",
    "# Constraint 1: Account for fact that first level of biological replicates was not absorbed into offset. \n",
    "constraints_loc[1,1] = -1\n",
    "constraints_loc[1,2:5] = 1\n",
    "# Constraint 2: Account for fact that first level of technical replicates was not absorbed into offset. \n",
    "constraints_loc[2,5] = -1\n",
    "constraints_loc[2,6:7] = 1\n",
    "\n",
    "constraints_loc"
   ]
  },
  {
   "cell_type": "code",
   "execution_count": 49,
   "metadata": {},
   "outputs": [],
   "source": [
    "constraints_scale = constraints_loc.copy()"
   ]
  },
  {
   "cell_type": "code",
   "execution_count": 50,
   "metadata": {},
   "outputs": [
    {
     "name": "stdout",
     "output_type": "stream",
     "text": [
      "[[1. 0. 0. 0. 1. 0. 0. 1.]\n",
      " [1. 0. 0. 1. 0. 0. 1. 1.]\n",
      " [1. 0. 0. 1. 0. 1. 0. 1.]\n",
      " [1. 0. 1. 0. 0. 0. 0. 0.]\n",
      " [1. 1. 0. 0. 0. 0. 1. 0.]\n",
      " [1. 1. 0. 0. 0. 1. 0. 0.]\n",
      " [0. 0. 0. 1. 1. 0. 0. 0.]\n",
      " [0. 1. 1. 1. 1. 0. 0. 0.]\n",
      " [0. 0. 0. 0. 0. 1. 1. 0.]]\n",
      "rank deficiency without constraints: 3\n",
      "rank deficiency with constraints: 0\n"
     ]
    }
   ],
   "source": [
    "from numpy.linalg import matrix_rank\n",
    "constraints_loc_mod = constraints_loc.copy()\n",
    "constraints_loc_mod[constraints_loc_mod==-1] = 1\n",
    "print(np.vstack([np.unique(dmat_est_loc, axis=0), constraints_loc_mod]))\n",
    "print(\"rank deficiency without constraints: \"+ str(dmat_est_loc.shape[1] - matrix_rank(np.vstack([np.unique(dmat_est_loc, axis=0)]))))\n",
    "print(\"rank deficiency with constraints: \"+ str(dmat_est_loc.shape[1] - matrix_rank(np.vstack([np.unique(dmat_est_loc, axis=0), constraints_loc_mod]))))"
   ]
  },
  {
   "cell_type": "markdown",
   "metadata": {},
   "source": [
    "## Estimate the model"
   ]
  },
  {
   "cell_type": "code",
   "execution_count": 51,
   "metadata": {},
   "outputs": [],
   "source": [
    "X = sim.X\n",
    "design_loc = dmat_est_loc\n",
    "design_scale = dmat_est_scale\n",
    "\n",
    "# input data\n",
    "input_data = glm.models.nb_glm.InputData.new(\n",
    "    data=X, \n",
    "    design_loc=design_loc,\n",
    "    design_scale=design_scale,\n",
    "    constraints_loc=constraints_loc,\n",
    "    constraints_scale=constraints_scale)"
   ]
  },
  {
   "cell_type": "markdown",
   "metadata": {},
   "source": [
    "### Set up estimator:"
   ]
  },
  {
   "cell_type": "markdown",
   "metadata": {},
   "source": [
    "Note that there is no closed form estimator for the mean model here due to the confounding. The model is initialised with least squares but the mean model is also trained."
   ]
  },
  {
   "cell_type": "code",
   "execution_count": null,
   "metadata": {},
   "outputs": [
    {
     "name": "stdout",
     "output_type": "stream",
     "text": [
      "Using closed-form MLE initialization for mean\n",
      "Should train mu: True\n",
      "Using closed-form MME initialization for dispersion\n",
      "Should train r: True\n"
     ]
    },
    {
     "name": "stderr",
     "output_type": "stream",
     "text": [
      "/Users/david.fischer/miniconda3/lib/python3.6/site-packages/tensorflow/python/ops/gradients_impl.py:108: UserWarning: Converting sparse IndexedSlices to a dense Tensor of unknown shape. This may consume a large amount of memory.\n",
      "  \"Converting sparse IndexedSlices to a dense Tensor of unknown shape. \"\n",
      "/Users/david.fischer/miniconda3/lib/python3.6/site-packages/tensorflow/python/ops/gradients_impl.py:108: UserWarning: Converting sparse IndexedSlices to a dense Tensor of unknown shape. This may consume a large amount of memory.\n",
      "  \"Converting sparse IndexedSlices to a dense Tensor of unknown shape. \"\n",
      "/Users/david.fischer/miniconda3/lib/python3.6/site-packages/tensorflow/python/ops/gradients_impl.py:108: UserWarning: Converting sparse IndexedSlices to a dense Tensor of unknown shape. This may consume a large amount of memory.\n",
      "  \"Converting sparse IndexedSlices to a dense Tensor of unknown shape. \"\n",
      "/Users/david.fischer/miniconda3/lib/python3.6/site-packages/tensorflow/python/ops/gradients_impl.py:108: UserWarning: Converting sparse IndexedSlices to a dense Tensor of unknown shape. This may consume a large amount of memory.\n",
      "  \"Converting sparse IndexedSlices to a dense Tensor of unknown shape. \"\n",
      "/Users/david.fischer/miniconda3/lib/python3.6/site-packages/tensorflow/python/ops/gradients_impl.py:108: UserWarning: Converting sparse IndexedSlices to a dense Tensor of unknown shape. This may consume a large amount of memory.\n",
      "  \"Converting sparse IndexedSlices to a dense Tensor of unknown shape. \"\n",
      "/Users/david.fischer/miniconda3/lib/python3.6/site-packages/tensorflow/python/ops/gradients_impl.py:108: UserWarning: Converting sparse IndexedSlices to a dense Tensor of unknown shape. This may consume a large amount of memory.\n",
      "  \"Converting sparse IndexedSlices to a dense Tensor of unknown shape. \"\n",
      "/Users/david.fischer/miniconda3/lib/python3.6/site-packages/tensorflow/python/ops/gradients_impl.py:108: UserWarning: Converting sparse IndexedSlices to a dense Tensor of unknown shape. This may consume a large amount of memory.\n",
      "  \"Converting sparse IndexedSlices to a dense Tensor of unknown shape. \"\n",
      "/Users/david.fischer/miniconda3/lib/python3.6/site-packages/tensorflow/python/ops/gradients_impl.py:108: UserWarning: Converting sparse IndexedSlices to a dense Tensor of unknown shape. This may consume a large amount of memory.\n",
      "  \"Converting sparse IndexedSlices to a dense Tensor of unknown shape. \"\n"
     ]
    }
   ],
   "source": [
    "estimator = glm.models.nb_glm.Estimator(input_data, quick_scale=False)\n",
    "estimator.initialize()"
   ]
  },
  {
   "cell_type": "markdown",
   "metadata": {},
   "source": [
    "### Train"
   ]
  },
  {
   "cell_type": "markdown",
   "metadata": {},
   "source": [
    "Now start the training sequence and let the estimator choose automatically the best training strategy:"
   ]
  },
  {
   "cell_type": "code",
   "execution_count": null,
   "metadata": {},
   "outputs": [],
   "source": [
    "estimator.train_sequence('QUICK')"
   ]
  },
  {
   "cell_type": "markdown",
   "metadata": {},
   "source": [
    "## Obtaining the results"
   ]
  },
  {
   "cell_type": "markdown",
   "metadata": {},
   "source": [
    "### Check that constraints were met"
   ]
  },
  {
   "cell_type": "markdown",
   "metadata": {},
   "source": [
    "These parameter sets should sum to zero for each gene."
   ]
  },
  {
   "cell_type": "code",
   "execution_count": null,
   "metadata": {
    "scrolled": false
   },
   "outputs": [],
   "source": [
    "np.max(estimator.par_link_loc[1,:]+np.sum(estimator.par_link_loc[2:5,:], axis=0))"
   ]
  },
  {
   "cell_type": "code",
   "execution_count": null,
   "metadata": {
    "scrolled": false
   },
   "outputs": [],
   "source": [
    "np.max(np.sum(estimator.par_link_loc[1:3,:], axis=0)+np.sum(estimator.par_link_loc[3:5,:], axis=0))"
   ]
  },
  {
   "cell_type": "markdown",
   "metadata": {},
   "source": [
    "## Comparing the results with the simulated data:"
   ]
  },
  {
   "cell_type": "markdown",
   "metadata": {},
   "source": [
    "Linear model output:"
   ]
  },
  {
   "cell_type": "code",
   "execution_count": null,
   "metadata": {},
   "outputs": [],
   "source": [
    "locdiff = glm.utils.stats.rmsd(np.matmul(estimator.design_loc, estimator.par_link_loc), \n",
    "                               np.matmul(sim.design_loc, sim.par_link_loc))\n",
    "print(\"Root mean squared deviation of location: %.2f\" % locdiff)\n",
    "\n",
    "scalediff = glm.utils.stats.rmsd(np.matmul(estimator.design_scale, estimator.par_link_scale), \n",
    "                                 np.matmul(sim.design_scale, sim.par_link_scale))\n",
    "print(\"Root mean squared deviation of scale:    %.2f\" % scalediff)"
   ]
  }
 ],
 "metadata": {
  "kernelspec": {
   "display_name": "Python 3",
   "language": "python",
   "name": "python3"
  },
  "language_info": {
   "codemirror_mode": {
    "name": "ipython",
    "version": 3
   },
   "file_extension": ".py",
   "mimetype": "text/x-python",
   "name": "python",
   "nbconvert_exporter": "python",
   "pygments_lexer": "ipython3",
   "version": "3.6.5"
  }
 },
 "nbformat": 4,
 "nbformat_minor": 2
}
