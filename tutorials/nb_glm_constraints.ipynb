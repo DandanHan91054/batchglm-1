{
 "cells": [
  {
   "cell_type": "code",
   "execution_count": 1,
   "metadata": {},
   "outputs": [
    {
     "name": "stderr",
     "output_type": "stream",
     "text": [
      "/Users/david.fischer/miniconda3/lib/python3.6/importlib/_bootstrap.py:219: RuntimeWarning: numpy.dtype size changed, may indicate binary incompatibility. Expected 96, got 88\n",
      "  return f(*args, **kwds)\n",
      "/Users/david.fischer/miniconda3/lib/python3.6/importlib/_bootstrap.py:219: RuntimeWarning: numpy.dtype size changed, may indicate binary incompatibility. Expected 96, got 88\n",
      "  return f(*args, **kwds)\n"
     ]
    }
   ],
   "source": [
    "import os\n",
    "import datetime\n",
    "import numpy as np\n",
    "import xarray as xa\n",
    "import pprint\n",
    "\n",
    "import logging\n",
    "import warnings\n",
    "\n",
    "logging.getLogger(\"tensorflow\").setLevel(logging.INFO)\n",
    "logging.getLogger(\"batchglm\").setLevel(logging.INFO)"
   ]
  },
  {
   "cell_type": "markdown",
   "metadata": {},
   "source": [
    "## Import batchglm"
   ]
  },
  {
   "cell_type": "code",
   "execution_count": 2,
   "metadata": {},
   "outputs": [],
   "source": [
    "import batchglm.api as glm"
   ]
  },
  {
   "cell_type": "code",
   "execution_count": 3,
   "metadata": {},
   "outputs": [],
   "source": [
    "# just to ignore some tensorflow warnings; just ignore this line\n",
    "warnings.filterwarnings(\"ignore\", category=DeprecationWarning, module=\"tensorflow\")"
   ]
  },
  {
   "cell_type": "markdown",
   "metadata": {},
   "source": [
    "# Introduction"
   ]
  },
  {
   "cell_type": "markdown",
   "metadata": {},
   "source": [
    "Perfect confounding occurs frequently in differential expression assays, often if biological replicates cannot be spread acrodd conditions: This is often the case with animals or patients. Perfect confoudnding implies that the corresponding design matrix is not full rank and the model underdetermined. This can be circumvented by certain tricks which essentially regress repplicates to reference replicates. We believe that this is firstly undesirable as the condition coefficients depend on the identity of the reference replicates and accordingly on the ordering of the replicates, which has no experiental meaning and is purely a result of sample labels. Secondly, such tricks may be hard to come up with in hard cases such as presented in example 2. Here, we show how one can solve both problems by constraining parameterse in the model. "
   ]
  },
  {
   "cell_type": "markdown",
   "metadata": {},
   "source": [
    "# Example 1: easy"
   ]
  },
  {
   "cell_type": "markdown",
   "metadata": {},
   "source": [
    "## Simulate data"
   ]
  },
  {
   "cell_type": "markdown",
   "metadata": {},
   "source": [
    "In this example, we have 4 biological replicates (animals, patients, cell culture replicates etc.) in a treatment experiment: 2 in each condition (treated, untreated). Accordingly, there is perfect confounding at this level. We circumvent this by constraining the biological replicate coefficients to not model mean trends. "
   ]
  },
  {
   "cell_type": "markdown",
   "metadata": {},
   "source": [
    "### Define design matrices"
   ]
  },
  {
   "cell_type": "code",
   "execution_count": 4,
   "metadata": {},
   "outputs": [
    {
     "name": "stdout",
     "output_type": "stream",
     "text": [
      "[[1. 0. 0. 0. 1. 1.]\n",
      " [1. 0. 0. 1. 0. 1.]\n",
      " [1. 0. 1. 0. 0. 0.]\n",
      " [1. 1. 0. 0. 0. 0.]]\n"
     ]
    }
   ],
   "source": [
    "ncells = 2000\n",
    "dmat = np.zeros([ncells, 6])\n",
    "dmat[:,0] = 1\n",
    "dmat[:500,1] = 1 # bio rep 1\n",
    "dmat[500:1000,2] = 1 # bio rep 2\n",
    "dmat[1000:1500,3] = 1 # bio rep 3\n",
    "dmat[1500:2000,4] = 1 # bio rep 4\n",
    "dmat[1000:2000,5] = 1 # condition effect\n",
    "print(np.unique(dmat, axis=0))"
   ]
  },
  {
   "cell_type": "code",
   "execution_count": 5,
   "metadata": {},
   "outputs": [],
   "source": [
    "sim = glm.models.nb_glm.Simulator(num_features=100)"
   ]
  },
  {
   "cell_type": "code",
   "execution_count": 6,
   "metadata": {},
   "outputs": [],
   "source": [
    "sim.parse_dmat_loc(dmat = dmat)\n",
    "sim.parse_dmat_scale(dmat = dmat)\n",
    "sim.generate_params()\n",
    "sim.generate_data()"
   ]
  },
  {
   "cell_type": "markdown",
   "metadata": {},
   "source": [
    "### Simulated model data:"
   ]
  },
  {
   "cell_type": "code",
   "execution_count": 7,
   "metadata": {
    "scrolled": true
   },
   "outputs": [
    {
     "data": {
      "text/plain": [
       "<xarray.DataArray 'X' (observations: 2000, features: 100)>\n",
       "array([[ 8748,   240,  1575, ...,  3250,  9136,  1443],\n",
       "       [ 2661,   399,  6346, ...,  3937, 11178,  1880],\n",
       "       [ 6191,   560, 10554, ...,   280,  6013,  1675],\n",
       "       ...,\n",
       "       [  693,   260,  3015, ...,  2743,  5058,  2532],\n",
       "       [ 3421,   471,  1709, ...,  1431,  4731,  3672],\n",
       "       [ 2630,   356,  3127, ...,  1239,  6189,  4218]])\n",
       "Dimensions without coordinates: observations, features"
      ]
     },
     "execution_count": 7,
     "metadata": {},
     "output_type": "execute_result"
    }
   ],
   "source": [
    "sim.X"
   ]
  },
  {
   "cell_type": "code",
   "execution_count": 8,
   "metadata": {},
   "outputs": [
    {
     "data": {
      "text/plain": [
       "array([[1., 0., 0., 0., 1., 1.],\n",
       "       [1., 0., 0., 1., 0., 1.],\n",
       "       [1., 0., 1., 0., 0., 0.],\n",
       "       [1., 1., 0., 0., 0., 0.]])"
      ]
     },
     "execution_count": 8,
     "metadata": {},
     "output_type": "execute_result"
    }
   ],
   "source": [
    "np.unique(sim.design_loc, axis=0)"
   ]
  },
  {
   "cell_type": "markdown",
   "metadata": {},
   "source": [
    "### The parameters used to generate this data:"
   ]
  },
  {
   "cell_type": "code",
   "execution_count": 9,
   "metadata": {},
   "outputs": [
    {
     "data": {
      "text/plain": [
       "<xarray.DataArray 'a' (design_loc_params: 6, features: 100)>\n",
       "array([[ 7.681302,  6.426493,  8.453818, ...,  7.061664,  8.7527  ,  7.082208],\n",
       "       [ 0.596076, -0.260664,  0.344946, ...,  0.41391 ,  0.290087,  0.303743],\n",
       "       [-0.58059 ,  0.676564,  0.601983, ..., -0.639302, -0.227794,  0.110647],\n",
       "       [ 0.349964,  0.29329 ,  0.315424, ..., -0.035934, -0.320695,  0.520277],\n",
       "       [-0.136573, -0.305077, -0.400273, ..., -0.143767, -0.250734,  0.351327],\n",
       "       [ 0.0266  , -0.244444, -0.402638, ...,  0.358352,  0.289822,  0.646176]])\n",
       "Coordinates:\n",
       "  * design_loc_params  (design_loc_params) <U2 'p0' 'p1' 'p2' 'p3' 'p4' 'p5'\n",
       "Dimensions without coordinates: features"
      ]
     },
     "execution_count": 9,
     "metadata": {},
     "output_type": "execute_result"
    }
   ],
   "source": [
    "sim.par_link_loc"
   ]
  },
  {
   "cell_type": "code",
   "execution_count": 10,
   "metadata": {},
   "outputs": [
    {
     "data": {
      "text/plain": [
       "<xarray.DataArray 'b' (design_scale_params: 6, features: 100)>\n",
       "array([[ 0.693147,  1.609438,  1.609438, ...,  0.693147,  2.197225,  2.079442],\n",
       "       [ 0.432884,  0.604129,  0.689487, ..., -0.054269,  0.537832,  0.678888],\n",
       "       [ 0.676455, -0.02341 , -0.373627, ...,  0.60634 , -0.669739,  0.188034],\n",
       "       [-0.485618,  0.471493,  0.249616, ..., -0.353821, -0.386194, -0.405198],\n",
       "       [ 0.050158, -0.134707,  0.560509, ...,  0.250092,  0.591507,  0.371377],\n",
       "       [ 0.146419,  0.580591,  0.079056, ..., -0.350386,  0.530564,  0.442931]])\n",
       "Coordinates:\n",
       "  * design_scale_params  (design_scale_params) <U2 'p0' 'p1' 'p2' 'p3' 'p4' 'p5'\n",
       "Dimensions without coordinates: features"
      ]
     },
     "execution_count": 10,
     "metadata": {},
     "output_type": "execute_result"
    }
   ],
   "source": [
    "sim.par_link_scale"
   ]
  },
  {
   "cell_type": "markdown",
   "metadata": {},
   "source": [
    "## Constraints for model"
   ]
  },
  {
   "cell_type": "code",
   "execution_count": 11,
   "metadata": {},
   "outputs": [],
   "source": [
    "dmat_est_loc = sim.design_loc"
   ]
  },
  {
   "cell_type": "code",
   "execution_count": 12,
   "metadata": {},
   "outputs": [],
   "source": [
    "dmat_est_scale = sim.design_scale"
   ]
  },
  {
   "cell_type": "markdown",
   "metadata": {},
   "source": [
    "Build constraints based on sets of parameters that have to sum to zero. Each of these constraints is enforced by binding one of these parameters to the rest of the set. Such a constraint is encoded by assigning a 1 to each parameter in the set and a -1 to to the dependent parameter."
   ]
  },
  {
   "cell_type": "code",
   "execution_count": 13,
   "metadata": {},
   "outputs": [
    {
     "data": {
      "text/plain": [
       "array([[ 0.,  0.,  0., -1.,  1.,  0.],\n",
       "       [ 0., -1.,  1.,  1.,  1.,  0.]])"
      ]
     },
     "execution_count": 13,
     "metadata": {},
     "output_type": "execute_result"
    }
   ],
   "source": [
    "constraints_loc = np.zeros([2, dmat_est_loc.shape[1]])\n",
    "# Constraint 0: Account for perfect confouding at biological replicate and treatment level \n",
    "# by constraining biological replicate coefficients not to produce mean effects across conditions.\n",
    "constraints_loc[0,3] = -1\n",
    "constraints_loc[0,4:5] = 1\n",
    "# Constraint 1: Account for fact that first level of biological replicates was not absorbed into offset.\n",
    "constraints_loc[1,1] = -1\n",
    "constraints_loc[1,2:5] = 1\n",
    "constraints_loc"
   ]
  },
  {
   "cell_type": "code",
   "execution_count": 14,
   "metadata": {},
   "outputs": [],
   "source": [
    "constraints_scale = constraints_loc.copy()"
   ]
  },
  {
   "cell_type": "code",
   "execution_count": 15,
   "metadata": {},
   "outputs": [
    {
     "name": "stdout",
     "output_type": "stream",
     "text": [
      "[[1. 0. 0. 0. 1. 1.]\n",
      " [1. 0. 0. 1. 0. 1.]\n",
      " [1. 0. 1. 0. 0. 0.]\n",
      " [1. 1. 0. 0. 0. 0.]\n",
      " [0. 0. 0. 1. 1. 0.]\n",
      " [0. 1. 1. 1. 1. 0.]]\n",
      "rank deficiency without constraints: 2\n",
      "rank deficiency with constraints: 0\n"
     ]
    }
   ],
   "source": [
    "from numpy.linalg import matrix_rank\n",
    "constraints_loc_mod = constraints_loc.copy()\n",
    "constraints_loc_mod[constraints_loc_mod==-1] = 1\n",
    "print(np.vstack([np.unique(dmat_est_loc, axis=0), constraints_loc_mod]))\n",
    "print(\"rank deficiency without constraints: \"+ str(dmat_est_loc.shape[1] - matrix_rank(np.vstack([np.unique(dmat_est_loc, axis=0)]))))\n",
    "print(\"rank deficiency with constraints: \"+ str(dmat_est_loc.shape[1] - matrix_rank(np.vstack([np.unique(dmat_est_loc, axis=0), constraints_loc_mod]))))"
   ]
  },
  {
   "cell_type": "markdown",
   "metadata": {},
   "source": [
    "## Estimate the model"
   ]
  },
  {
   "cell_type": "code",
   "execution_count": 16,
   "metadata": {},
   "outputs": [],
   "source": [
    "X = sim.X\n",
    "design_loc = dmat_est_loc\n",
    "design_scale = dmat_est_scale\n",
    "\n",
    "# input data\n",
    "input_data = glm.models.nb_glm.InputData.new(\n",
    "    data=X, \n",
    "    design_loc=design_loc,\n",
    "    design_scale=design_scale)\n",
    "input_data.constraints_loc = constraints_loc\n",
    "input_data.constraints_scale = constraints_scale"
   ]
  },
  {
   "cell_type": "markdown",
   "metadata": {},
   "source": [
    "### Set up estimator:"
   ]
  },
  {
   "cell_type": "code",
   "execution_count": 17,
   "metadata": {},
   "outputs": [
    {
     "name": "stdout",
     "output_type": "stream",
     "text": [
      "Using closed-form MLE initialization for mean\n",
      "Should train mu: False\n",
      "Using closed-form MME initialization for dispersion\n",
      "Should train r: True\n"
     ]
    },
    {
     "name": "stderr",
     "output_type": "stream",
     "text": [
      "/Users/david.fischer/miniconda3/lib/python3.6/site-packages/tensorflow/python/ops/gradients_impl.py:108: UserWarning: Converting sparse IndexedSlices to a dense Tensor of unknown shape. This may consume a large amount of memory.\n",
      "  \"Converting sparse IndexedSlices to a dense Tensor of unknown shape. \"\n",
      "/Users/david.fischer/miniconda3/lib/python3.6/site-packages/tensorflow/python/ops/gradients_impl.py:108: UserWarning: Converting sparse IndexedSlices to a dense Tensor of unknown shape. This may consume a large amount of memory.\n",
      "  \"Converting sparse IndexedSlices to a dense Tensor of unknown shape. \"\n",
      "/Users/david.fischer/miniconda3/lib/python3.6/site-packages/tensorflow/python/ops/gradients_impl.py:108: UserWarning: Converting sparse IndexedSlices to a dense Tensor of unknown shape. This may consume a large amount of memory.\n",
      "  \"Converting sparse IndexedSlices to a dense Tensor of unknown shape. \"\n",
      "/Users/david.fischer/miniconda3/lib/python3.6/site-packages/tensorflow/python/ops/gradients_impl.py:108: UserWarning: Converting sparse IndexedSlices to a dense Tensor of unknown shape. This may consume a large amount of memory.\n",
      "  \"Converting sparse IndexedSlices to a dense Tensor of unknown shape. \"\n"
     ]
    },
    {
     "name": "stdout",
     "output_type": "stream",
     "text": [
      "Graph was finalized.\n",
      "Running local_init_op.\n",
      "Done running local_init_op.\n"
     ]
    }
   ],
   "source": [
    "estimator = glm.models.nb_glm.Estimator(input_data, quick_scale=False)\n",
    "estimator.initialize()"
   ]
  },
  {
   "cell_type": "markdown",
   "metadata": {},
   "source": [
    "### Train"
   ]
  },
  {
   "cell_type": "markdown",
   "metadata": {},
   "source": [
    "Now start the training sequence and let the estimator choose automatically the best training strategy:"
   ]
  },
  {
   "cell_type": "code",
   "execution_count": 18,
   "metadata": {
    "scrolled": true
   },
   "outputs": [
    {
     "name": "stdout",
     "output_type": "stream",
     "text": [
      "training strategy:\n",
      "[{'convergence_criteria': 't_test',\n",
      "  'learning_rate': 0.1,\n",
      "  'loss_window_size': 100,\n",
      "  'optim_algo': 'ADAM',\n",
      "  'stop_at_loss_change': 0.05,\n",
      "  'use_batching': True}]\n",
      "Beginning with training sequence #1\n",
      "Step: 1\tloss: 878.631537\n",
      "Step: 2\tloss: 881.710203\n",
      "Step: 3\tloss: 881.166402\n",
      "Step: 4\tloss: 881.281252\n",
      "Step: 5\tloss: 878.513435\n",
      "Step: 6\tloss: 880.806519\n",
      "Step: 7\tloss: 881.782653\n",
      "Step: 8\tloss: 881.474961\n",
      "Step: 9\tloss: 878.084891\n",
      "Step: 10\tloss: 881.736248\n",
      "Step: 11\tloss: 881.416839\n",
      "Step: 12\tloss: 881.053441\n",
      "Step: 13\tloss: 878.584827\n",
      "Step: 14\tloss: 880.937913\n",
      "Step: 15\tloss: 881.432792\n",
      "Step: 16\tloss: 881.308316\n",
      "Step: 17\tloss: 878.406622\n",
      "Step: 18\tloss: 881.006448\n",
      "Step: 19\tloss: 881.354788\n",
      "Step: 20\tloss: 881.444263\n",
      "Step: 21\tloss: 878.623960\n",
      "Step: 22\tloss: 881.124211\n",
      "Step: 23\tloss: 881.035434\n",
      "Step: 24\tloss: 881.364314\n",
      "Step: 25\tloss: 878.584320\n",
      "Step: 26\tloss: 880.686075\n",
      "Step: 27\tloss: 881.302150\n",
      "Step: 28\tloss: 881.555363\n",
      "Step: 29\tloss: 877.892759\n",
      "Step: 30\tloss: 881.616366\n",
      "Step: 31\tloss: 881.199447\n",
      "Step: 32\tloss: 881.434859\n",
      "Step: 33\tloss: 878.504294\n",
      "Step: 34\tloss: 880.296401\n",
      "Step: 35\tloss: 881.620728\n",
      "Step: 36\tloss: 881.713287\n",
      "Step: 37\tloss: 878.120894\n",
      "Step: 38\tloss: 880.764773\n",
      "Step: 39\tloss: 881.689215\n",
      "Step: 40\tloss: 881.540335\n",
      "Step: 41\tloss: 878.198233\n",
      "Step: 42\tloss: 880.937960\n",
      "Step: 43\tloss: 881.844526\n",
      "Step: 44\tloss: 881.122429\n",
      "Step: 45\tloss: 878.513290\n",
      "Step: 46\tloss: 881.156983\n",
      "Step: 47\tloss: 881.274487\n",
      "Step: 48\tloss: 881.173930\n",
      "Step: 49\tloss: 878.080053\n",
      "Step: 50\tloss: 881.059992\n",
      "Step: 51\tloss: 881.533572\n",
      "Step: 52\tloss: 881.430096\n",
      "Step: 53\tloss: 878.860675\n",
      "Step: 54\tloss: 880.466094\n",
      "Step: 55\tloss: 880.970050\n",
      "Step: 56\tloss: 881.810641\n",
      "Step: 57\tloss: 878.487510\n",
      "Step: 58\tloss: 880.960021\n",
      "Step: 59\tloss: 881.412371\n",
      "Step: 60\tloss: 881.244007\n",
      "Step: 61\tloss: 878.290721\n",
      "Step: 62\tloss: 880.650857\n",
      "Step: 63\tloss: 881.736663\n",
      "Step: 64\tloss: 881.420691\n",
      "Step: 65\tloss: 878.335028\n",
      "Step: 66\tloss: 880.276563\n",
      "Step: 67\tloss: 882.180153\n",
      "Step: 68\tloss: 881.306885\n",
      "Step: 69\tloss: 879.012516\n",
      "Step: 70\tloss: 880.765264\n",
      "Step: 71\tloss: 880.930239\n",
      "Step: 72\tloss: 881.397963\n",
      "Step: 73\tloss: 878.565554\n",
      "Step: 74\tloss: 880.633229\n",
      "Step: 75\tloss: 881.663562\n",
      "Step: 76\tloss: 881.247515\n",
      "Step: 77\tloss: 878.473036\n",
      "Step: 78\tloss: 881.169863\n",
      "Step: 79\tloss: 881.121632\n",
      "Step: 80\tloss: 881.333003\n",
      "Step: 81\tloss: 878.740186\n",
      "Step: 82\tloss: 880.948191\n",
      "Step: 83\tloss: 881.241047\n",
      "Step: 84\tloss: 881.172362\n",
      "Step: 85\tloss: 879.103585\n",
      "Step: 86\tloss: 880.730618\n",
      "Step: 87\tloss: 881.017969\n",
      "Step: 88\tloss: 881.256183\n",
      "Step: 89\tloss: 878.828912\n",
      "Step: 90\tloss: 880.177985\n",
      "Step: 91\tloss: 881.515242\n",
      "Step: 92\tloss: 881.594380\n",
      "Step: 93\tloss: 878.466509\n",
      "Step: 94\tloss: 880.953818\n",
      "Step: 95\tloss: 881.769364\n",
      "Step: 96\tloss: 880.908313\n",
      "Step: 97\tloss: 878.265013\n",
      "Step: 98\tloss: 881.252230\n",
      "Step: 99\tloss: 881.553400\n",
      "Step: 100\tloss: 881.034103\n",
      "Step: 101\tloss: 878.123723\n",
      "Step: 102\tloss: 880.930776\n",
      "Step: 103\tloss: 881.453668\n",
      "Step: 104\tloss: 881.588669\n",
      "Step: 105\tloss: 878.707462\n",
      "Step: 106\tloss: 880.647239\n",
      "Step: 107\tloss: 881.605413\n",
      "Step: 108\tloss: 881.142102\n",
      "Step: 109\tloss: 878.909128\n",
      "Step: 110\tloss: 880.822771\n",
      "Step: 111\tloss: 881.321561\n",
      "Step: 112\tloss: 881.054452\n",
      "Step: 113\tloss: 878.787313\n",
      "Step: 114\tloss: 880.355039\n",
      "Step: 115\tloss: 881.296632\n",
      "Step: 116\tloss: 881.672471\n",
      "Step: 117\tloss: 878.368486\n",
      "Step: 118\tloss: 881.202387\n",
      "Step: 119\tloss: 881.057947\n",
      "Step: 120\tloss: 881.465540\n",
      "Step: 121\tloss: 878.190202\n",
      "Step: 122\tloss: 880.672605\n",
      "Step: 123\tloss: 881.910020\n",
      "Step: 124\tloss: 881.343290\n",
      "Step: 125\tloss: 878.451265\n",
      "Step: 126\tloss: 881.013944\n",
      "Step: 127\tloss: 881.356005\n",
      "Step: 128\tloss: 881.298312\n",
      "Step: 129\tloss: 878.722820\n",
      "Step: 130\tloss: 880.452906\n",
      "Step: 131\tloss: 881.088192\n",
      "Step: 132\tloss: 881.862965\n",
      "Step: 133\tloss: 878.247951\n",
      "Step: 134\tloss: 880.902713\n",
      "Step: 135\tloss: 881.897432\n",
      "Step: 136\tloss: 881.071706\n",
      "Step: 137\tloss: 877.982890\n",
      "Step: 138\tloss: 881.931515\n",
      "Step: 139\tloss: 881.173557\n",
      "Step: 140\tloss: 881.024276\n",
      "Step: 141\tloss: 878.625915\n",
      "Step: 142\tloss: 880.870387\n",
      "Step: 143\tloss: 881.413001\n",
      "Step: 144\tloss: 881.244046\n",
      "Step: 145\tloss: 878.601328\n",
      "Step: 146\tloss: 880.970712\n",
      "Step: 147\tloss: 881.067609\n",
      "Step: 148\tloss: 881.475551\n",
      "Step: 149\tloss: 878.013221\n",
      "Step: 150\tloss: 880.726223\n",
      "Step: 151\tloss: 881.581535\n",
      "Step: 152\tloss: 881.788638\n",
      "Step: 153\tloss: 879.128466\n",
      "Step: 154\tloss: 880.972921\n",
      "Step: 155\tloss: 881.193953\n",
      "Step: 156\tloss: 880.797475\n",
      "Step: 157\tloss: 878.377267\n",
      "Step: 158\tloss: 881.042533\n",
      "Step: 159\tloss: 881.692194\n",
      "Step: 160\tloss: 881.010632\n",
      "Step: 161\tloss: 878.330092\n",
      "Step: 162\tloss: 880.975386\n",
      "Step: 163\tloss: 880.895313\n",
      "Step: 164\tloss: 881.900818\n",
      "Step: 165\tloss: 878.503279\n",
      "Step: 166\tloss: 880.872481\n",
      "Step: 167\tloss: 881.174332\n",
      "Step: 168\tloss: 881.536760\n",
      "Step: 169\tloss: 878.520689\n",
      "Step: 170\tloss: 881.033454\n",
      "Step: 171\tloss: 881.283381\n",
      "Step: 172\tloss: 881.255694\n",
      "Step: 173\tloss: 878.941033\n",
      "Step: 174\tloss: 880.502987\n",
      "Step: 175\tloss: 881.527342\n",
      "Step: 176\tloss: 881.133224\n",
      "Step: 177\tloss: 878.357930\n",
      "Step: 178\tloss: 880.725930\n",
      "Step: 179\tloss: 881.305134\n",
      "Step: 180\tloss: 881.716824\n",
      "Step: 181\tloss: 878.536287\n",
      "Step: 182\tloss: 880.885373\n",
      "Step: 183\tloss: 880.794037\n",
      "Step: 184\tloss: 881.893359\n",
      "Step: 185\tloss: 878.710401\n",
      "Step: 186\tloss: 880.962748\n",
      "Step: 187\tloss: 881.080905\n",
      "Step: 188\tloss: 881.350924\n",
      "Step: 189\tloss: 878.882415\n",
      "Step: 190\tloss: 881.289719\n",
      "Step: 191\tloss: 880.957068\n",
      "Step: 192\tloss: 880.979982\n",
      "Step: 193\tloss: 878.907719\n",
      "Step: 194\tloss: 880.522606\n",
      "Step: 195\tloss: 881.213709\n",
      "Step: 196\tloss: 881.466032\n",
      "Step: 197\tloss: 877.986971\n",
      "Step: 198\tloss: 881.156205\n",
      "Step: 199\tloss: 881.620448\n",
      "Step: 200\tloss: 881.339805\n",
      "pval: 0.462188\n",
      "Training sequence #1 complete\n"
     ]
    }
   ],
   "source": [
    "estimator.train_sequence('QUICK')"
   ]
  },
  {
   "cell_type": "markdown",
   "metadata": {},
   "source": [
    "## Obtaining the results"
   ]
  },
  {
   "cell_type": "markdown",
   "metadata": {},
   "source": [
    "The fitted parameters can be retrieved by calling the corresponding parameters of `estimator`:"
   ]
  },
  {
   "cell_type": "code",
   "execution_count": 19,
   "metadata": {},
   "outputs": [
    {
     "data": {
      "text/plain": [
       "<xarray.DataArray (design_loc_params: 6, features: 100)>\n",
       "array([[ 7.690408,  6.630789,  8.950169, ...,  6.91882 ,  8.786102,  7.270343],\n",
       "       [ 0.613347, -0.486226, -0.129699, ...,  0.509701,  0.254325,  0.114967],\n",
       "       [-0.613347,  0.486226,  0.129699, ..., -0.509701, -0.254325, -0.114967],\n",
       "       [ 0.233741,  0.29223 ,  0.360669, ...,  0.104453, -0.031567,  0.079472],\n",
       "       [-0.233741, -0.29223 , -0.360669, ..., -0.104453,  0.031567, -0.079472],\n",
       "       [ 0.101716, -0.453394, -0.945108, ...,  0.408446, -0.029539,  0.887626]])\n",
       "Coordinates:\n",
       "  * design_loc_params  (design_loc_params) <U2 'p0' 'p1' 'p2' 'p3' 'p4' 'p5'\n",
       "    feature_allzero    (features) bool False False False False False False ...\n",
       "  * features           (features) int64 0 1 2 3 4 5 6 7 8 9 10 11 12 13 14 ..."
      ]
     },
     "execution_count": 19,
     "metadata": {},
     "output_type": "execute_result"
    }
   ],
   "source": [
    "estimator.par_link_loc"
   ]
  },
  {
   "cell_type": "code",
   "execution_count": 20,
   "metadata": {
    "scrolled": true
   },
   "outputs": [
    {
     "data": {
      "text/plain": [
       "<xarray.DataArray (design_scale_params: 6, features: 100)>\n",
       "array([[ 1.164772,  1.989523,  1.692178, ...,  1.061214,  2.158127,  2.492803],\n",
       "       [-0.034207,  0.30603 ,  0.508829, ..., -0.371673,  0.604003,  0.234446],\n",
       "       [ 0.034207, -0.30603 , -0.508829, ...,  0.371673, -0.604003, -0.234446],\n",
       "       [-0.236386,  0.382006, -0.116894, ..., -0.291342, -0.46451 , -0.427619],\n",
       "       [ 0.236386, -0.382006,  0.116894, ...,  0.291342,  0.46451 ,  0.427619],\n",
       "       [-0.523795,  0.368175,  0.414134, ..., -0.773622,  0.632496, -0.039537]])\n",
       "Coordinates:\n",
       "  * design_scale_params  (design_scale_params) <U2 'p0' 'p1' 'p2' 'p3' 'p4' 'p5'\n",
       "    feature_allzero      (features) bool False False False False False False ...\n",
       "  * features             (features) int64 0 1 2 3 4 5 6 7 8 9 10 11 12 13 14 ..."
      ]
     },
     "execution_count": 20,
     "metadata": {},
     "output_type": "execute_result"
    }
   ],
   "source": [
    "estimator.par_link_scale"
   ]
  },
  {
   "cell_type": "markdown",
   "metadata": {},
   "source": [
    "### Check that constraints were met"
   ]
  },
  {
   "cell_type": "markdown",
   "metadata": {},
   "source": [
    "These parameter sets should sum to zero for each gene."
   ]
  },
  {
   "cell_type": "code",
   "execution_count": 21,
   "metadata": {
    "scrolled": false
   },
   "outputs": [
    {
     "data": {
      "text/plain": [
       "<xarray.DataArray ()>\n",
       "array(5.551115e-17)\n",
       "Coordinates:\n",
       "    design_loc_params  <U2 'p1'"
      ]
     },
     "execution_count": 21,
     "metadata": {},
     "output_type": "execute_result"
    }
   ],
   "source": [
    "np.max(estimator.par_link_loc[1,:]+np.sum(estimator.par_link_loc[2:5,:], axis=0))"
   ]
  },
  {
   "cell_type": "code",
   "execution_count": 22,
   "metadata": {
    "scrolled": false
   },
   "outputs": [
    {
     "data": {
      "text/plain": [
       "<xarray.DataArray ()>\n",
       "array(5.551115e-17)"
      ]
     },
     "execution_count": 22,
     "metadata": {},
     "output_type": "execute_result"
    }
   ],
   "source": [
    "np.max(np.sum(estimator.par_link_loc[1:3,:], axis=0)+np.sum(estimator.par_link_loc[3:5,:], axis=0))"
   ]
  },
  {
   "cell_type": "markdown",
   "metadata": {},
   "source": [
    "## Comparing the results with the simulated data:"
   ]
  },
  {
   "cell_type": "markdown",
   "metadata": {},
   "source": [
    "Linear model output:"
   ]
  },
  {
   "cell_type": "code",
   "execution_count": 23,
   "metadata": {},
   "outputs": [
    {
     "name": "stdout",
     "output_type": "stream",
     "text": [
      "Root mean squared deviation of location: 0.02\n",
      "Root mean squared deviation of scale:    0.07\n"
     ]
    }
   ],
   "source": [
    "locdiff = glm.utils.stats.rmsd(np.matmul(estimator.design_loc, estimator.par_link_loc), \n",
    "                               np.matmul(sim.design_loc, sim.par_link_loc))\n",
    "print(\"Root mean squared deviation of location: %.2f\" % locdiff)\n",
    "\n",
    "scalediff = glm.utils.stats.rmsd(np.matmul(estimator.design_scale, estimator.par_link_scale), \n",
    "                                 np.matmul(sim.design_scale, sim.par_link_scale))\n",
    "print(\"Root mean squared deviation of scale:    %.2f\" % scalediff)"
   ]
  },
  {
   "cell_type": "markdown",
   "metadata": {},
   "source": [
    "# Example 2: advanced"
   ]
  },
  {
   "cell_type": "markdown",
   "metadata": {},
   "source": [
    "## Simulate some data"
   ]
  },
  {
   "cell_type": "markdown",
   "metadata": {},
   "source": [
    "In this example, we have 4 biological replicates (animals, patients, cell culture replicates etc.) in a treatment experiment: 2 in each condition (treated, untreated). Accordingly, there is perfect confounding at this level already. We circumvent this by constraining the biological replicate coefficients to not model mean trends (constraints 0,1). Secondly, there a are technical replicates which contain cells from one biological replicate from each condition. Each biological replicate was assigned to one treated-untreated sample pair and each pair split into two technical replicates. Again, we correct perfect confouding by constrainig the techincal replicate coefficients not to model mean effects by constraints 2,3."
   ]
  },
  {
   "cell_type": "markdown",
   "metadata": {},
   "source": [
    "### Define design matrices"
   ]
  },
  {
   "cell_type": "code",
   "execution_count": 24,
   "metadata": {
    "scrolled": true
   },
   "outputs": [
    {
     "name": "stdout",
     "output_type": "stream",
     "text": [
      "[[1. 0. 0. 0. 1. 0. 0. 0. 1. 1.]\n",
      " [1. 0. 0. 0. 1. 0. 0. 1. 0. 1.]\n",
      " [1. 0. 0. 1. 0. 0. 1. 0. 0. 1.]\n",
      " [1. 0. 0. 1. 0. 1. 0. 0. 0. 1.]\n",
      " [1. 0. 1. 0. 0. 0. 0. 0. 1. 0.]\n",
      " [1. 0. 1. 0. 0. 0. 0. 1. 0. 0.]\n",
      " [1. 1. 0. 0. 0. 0. 1. 0. 0. 0.]\n",
      " [1. 1. 0. 0. 0. 1. 0. 0. 0. 0.]]\n"
     ]
    }
   ],
   "source": [
    "ncells = 2000\n",
    "dmat = np.zeros([ncells, 10])\n",
    "dmat[:,0] = 1\n",
    "dmat[:500,1] = 1 # bio rep 1\n",
    "dmat[500:1000,2] = 1 # bio rep 2\n",
    "dmat[1000:1500,3] = 1 # bio rep 3\n",
    "dmat[1500:2000,4] = 1 # bio rep 4\n",
    "dmat[0:250,5] = 1 # tech rep 1\n",
    "dmat[1000:1250,5] = 1 # tech rep 1\n",
    "dmat[250:500,6] = 1 # tech rep 2\n",
    "dmat[1250:1500,6] = 1 # tech rep 2\n",
    "dmat[500:750,7] = 1 # tech rep 3\n",
    "dmat[1500:1750,7] = 1 # tech rep 3\n",
    "dmat[750:1000,8] = 1 # tech rep 4\n",
    "dmat[1750:2000,8] = 1 # tech rep 4\n",
    "dmat[1000:2000,9] = 1 # condition effect\n",
    "print(np.unique(dmat, axis=0))"
   ]
  },
  {
   "cell_type": "code",
   "execution_count": 25,
   "metadata": {},
   "outputs": [],
   "source": [
    "sim = glm.models.nb_glm.Simulator(num_features=100)"
   ]
  },
  {
   "cell_type": "code",
   "execution_count": 26,
   "metadata": {},
   "outputs": [],
   "source": [
    "sim.parse_dmat_loc(dmat = dmat)\n",
    "sim.parse_dmat_scale(dmat = dmat)\n",
    "sim.generate_params()\n",
    "sim.generate_data()"
   ]
  },
  {
   "cell_type": "markdown",
   "metadata": {},
   "source": [
    "### Simulated model data:"
   ]
  },
  {
   "cell_type": "code",
   "execution_count": 27,
   "metadata": {
    "scrolled": false
   },
   "outputs": [
    {
     "data": {
      "text/plain": [
       "<xarray.DataArray 'X' (observations: 2000, features: 100)>\n",
       "array([[ 4226,  6365,  1619, ...,  8741,  3483,  3137],\n",
       "       [ 4270,  4081,  1204, ...,  8101,  1047,  2144],\n",
       "       [ 4541,  4964,   972, ..., 14676, 30003,  2353],\n",
       "       ...,\n",
       "       [14283,  1930,  2054, ...,  1964,  7721,  2832],\n",
       "       [19901,  7159,  1478, ...,  2642, 26837,  2654],\n",
       "       [21418,  9683,  1780, ...,  3022, 14276,  4746]])\n",
       "Dimensions without coordinates: observations, features"
      ]
     },
     "execution_count": 27,
     "metadata": {},
     "output_type": "execute_result"
    }
   ],
   "source": [
    "sim.X"
   ]
  },
  {
   "cell_type": "markdown",
   "metadata": {},
   "source": [
    "## Constraints for model"
   ]
  },
  {
   "cell_type": "code",
   "execution_count": 28,
   "metadata": {},
   "outputs": [],
   "source": [
    "dmat_est_loc = sim.design_loc"
   ]
  },
  {
   "cell_type": "code",
   "execution_count": 29,
   "metadata": {},
   "outputs": [],
   "source": [
    "dmat_est_scale = sim.design_scale"
   ]
  },
  {
   "cell_type": "markdown",
   "metadata": {},
   "source": [
    "Build constraints based on sets of parameters that have to sum to zero. Each of these constraints is enforced by binding one of these parameters to the rest of the set. Such a constraint is encoded by assigning a 1 to each parameter in the set and a -1 to to the dependent parameter."
   ]
  },
  {
   "cell_type": "code",
   "execution_count": 30,
   "metadata": {},
   "outputs": [
    {
     "data": {
      "text/plain": [
       "array([[1., 0., 0., 0., 1., 0., 0., 0., 1., 1.],\n",
       "       [1., 0., 0., 0., 1., 0., 0., 1., 0., 1.],\n",
       "       [1., 0., 0., 1., 0., 0., 1., 0., 0., 1.],\n",
       "       [1., 0., 0., 1., 0., 1., 0., 0., 0., 1.],\n",
       "       [1., 0., 1., 0., 0., 0., 0., 0., 1., 0.],\n",
       "       [1., 0., 1., 0., 0., 0., 0., 1., 0., 0.],\n",
       "       [1., 1., 0., 0., 0., 0., 1., 0., 0., 0.],\n",
       "       [1., 1., 0., 0., 0., 1., 0., 0., 0., 0.]])"
      ]
     },
     "execution_count": 30,
     "metadata": {},
     "output_type": "execute_result"
    }
   ],
   "source": [
    "np.unique(dmat_est_loc, axis=0)"
   ]
  },
  {
   "cell_type": "code",
   "execution_count": 31,
   "metadata": {},
   "outputs": [
    {
     "data": {
      "text/plain": [
       "array([[ 0.,  0.,  0., -1.,  1.,  0.,  0.,  0.,  0.,  0.],\n",
       "       [ 0., -1.,  1.,  1.,  1.,  0.,  0.,  0.,  0.,  0.],\n",
       "       [ 0.,  0.,  0.,  0.,  0., -1.,  1.,  1.,  1.,  0.],\n",
       "       [ 0.,  0.,  0.,  0.,  0.,  0.,  0., -1.,  1.,  0.]])"
      ]
     },
     "execution_count": 31,
     "metadata": {},
     "output_type": "execute_result"
    }
   ],
   "source": [
    "constraints_loc = np.zeros([4, dmat_est_loc.shape[1]])\n",
    "# Constraint 0: Account for perfect confouding at biological replicate and treatment level \n",
    "# by constraining biological replicate coefficients not to produce mean effects across conditions.\n",
    "constraints_loc[0,3] = -1\n",
    "constraints_loc[0,4:5] = 1\n",
    "# Constraint 1: Account for fact that first level of biological replicates was not absorbed into offset. \n",
    "constraints_loc[1,1] = -1\n",
    "constraints_loc[1,2:5] = 1\n",
    "# Constraint 2: Account for fact that first level of technical replicates was not absorbed into offset. \n",
    "constraints_loc[2,5] = -1\n",
    "constraints_loc[2,6:9] = 1\n",
    "# Constraint 3: Account for perfect confouding at biological replicate and technical replicate \n",
    "# by constraining technical replicate coefficients not to produce mean effects across biological replicates.\n",
    "constraints_loc[3,7] = -1\n",
    "constraints_loc[3,8:9] = 1\n",
    "\n",
    "constraints_loc"
   ]
  },
  {
   "cell_type": "code",
   "execution_count": 32,
   "metadata": {},
   "outputs": [],
   "source": [
    "constraints_scale = constraints_loc.copy()"
   ]
  },
  {
   "cell_type": "code",
   "execution_count": 33,
   "metadata": {},
   "outputs": [
    {
     "name": "stdout",
     "output_type": "stream",
     "text": [
      "[[1. 0. 0. 0. 1. 0. 0. 0. 1. 1.]\n",
      " [1. 0. 0. 0. 1. 0. 0. 1. 0. 1.]\n",
      " [1. 0. 0. 1. 0. 0. 1. 0. 0. 1.]\n",
      " [1. 0. 0. 1. 0. 1. 0. 0. 0. 1.]\n",
      " [1. 0. 1. 0. 0. 0. 0. 0. 1. 0.]\n",
      " [1. 0. 1. 0. 0. 0. 0. 1. 0. 0.]\n",
      " [1. 1. 0. 0. 0. 0. 1. 0. 0. 0.]\n",
      " [1. 1. 0. 0. 0. 1. 0. 0. 0. 0.]\n",
      " [0. 0. 0. 1. 1. 0. 0. 0. 0. 0.]\n",
      " [0. 1. 1. 1. 1. 0. 0. 0. 0. 0.]\n",
      " [0. 0. 0. 0. 0. 1. 1. 1. 1. 0.]\n",
      " [0. 0. 0. 0. 0. 0. 0. 1. 1. 0.]]\n",
      "rank deficiency without constraints: 4\n",
      "rank deficiency with constraints: 0\n"
     ]
    }
   ],
   "source": [
    "from numpy.linalg import matrix_rank\n",
    "constraints_loc_mod = constraints_loc.copy()\n",
    "constraints_loc_mod[constraints_loc_mod==-1] = 1\n",
    "print(np.vstack([np.unique(dmat_est_loc, axis=0), constraints_loc_mod]))\n",
    "print(\"rank deficiency without constraints: \"+ str(dmat_est_loc.shape[1] - matrix_rank(np.vstack([np.unique(dmat_est_loc, axis=0)]))))\n",
    "print(\"rank deficiency with constraints: \"+ str(dmat_est_loc.shape[1] - matrix_rank(np.vstack([np.unique(dmat_est_loc, axis=0), constraints_loc_mod]))))"
   ]
  },
  {
   "cell_type": "markdown",
   "metadata": {},
   "source": [
    "## Estimate the model"
   ]
  },
  {
   "cell_type": "code",
   "execution_count": 34,
   "metadata": {},
   "outputs": [],
   "source": [
    "X = sim.X\n",
    "design_loc = dmat_est_loc\n",
    "design_scale = dmat_est_scale\n",
    "\n",
    "# input data\n",
    "input_data = glm.models.nb_glm.InputData.new(\n",
    "    data=X, \n",
    "    design_loc=design_loc,\n",
    "    design_scale=design_scale)\n",
    "input_data.constraints_loc = constraints_loc\n",
    "input_data.constraints_scale = constraints_scale"
   ]
  },
  {
   "cell_type": "markdown",
   "metadata": {},
   "source": [
    "### Set up estimator:"
   ]
  },
  {
   "cell_type": "code",
   "execution_count": 35,
   "metadata": {},
   "outputs": [
    {
     "name": "stdout",
     "output_type": "stream",
     "text": [
      "Using closed-form MLE initialization for mean\n",
      "Should train mu: True\n",
      "Using closed-form MME initialization for dispersion\n",
      "Should train r: True\n"
     ]
    },
    {
     "name": "stderr",
     "output_type": "stream",
     "text": [
      "/Users/david.fischer/miniconda3/lib/python3.6/site-packages/tensorflow/python/ops/gradients_impl.py:108: UserWarning: Converting sparse IndexedSlices to a dense Tensor of unknown shape. This may consume a large amount of memory.\n",
      "  \"Converting sparse IndexedSlices to a dense Tensor of unknown shape. \"\n",
      "/Users/david.fischer/miniconda3/lib/python3.6/site-packages/tensorflow/python/ops/gradients_impl.py:108: UserWarning: Converting sparse IndexedSlices to a dense Tensor of unknown shape. This may consume a large amount of memory.\n",
      "  \"Converting sparse IndexedSlices to a dense Tensor of unknown shape. \"\n",
      "/Users/david.fischer/miniconda3/lib/python3.6/site-packages/tensorflow/python/ops/gradients_impl.py:108: UserWarning: Converting sparse IndexedSlices to a dense Tensor of unknown shape. This may consume a large amount of memory.\n",
      "  \"Converting sparse IndexedSlices to a dense Tensor of unknown shape. \"\n",
      "/Users/david.fischer/miniconda3/lib/python3.6/site-packages/tensorflow/python/ops/gradients_impl.py:108: UserWarning: Converting sparse IndexedSlices to a dense Tensor of unknown shape. This may consume a large amount of memory.\n",
      "  \"Converting sparse IndexedSlices to a dense Tensor of unknown shape. \"\n",
      "/Users/david.fischer/miniconda3/lib/python3.6/site-packages/tensorflow/python/ops/gradients_impl.py:108: UserWarning: Converting sparse IndexedSlices to a dense Tensor of unknown shape. This may consume a large amount of memory.\n",
      "  \"Converting sparse IndexedSlices to a dense Tensor of unknown shape. \"\n",
      "/Users/david.fischer/miniconda3/lib/python3.6/site-packages/tensorflow/python/ops/gradients_impl.py:108: UserWarning: Converting sparse IndexedSlices to a dense Tensor of unknown shape. This may consume a large amount of memory.\n",
      "  \"Converting sparse IndexedSlices to a dense Tensor of unknown shape. \"\n",
      "/Users/david.fischer/miniconda3/lib/python3.6/site-packages/tensorflow/python/ops/gradients_impl.py:108: UserWarning: Converting sparse IndexedSlices to a dense Tensor of unknown shape. This may consume a large amount of memory.\n",
      "  \"Converting sparse IndexedSlices to a dense Tensor of unknown shape. \"\n",
      "/Users/david.fischer/miniconda3/lib/python3.6/site-packages/tensorflow/python/ops/gradients_impl.py:108: UserWarning: Converting sparse IndexedSlices to a dense Tensor of unknown shape. This may consume a large amount of memory.\n",
      "  \"Converting sparse IndexedSlices to a dense Tensor of unknown shape. \"\n",
      "/Users/david.fischer/miniconda3/lib/python3.6/site-packages/tensorflow/python/ops/gradients_impl.py:108: UserWarning: Converting sparse IndexedSlices to a dense Tensor of unknown shape. This may consume a large amount of memory.\n",
      "  \"Converting sparse IndexedSlices to a dense Tensor of unknown shape. \"\n",
      "/Users/david.fischer/miniconda3/lib/python3.6/site-packages/tensorflow/python/ops/gradients_impl.py:108: UserWarning: Converting sparse IndexedSlices to a dense Tensor of unknown shape. This may consume a large amount of memory.\n",
      "  \"Converting sparse IndexedSlices to a dense Tensor of unknown shape. \"\n",
      "/Users/david.fischer/miniconda3/lib/python3.6/site-packages/tensorflow/python/ops/gradients_impl.py:108: UserWarning: Converting sparse IndexedSlices to a dense Tensor of unknown shape. This may consume a large amount of memory.\n",
      "  \"Converting sparse IndexedSlices to a dense Tensor of unknown shape. \"\n",
      "/Users/david.fischer/miniconda3/lib/python3.6/site-packages/tensorflow/python/ops/gradients_impl.py:108: UserWarning: Converting sparse IndexedSlices to a dense Tensor of unknown shape. This may consume a large amount of memory.\n",
      "  \"Converting sparse IndexedSlices to a dense Tensor of unknown shape. \"\n"
     ]
    },
    {
     "name": "stdout",
     "output_type": "stream",
     "text": [
      "Graph was finalized.\n",
      "Running local_init_op.\n",
      "Done running local_init_op.\n"
     ]
    }
   ],
   "source": [
    "estimator = glm.models.nb_glm.Estimator(input_data, quick_scale=False)\n",
    "estimator.initialize()"
   ]
  },
  {
   "cell_type": "markdown",
   "metadata": {},
   "source": [
    "### Train"
   ]
  },
  {
   "cell_type": "markdown",
   "metadata": {},
   "source": [
    "Now start the training sequence and let the estimator choose automatically the best training strategy:"
   ]
  },
  {
   "cell_type": "code",
   "execution_count": 36,
   "metadata": {},
   "outputs": [
    {
     "name": "stdout",
     "output_type": "stream",
     "text": [
      "training strategy:\n",
      "[{'convergence_criteria': 't_test',\n",
      "  'learning_rate': 0.1,\n",
      "  'loss_window_size': 100,\n",
      "  'optim_algo': 'ADAM',\n",
      "  'stop_at_loss_change': 0.05,\n",
      "  'use_batching': True}]\n",
      "Beginning with training sequence #1\n",
      "Step: 1\tloss: 915.401808\n",
      "Step: 2\tloss: 918.672979\n",
      "Step: 3\tloss: 914.566605\n",
      "Step: 4\tloss: 913.621461\n",
      "Step: 5\tloss: 910.278511\n",
      "Step: 6\tloss: 915.818649\n",
      "Step: 7\tloss: 913.628833\n",
      "Step: 8\tloss: 912.900278\n",
      "Step: 9\tloss: 907.058766\n",
      "Step: 10\tloss: 910.850950\n",
      "Step: 11\tloss: 909.610594\n",
      "Step: 12\tloss: 910.907676\n",
      "Step: 13\tloss: 905.924436\n",
      "Step: 14\tloss: 909.301315\n",
      "Step: 15\tloss: 909.159153\n",
      "Step: 16\tloss: 908.696249\n",
      "Step: 17\tloss: 903.432955\n",
      "Step: 18\tloss: 908.457603\n",
      "Step: 19\tloss: 907.821844\n",
      "Step: 20\tloss: 907.985945\n",
      "Step: 21\tloss: 903.650785\n",
      "Step: 22\tloss: 907.085727\n",
      "Step: 23\tloss: 908.059585\n",
      "Step: 24\tloss: 906.583666\n",
      "Step: 25\tloss: 902.355668\n",
      "Step: 26\tloss: 906.246321\n",
      "Step: 27\tloss: 907.782653\n",
      "Step: 28\tloss: 907.257944\n",
      "Step: 29\tloss: 903.004560\n",
      "Step: 30\tloss: 906.616627\n",
      "Step: 31\tloss: 906.459824\n",
      "Step: 32\tloss: 906.526732\n",
      "Step: 33\tloss: 902.156104\n",
      "Step: 34\tloss: 907.088803\n",
      "Step: 35\tloss: 906.216669\n",
      "Step: 36\tloss: 906.325083\n",
      "Step: 37\tloss: 902.038532\n",
      "Step: 38\tloss: 906.188546\n",
      "Step: 39\tloss: 906.637700\n",
      "Step: 40\tloss: 906.240614\n",
      "Step: 41\tloss: 900.988404\n",
      "Step: 42\tloss: 905.770655\n",
      "Step: 43\tloss: 907.284031\n",
      "Step: 44\tloss: 906.506255\n",
      "Step: 45\tloss: 902.098716\n",
      "Step: 46\tloss: 906.136120\n",
      "Step: 47\tloss: 906.254317\n",
      "Step: 48\tloss: 906.049356\n",
      "Step: 49\tloss: 900.637926\n",
      "Step: 50\tloss: 906.381275\n",
      "Step: 51\tloss: 906.362886\n",
      "Step: 52\tloss: 907.191390\n",
      "Step: 53\tloss: 901.967071\n",
      "Step: 54\tloss: 906.193489\n",
      "Step: 55\tloss: 905.882589\n",
      "Step: 56\tloss: 906.587418\n",
      "Step: 57\tloss: 902.685890\n",
      "Step: 58\tloss: 905.450610\n",
      "Step: 59\tloss: 906.808115\n",
      "Step: 60\tloss: 905.491695\n",
      "Step: 61\tloss: 901.158126\n",
      "Step: 62\tloss: 906.825419\n",
      "Step: 63\tloss: 906.457752\n",
      "Step: 64\tloss: 905.997908\n",
      "Step: 65\tloss: 901.306117\n",
      "Step: 66\tloss: 905.938920\n",
      "Step: 67\tloss: 906.895022\n",
      "Step: 68\tloss: 906.410939\n",
      "Step: 69\tloss: 900.784299\n",
      "Step: 70\tloss: 905.472826\n",
      "Step: 71\tloss: 907.218545\n",
      "Step: 72\tloss: 907.437437\n",
      "Step: 73\tloss: 901.378617\n",
      "Step: 74\tloss: 906.434040\n",
      "Step: 75\tloss: 905.412983\n",
      "Step: 76\tloss: 907.453746\n",
      "Step: 77\tloss: 901.298928\n",
      "Step: 78\tloss: 905.470756\n",
      "Step: 79\tloss: 906.617181\n",
      "Step: 80\tloss: 907.007313\n",
      "Step: 81\tloss: 901.357145\n",
      "Step: 82\tloss: 906.268058\n",
      "Step: 83\tloss: 906.542293\n",
      "Step: 84\tloss: 906.467969\n",
      "Step: 85\tloss: 900.610220\n",
      "Step: 86\tloss: 905.818409\n",
      "Step: 87\tloss: 908.026666\n",
      "Step: 88\tloss: 906.015860\n",
      "Step: 89\tloss: 901.976695\n",
      "Step: 90\tloss: 906.140438\n",
      "Step: 91\tloss: 906.168489\n",
      "Step: 92\tloss: 906.429377\n",
      "Step: 93\tloss: 901.254944\n",
      "Step: 94\tloss: 906.647444\n",
      "Step: 95\tloss: 906.413503\n",
      "Step: 96\tloss: 906.361485\n",
      "Step: 97\tloss: 901.560118\n",
      "Step: 98\tloss: 905.962498\n",
      "Step: 99\tloss: 906.606588\n",
      "Step: 100\tloss: 906.577730\n",
      "Step: 101\tloss: 901.986223\n",
      "Step: 102\tloss: 906.550035\n",
      "Step: 103\tloss: 905.641247\n",
      "Step: 104\tloss: 906.801963\n",
      "Step: 105\tloss: 901.550176\n",
      "Step: 106\tloss: 906.278436\n",
      "Step: 107\tloss: 906.092241\n",
      "Step: 108\tloss: 906.947571\n",
      "Step: 109\tloss: 901.465705\n",
      "Step: 110\tloss: 906.342238\n",
      "Step: 111\tloss: 905.995966\n",
      "Step: 112\tloss: 907.191691\n",
      "Step: 113\tloss: 902.240915\n",
      "Step: 114\tloss: 906.264918\n",
      "Step: 115\tloss: 905.905485\n",
      "Step: 116\tloss: 906.788838\n",
      "Step: 117\tloss: 902.537494\n",
      "Step: 118\tloss: 906.341738\n",
      "Step: 119\tloss: 906.680304\n",
      "Step: 120\tloss: 905.708818\n",
      "Step: 121\tloss: 901.384400\n",
      "Step: 122\tloss: 905.953306\n",
      "Step: 123\tloss: 907.180014\n",
      "Step: 124\tloss: 906.704046\n",
      "Step: 125\tloss: 901.713221\n",
      "Step: 126\tloss: 906.503662\n",
      "Step: 127\tloss: 906.774958\n",
      "Step: 128\tloss: 906.477445\n",
      "Step: 129\tloss: 901.348339\n",
      "Step: 130\tloss: 906.694460\n",
      "Step: 131\tloss: 906.803295\n",
      "Step: 132\tloss: 906.669613\n",
      "Step: 133\tloss: 902.072305\n",
      "Step: 134\tloss: 906.436364\n",
      "Step: 135\tloss: 906.275668\n",
      "Step: 136\tloss: 906.604924\n",
      "Step: 137\tloss: 901.345517\n",
      "Step: 138\tloss: 906.250489\n",
      "Step: 139\tloss: 906.821161\n",
      "Step: 140\tloss: 906.998936\n",
      "Step: 141\tloss: 901.797475\n",
      "Step: 142\tloss: 906.154900\n",
      "Step: 143\tloss: 907.134453\n",
      "Step: 144\tloss: 906.435801\n",
      "Step: 145\tloss: 901.892526\n",
      "Step: 146\tloss: 906.011847\n",
      "Step: 147\tloss: 907.100359\n",
      "Step: 148\tloss: 906.587425\n",
      "Step: 149\tloss: 902.023327\n",
      "Step: 150\tloss: 906.104781\n",
      "Step: 151\tloss: 906.967487\n",
      "Step: 152\tloss: 906.716991\n",
      "Step: 153\tloss: 901.983760\n",
      "Step: 154\tloss: 906.607904\n",
      "Step: 155\tloss: 906.720276\n",
      "Step: 156\tloss: 906.322830\n",
      "Step: 157\tloss: 902.155470\n",
      "Step: 158\tloss: 905.015888\n",
      "Step: 159\tloss: 906.921648\n",
      "Step: 160\tloss: 907.549985\n",
      "Step: 161\tloss: 901.582897\n",
      "Step: 162\tloss: 905.804812\n",
      "Step: 163\tloss: 907.590136\n",
      "Step: 164\tloss: 906.455722\n",
      "Step: 165\tloss: 900.646663\n",
      "Step: 166\tloss: 906.956720\n",
      "Step: 167\tloss: 907.432142\n",
      "Step: 168\tloss: 906.368538\n",
      "Step: 169\tloss: 902.985809\n",
      "Step: 170\tloss: 905.723400\n",
      "Step: 171\tloss: 906.245941\n",
      "Step: 172\tloss: 906.378379\n",
      "Step: 173\tloss: 900.833821\n",
      "Step: 174\tloss: 907.185958\n",
      "Step: 175\tloss: 906.567308\n",
      "Step: 176\tloss: 906.784791\n",
      "Step: 177\tloss: 900.577075\n",
      "Step: 178\tloss: 907.238280\n",
      "Step: 179\tloss: 907.084229\n",
      "Step: 180\tloss: 906.457805\n",
      "Step: 181\tloss: 901.257754\n",
      "Step: 182\tloss: 905.668790\n",
      "Step: 183\tloss: 907.386777\n",
      "Step: 184\tloss: 907.272431\n",
      "Step: 185\tloss: 901.792260\n",
      "Step: 186\tloss: 906.044374\n",
      "Step: 187\tloss: 906.587852\n",
      "Step: 188\tloss: 907.080192\n",
      "Step: 189\tloss: 901.540851\n",
      "Step: 190\tloss: 906.444993\n",
      "Step: 191\tloss: 906.356194\n",
      "Step: 192\tloss: 907.282065\n",
      "Step: 193\tloss: 901.625743\n",
      "Step: 194\tloss: 906.611515\n",
      "Step: 195\tloss: 907.141488\n",
      "Step: 196\tloss: 906.646501\n",
      "Step: 197\tloss: 901.328690\n",
      "Step: 198\tloss: 906.731230\n",
      "Step: 199\tloss: 906.251412\n",
      "Step: 200\tloss: 907.511199\n",
      "pval: 0.005913\n",
      "Step: 201\tloss: 901.547503\n",
      "Step: 202\tloss: 906.174331\n",
      "Step: 203\tloss: 907.459952\n",
      "Step: 204\tloss: 906.621740\n",
      "Step: 205\tloss: 901.512304\n",
      "Step: 206\tloss: 906.925497\n",
      "Step: 207\tloss: 906.913356\n",
      "Step: 208\tloss: 906.542824\n",
      "Step: 209\tloss: 901.526221\n",
      "Step: 210\tloss: 906.751439\n",
      "Step: 211\tloss: 907.245614\n",
      "Step: 212\tloss: 906.465540\n",
      "Step: 213\tloss: 902.389520\n",
      "Step: 214\tloss: 906.716649\n",
      "Step: 215\tloss: 906.257215\n",
      "Step: 216\tloss: 906.784565\n",
      "Step: 217\tloss: 901.474216\n",
      "Step: 218\tloss: 906.561317\n",
      "Step: 219\tloss: 907.407511\n",
      "Step: 220\tloss: 907.001185\n",
      "Step: 221\tloss: 902.462429\n",
      "Step: 222\tloss: 905.361931\n",
      "Step: 223\tloss: 906.524030\n",
      "Step: 224\tloss: 907.966430\n",
      "Step: 225\tloss: 901.851533\n",
      "Step: 226\tloss: 906.586734\n",
      "Step: 227\tloss: 906.337814\n",
      "Step: 228\tloss: 907.147532\n",
      "Step: 229\tloss: 901.391763\n",
      "Step: 230\tloss: 906.259630\n",
      "Step: 231\tloss: 907.145524\n",
      "Step: 232\tloss: 907.153107\n",
      "Step: 233\tloss: 901.550750\n",
      "Step: 234\tloss: 905.998258\n",
      "Step: 235\tloss: 907.446911\n",
      "Step: 236\tloss: 906.779296\n",
      "Step: 237\tloss: 900.955337\n",
      "Step: 238\tloss: 906.317799\n",
      "Step: 239\tloss: 907.449055\n",
      "Step: 240\tloss: 907.100447\n",
      "Step: 241\tloss: 902.500876\n",
      "Step: 242\tloss: 906.780598\n",
      "Step: 243\tloss: 907.036168\n",
      "Step: 244\tloss: 905.960638\n",
      "Step: 245\tloss: 901.737394\n",
      "Step: 246\tloss: 907.350320\n",
      "Step: 247\tloss: 906.560461\n",
      "Step: 248\tloss: 906.314239\n",
      "Step: 249\tloss: 902.128871\n",
      "Step: 250\tloss: 906.206329\n",
      "Step: 251\tloss: 906.642974\n",
      "Step: 252\tloss: 907.155052\n",
      "Step: 253\tloss: 902.057369\n",
      "Step: 254\tloss: 906.836747\n",
      "Step: 255\tloss: 907.093322\n",
      "Step: 256\tloss: 905.948185\n",
      "Step: 257\tloss: 901.274810\n",
      "Step: 258\tloss: 906.612227\n",
      "Step: 259\tloss: 906.940414\n",
      "Step: 260\tloss: 906.773799\n",
      "Step: 261\tloss: 903.155294\n",
      "Step: 262\tloss: 905.368497\n",
      "Step: 263\tloss: 907.293027\n",
      "Step: 264\tloss: 906.028699\n",
      "Step: 265\tloss: 901.614828\n",
      "Step: 266\tloss: 906.435751\n",
      "Step: 267\tloss: 907.428076\n",
      "Step: 268\tloss: 906.049911\n",
      "Step: 269\tloss: 902.724303\n",
      "Step: 270\tloss: 906.335530\n",
      "Step: 271\tloss: 906.377428\n",
      "Step: 272\tloss: 906.054502\n",
      "Step: 273\tloss: 902.101569\n",
      "Step: 274\tloss: 906.408311\n",
      "Step: 275\tloss: 906.620318\n",
      "Step: 276\tloss: 906.424467\n",
      "Step: 277\tloss: 901.530988\n",
      "Step: 278\tloss: 906.478064\n",
      "Step: 279\tloss: 906.479948\n",
      "Step: 280\tloss: 907.142160\n",
      "Step: 281\tloss: 900.509277\n",
      "Step: 282\tloss: 905.715125\n",
      "Step: 283\tloss: 908.046488\n",
      "Step: 284\tloss: 907.411313\n",
      "Step: 285\tloss: 902.196041\n",
      "Step: 286\tloss: 906.205363\n",
      "Step: 287\tloss: 906.865694\n",
      "Step: 288\tloss: 906.452438\n",
      "Step: 289\tloss: 902.025016\n",
      "Step: 290\tloss: 906.585156\n",
      "Step: 291\tloss: 906.260224\n",
      "Step: 292\tloss: 907.044582\n",
      "Step: 293\tloss: 900.782816\n",
      "Step: 294\tloss: 906.827779\n",
      "Step: 295\tloss: 907.011526\n",
      "Step: 296\tloss: 907.347612\n",
      "Step: 297\tloss: 902.377141\n",
      "Step: 298\tloss: 906.713219\n",
      "Step: 299\tloss: 906.567426\n"
     ]
    },
    {
     "name": "stdout",
     "output_type": "stream",
     "text": [
      "Step: 300\tloss: 906.297517\n",
      "pval: 0.642133\n",
      "Training sequence #1 complete\n"
     ]
    }
   ],
   "source": [
    "estimator.train_sequence('QUICK')"
   ]
  },
  {
   "cell_type": "markdown",
   "metadata": {},
   "source": [
    "## Obtaining the results"
   ]
  },
  {
   "cell_type": "markdown",
   "metadata": {},
   "source": [
    "### Check that constraints were met"
   ]
  },
  {
   "cell_type": "markdown",
   "metadata": {},
   "source": [
    "These parameter sets should sum to zero for each gene."
   ]
  },
  {
   "cell_type": "code",
   "execution_count": 37,
   "metadata": {
    "scrolled": false
   },
   "outputs": [
    {
     "data": {
      "text/plain": [
       "<xarray.DataArray ()>\n",
       "array(1.110223e-16)\n",
       "Coordinates:\n",
       "    design_loc_params  <U2 'p1'"
      ]
     },
     "execution_count": 37,
     "metadata": {},
     "output_type": "execute_result"
    }
   ],
   "source": [
    "np.max(estimator.par_link_loc[1,:]+np.sum(estimator.par_link_loc[2:5,:], axis=0))"
   ]
  },
  {
   "cell_type": "code",
   "execution_count": 38,
   "metadata": {
    "scrolled": false
   },
   "outputs": [
    {
     "data": {
      "text/plain": [
       "<xarray.DataArray ()>\n",
       "array(1.110223e-16)"
      ]
     },
     "execution_count": 38,
     "metadata": {},
     "output_type": "execute_result"
    }
   ],
   "source": [
    "np.max(np.sum(estimator.par_link_loc[1:3,:], axis=0)+np.sum(estimator.par_link_loc[3:5,:], axis=0))"
   ]
  },
  {
   "cell_type": "markdown",
   "metadata": {},
   "source": [
    "## Comparing the results with the simulated data:"
   ]
  },
  {
   "cell_type": "markdown",
   "metadata": {},
   "source": [
    "Linear model output:"
   ]
  },
  {
   "cell_type": "code",
   "execution_count": 39,
   "metadata": {},
   "outputs": [
    {
     "name": "stdout",
     "output_type": "stream",
     "text": [
      "Root mean squared deviation of location: 0.05\n",
      "Root mean squared deviation of scale:    0.09\n"
     ]
    }
   ],
   "source": [
    "locdiff = glm.utils.stats.rmsd(np.matmul(estimator.design_loc, estimator.par_link_loc), \n",
    "                               np.matmul(sim.design_loc, sim.par_link_loc))\n",
    "print(\"Root mean squared deviation of location: %.2f\" % locdiff)\n",
    "\n",
    "scalediff = glm.utils.stats.rmsd(np.matmul(estimator.design_scale, estimator.par_link_scale), \n",
    "                                 np.matmul(sim.design_scale, sim.par_link_scale))\n",
    "print(\"Root mean squared deviation of scale:    %.2f\" % scalediff)"
   ]
  }
 ],
 "metadata": {
  "kernelspec": {
   "display_name": "Python 3",
   "language": "python",
   "name": "python3"
  },
  "language_info": {
   "codemirror_mode": {
    "name": "ipython",
    "version": 3
   },
   "file_extension": ".py",
   "mimetype": "text/x-python",
   "name": "python",
   "nbconvert_exporter": "python",
   "pygments_lexer": "ipython3",
   "version": "3.6.5"
  }
 },
 "nbformat": 4,
 "nbformat_minor": 2
}
