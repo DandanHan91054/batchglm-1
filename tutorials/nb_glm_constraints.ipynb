{
 "cells": [
  {
   "cell_type": "code",
   "execution_count": 1,
   "metadata": {},
   "outputs": [
    {
     "name": "stderr",
     "output_type": "stream",
     "text": [
      "/Users/david.fischer/miniconda3/lib/python3.6/importlib/_bootstrap.py:219: RuntimeWarning: numpy.dtype size changed, may indicate binary incompatibility. Expected 96, got 88\n",
      "  return f(*args, **kwds)\n",
      "/Users/david.fischer/miniconda3/lib/python3.6/importlib/_bootstrap.py:219: RuntimeWarning: numpy.dtype size changed, may indicate binary incompatibility. Expected 96, got 88\n",
      "  return f(*args, **kwds)\n"
     ]
    }
   ],
   "source": [
    "import os\n",
    "import datetime\n",
    "import numpy as np\n",
    "import xarray as xa\n",
    "import pprint\n",
    "\n",
    "import logging\n",
    "import warnings\n",
    "\n",
    "logging.getLogger(\"tensorflow\").setLevel(logging.INFO)\n",
    "logging.getLogger(\"batchglm\").setLevel(logging.INFO)"
   ]
  },
  {
   "cell_type": "markdown",
   "metadata": {},
   "source": [
    "## Import batchglm"
   ]
  },
  {
   "cell_type": "code",
   "execution_count": 2,
   "metadata": {},
   "outputs": [],
   "source": [
    "import batchglm.api as glm"
   ]
  },
  {
   "cell_type": "code",
   "execution_count": 3,
   "metadata": {},
   "outputs": [],
   "source": [
    "# just to ignore some tensorflow warnings; just ignore this line\n",
    "warnings.filterwarnings(\"ignore\", category=DeprecationWarning, module=\"tensorflow\")"
   ]
  },
  {
   "cell_type": "markdown",
   "metadata": {},
   "source": [
    "## Simulate some data"
   ]
  },
  {
   "cell_type": "markdown",
   "metadata": {},
   "source": [
    "### Define design matrices"
   ]
  },
  {
   "cell_type": "code",
   "execution_count": 4,
   "metadata": {},
   "outputs": [
    {
     "name": "stdout",
     "output_type": "stream",
     "text": [
      "[[1. 0. 0. 0. 1. 1.]\n",
      " [1. 0. 0. 1. 0. 1.]\n",
      " [1. 0. 1. 0. 0. 0.]\n",
      " [1. 1. 0. 0. 0. 0.]]\n"
     ]
    }
   ],
   "source": [
    "ncells = 2000\n",
    "dmat = np.zeros([ncells, 6])\n",
    "dmat[:,0] = 1\n",
    "dmat[:500,1] = 1\n",
    "dmat[500:1000,2] = 1\n",
    "dmat[1000:1500,3] = 1\n",
    "dmat[1500:2000,4] = 1\n",
    "dmat[1000:2000,5] = 1\n",
    "print(np.unique(dmat, axis=0))"
   ]
  },
  {
   "cell_type": "code",
   "execution_count": 5,
   "metadata": {},
   "outputs": [],
   "source": [
    "sim = glm.models.nb_glm.Simulator(num_features=100)"
   ]
  },
  {
   "cell_type": "code",
   "execution_count": 6,
   "metadata": {},
   "outputs": [],
   "source": [
    "sim.parse_dmat_loc(dmat = dmat)\n",
    "sim.parse_dmat_scale(dmat = dmat)\n",
    "sim.generate_params()\n",
    "sim.generate_data()"
   ]
  },
  {
   "cell_type": "markdown",
   "metadata": {},
   "source": [
    "### Simulated model data:"
   ]
  },
  {
   "cell_type": "code",
   "execution_count": 7,
   "metadata": {
    "scrolled": true
   },
   "outputs": [
    {
     "data": {
      "text/plain": [
       "<xarray.DataArray 'X' (observations: 2000, features: 100)>\n",
       "array([[12903,  5849,  2604, ...,  7251, 18090,  5080],\n",
       "       [11761, 27807,  3453, ...,  4643,    17,  6729],\n",
       "       [11733, 14188,  4125, ...,  7424, 34598,  8651],\n",
       "       ...,\n",
       "       [40679, 10016, 18212, ...,  8702,  2372,  5319],\n",
       "       [22378, 12701, 11424, ..., 15495,  6123,  6795],\n",
       "       [12572, 11356, 14371, ..., 17543,  2710, 10276]])\n",
       "Dimensions without coordinates: observations, features"
      ]
     },
     "execution_count": 7,
     "metadata": {},
     "output_type": "execute_result"
    }
   ],
   "source": [
    "sim.X"
   ]
  },
  {
   "cell_type": "code",
   "execution_count": 8,
   "metadata": {},
   "outputs": [
    {
     "data": {
      "text/plain": [
       "array([[1., 0., 0., 0., 1., 1.],\n",
       "       [1., 0., 0., 1., 0., 1.],\n",
       "       [1., 0., 1., 0., 0., 0.],\n",
       "       [1., 1., 0., 0., 0., 0.]])"
      ]
     },
     "execution_count": 8,
     "metadata": {},
     "output_type": "execute_result"
    }
   ],
   "source": [
    "np.unique(sim.design_loc, axis=0)"
   ]
  },
  {
   "cell_type": "markdown",
   "metadata": {},
   "source": [
    "### The parameters used to generate this data:"
   ]
  },
  {
   "cell_type": "code",
   "execution_count": 9,
   "metadata": {},
   "outputs": [
    {
     "data": {
      "text/plain": [
       "<xarray.DataArray 'a' (design_loc_params: 6, features: 100)>\n",
       "array([[ 9.115424,  8.908089,  8.774674, ...,  8.347528,  9.112151,  8.613704],\n",
       "       [ 0.225722,  0.574323, -0.406029, ...,  0.549426,  0.531398,  0.139959],\n",
       "       [ 0.109343, -0.060766,  0.674088, ..., -0.21946 ,  0.310577,  0.634328],\n",
       "       [ 0.09099 ,  0.252674,  0.591868, ...,  0.515935, -0.072529, -0.446625],\n",
       "       [ 0.385514,  0.531545,  0.475988, ...,  0.689591, -0.200923, -0.188396],\n",
       "       [ 0.635883, -0.027357,  0.455295, ...,  0.570734, -0.238338,  0.67039 ]])\n",
       "Coordinates:\n",
       "  * design_loc_params  (design_loc_params) <U2 'p0' 'p1' 'p2' 'p3' 'p4' 'p5'\n",
       "Dimensions without coordinates: features"
      ]
     },
     "execution_count": 9,
     "metadata": {},
     "output_type": "execute_result"
    }
   ],
   "source": [
    "sim.par_link_loc"
   ]
  },
  {
   "cell_type": "code",
   "execution_count": 10,
   "metadata": {},
   "outputs": [
    {
     "data": {
      "text/plain": [
       "<xarray.DataArray 'b' (design_scale_params: 6, features: 100)>\n",
       "array([[ 2.079442,  1.94591 ,  1.94591 , ...,  2.197225,  0.693147,  2.197225],\n",
       "       [ 0.509976,  0.043864, -0.239517, ...,  0.331443, -0.535629,  0.68757 ],\n",
       "       [-0.173803,  0.553164, -0.214653, ..., -0.133374,  0.591388,  0.538071],\n",
       "       [ 0.366421,  0.431785,  0.573761, ...,  0.296076, -0.037804,  0.578232],\n",
       "       [ 0.571573,  0.610246,  0.020735, ..., -0.418196,  0.554592,  0.54537 ],\n",
       "       [-0.567676,  0.643797,  0.428963, ...,  0.588652,  0.241874,  0.157571]])\n",
       "Coordinates:\n",
       "  * design_scale_params  (design_scale_params) <U2 'p0' 'p1' 'p2' 'p3' 'p4' 'p5'\n",
       "Dimensions without coordinates: features"
      ]
     },
     "execution_count": 10,
     "metadata": {},
     "output_type": "execute_result"
    }
   ],
   "source": [
    "sim.par_link_scale"
   ]
  },
  {
   "cell_type": "markdown",
   "metadata": {},
   "source": [
    "## Constraints for model"
   ]
  },
  {
   "cell_type": "code",
   "execution_count": 11,
   "metadata": {},
   "outputs": [],
   "source": [
    "dmat_est_loc = sim.design_loc"
   ]
  },
  {
   "cell_type": "code",
   "execution_count": 12,
   "metadata": {},
   "outputs": [],
   "source": [
    "dmat_est_scale = sim.design_scale"
   ]
  },
  {
   "cell_type": "markdown",
   "metadata": {},
   "source": [
    "Build constraints based on sets of parameters that have to sum to zero. Each of these constraints is enforced by binding one of these parameters to the rest of the set. Such a constraint is encoded by assigning a 1 to each parameter in the set and a -1 to to the dependent parameter."
   ]
  },
  {
   "cell_type": "code",
   "execution_count": 14,
   "metadata": {},
   "outputs": [
    {
     "data": {
      "text/plain": [
       "array([[ 0.,  0.,  0., -1.,  1.,  0.],\n",
       "       [ 0., -1.,  1.,  1.,  1.,  0.]])"
      ]
     },
     "execution_count": 14,
     "metadata": {},
     "output_type": "execute_result"
    }
   ],
   "source": [
    "constraints_loc = np.zeros([2, dmat_est_loc.shape[1]])\n",
    "constraints_loc[0,3] = -1\n",
    "constraints_loc[0,4:5] = 1\n",
    "constraints_loc[1,1] = -1\n",
    "constraints_loc[1,2:5] = 1\n",
    "constraints_loc"
   ]
  },
  {
   "cell_type": "code",
   "execution_count": 15,
   "metadata": {},
   "outputs": [
    {
     "data": {
      "text/plain": [
       "array([[ 0.,  0.,  0., -1.,  1.,  0.],\n",
       "       [ 0., -1.,  1.,  1.,  1.,  0.]])"
      ]
     },
     "execution_count": 15,
     "metadata": {},
     "output_type": "execute_result"
    }
   ],
   "source": [
    "constraints_scale = np.zeros([2, dmat_est_scale.shape[1]])\n",
    "constraints_scale[0,3] = -1\n",
    "constraints_scale[0,4:5] = 1\n",
    "constraints_scale[1,1] = -1\n",
    "constraints_scale[1,2:5] = 1\n",
    "constraints_scale"
   ]
  },
  {
   "cell_type": "code",
   "execution_count": 16,
   "metadata": {},
   "outputs": [
    {
     "name": "stdout",
     "output_type": "stream",
     "text": [
      "[[1. 0. 0. 0. 1. 1.]\n",
      " [1. 0. 0. 1. 0. 1.]\n",
      " [1. 0. 1. 0. 0. 0.]\n",
      " [1. 1. 0. 0. 0. 0.]\n",
      " [0. 0. 0. 1. 1. 0.]\n",
      " [0. 1. 1. 1. 1. 0.]]\n",
      "rank deficiency without constraints: 2\n",
      "rank deficiency with constraints: 0\n"
     ]
    }
   ],
   "source": [
    "from numpy.linalg import matrix_rank\n",
    "constraints_loc_mod = constraints_loc.copy()\n",
    "constraints_loc_mod[constraints_loc_mod==-1] = 1\n",
    "print(np.vstack([np.unique(dmat_est_loc, axis=0), constraints_loc_mod]))\n",
    "print(\"rank deficiency without constraints: \"+ str(dmat_est_loc.shape[1] - matrix_rank(np.vstack([np.unique(dmat_est_loc, axis=0)]))))\n",
    "print(\"rank deficiency with constraints: \"+ str(dmat_est_loc.shape[1] - matrix_rank(np.vstack([np.unique(dmat_est_loc, axis=0), constraints_loc_mod]))))"
   ]
  },
  {
   "cell_type": "markdown",
   "metadata": {},
   "source": [
    "## Estimate the model"
   ]
  },
  {
   "cell_type": "code",
   "execution_count": 17,
   "metadata": {},
   "outputs": [],
   "source": [
    "X = sim.X\n",
    "design_loc = dmat_est_loc\n",
    "design_scale = dmat_est_scale\n",
    "\n",
    "# input data\n",
    "input_data = glm.models.nb_glm.InputData.new(\n",
    "    data=X, \n",
    "    design_loc=design_loc,\n",
    "    design_scale=design_scale)\n",
    "input_data.constraints_loc = constraints_loc\n",
    "input_data.constraints_scale = constraints_scale"
   ]
  },
  {
   "cell_type": "markdown",
   "metadata": {},
   "source": [
    "### set up estimator:"
   ]
  },
  {
   "cell_type": "code",
   "execution_count": 18,
   "metadata": {},
   "outputs": [
    {
     "name": "stdout",
     "output_type": "stream",
     "text": [
      "Using closed-form MLE initialization for mean\n",
      "Should train mu: False\n",
      "Using closed-form MME initialization for dispersion\n",
      "Should train r: True\n"
     ]
    },
    {
     "name": "stderr",
     "output_type": "stream",
     "text": [
      "/Users/david.fischer/miniconda3/lib/python3.6/site-packages/tensorflow/python/ops/gradients_impl.py:108: UserWarning: Converting sparse IndexedSlices to a dense Tensor of unknown shape. This may consume a large amount of memory.\n",
      "  \"Converting sparse IndexedSlices to a dense Tensor of unknown shape. \"\n",
      "/Users/david.fischer/miniconda3/lib/python3.6/site-packages/tensorflow/python/ops/gradients_impl.py:108: UserWarning: Converting sparse IndexedSlices to a dense Tensor of unknown shape. This may consume a large amount of memory.\n",
      "  \"Converting sparse IndexedSlices to a dense Tensor of unknown shape. \"\n",
      "/Users/david.fischer/miniconda3/lib/python3.6/site-packages/tensorflow/python/ops/gradients_impl.py:108: UserWarning: Converting sparse IndexedSlices to a dense Tensor of unknown shape. This may consume a large amount of memory.\n",
      "  \"Converting sparse IndexedSlices to a dense Tensor of unknown shape. \"\n",
      "/Users/david.fischer/miniconda3/lib/python3.6/site-packages/tensorflow/python/ops/gradients_impl.py:108: UserWarning: Converting sparse IndexedSlices to a dense Tensor of unknown shape. This may consume a large amount of memory.\n",
      "  \"Converting sparse IndexedSlices to a dense Tensor of unknown shape. \"\n"
     ]
    },
    {
     "name": "stdout",
     "output_type": "stream",
     "text": [
      "Graph was finalized.\n",
      "Running local_init_op.\n",
      "Done running local_init_op.\n"
     ]
    }
   ],
   "source": [
    "estimator = glm.models.nb_glm.Estimator(input_data, quick_scale=False)\n",
    "estimator.initialize()"
   ]
  },
  {
   "cell_type": "markdown",
   "metadata": {},
   "source": [
    "### train"
   ]
  },
  {
   "cell_type": "markdown",
   "metadata": {},
   "source": [
    "Now start the training sequence and let the estimator choose automatically the best training strategy:"
   ]
  },
  {
   "cell_type": "code",
   "execution_count": 19,
   "metadata": {},
   "outputs": [
    {
     "name": "stdout",
     "output_type": "stream",
     "text": [
      "training strategy:\n",
      "[{'convergence_criteria': 't_test',\n",
      "  'learning_rate': 0.01,\n",
      "  'loss_window_size': 10,\n",
      "  'optim_algo': 'ADAM',\n",
      "  'stop_at_loss_change': 0.25,\n",
      "  'use_batching': False}]\n",
      "Beginning with training sequence #1\n",
      "Step: 1\tloss: 909.982321\n",
      "Step: 2\tloss: 909.973624\n",
      "Step: 3\tloss: 909.968350\n",
      "Step: 4\tloss: 909.965493\n",
      "Step: 5\tloss: 909.963875\n",
      "Step: 6\tloss: 909.962728\n",
      "Step: 7\tloss: 909.961821\n",
      "Step: 8\tloss: 909.961120\n",
      "Step: 9\tloss: 909.960557\n",
      "Step: 10\tloss: 909.960035\n",
      "Step: 11\tloss: 909.959539\n",
      "Step: 12\tloss: 909.959123\n",
      "Step: 13\tloss: 909.958834\n",
      "Step: 14\tloss: 909.958649\n",
      "Step: 15\tloss: 909.958509\n",
      "Step: 16\tloss: 909.958381\n",
      "Step: 17\tloss: 909.958267\n",
      "Step: 18\tloss: 909.958179\n",
      "Step: 19\tloss: 909.958110\n",
      "Step: 20\tloss: 909.958046\n",
      "pval: 0.003388\n",
      "Step: 21\tloss: 909.957982\n",
      "Step: 22\tloss: 909.957925\n",
      "Step: 23\tloss: 909.957883\n",
      "Step: 24\tloss: 909.957854\n",
      "Step: 25\tloss: 909.957831\n",
      "Step: 26\tloss: 909.957807\n",
      "Step: 27\tloss: 909.957778\n",
      "Step: 28\tloss: 909.957743\n",
      "Step: 29\tloss: 909.957701\n",
      "Step: 30\tloss: 909.957657\n",
      "pval: 0.000262\n",
      "Step: 31\tloss: 909.957616\n",
      "Step: 32\tloss: 909.957579\n",
      "Step: 33\tloss: 909.957540\n",
      "Step: 34\tloss: 909.957496\n",
      "Step: 35\tloss: 909.957449\n",
      "Step: 36\tloss: 909.957404\n",
      "Step: 37\tloss: 909.957365\n",
      "Step: 38\tloss: 909.957331\n",
      "Step: 39\tloss: 909.957304\n",
      "Step: 40\tloss: 909.957284\n",
      "pval: 0.000000\n",
      "Step: 41\tloss: 909.957270\n",
      "Step: 42\tloss: 909.957261\n",
      "Step: 43\tloss: 909.957256\n",
      "Step: 44\tloss: 909.957253\n",
      "Step: 45\tloss: 909.957251\n",
      "Step: 46\tloss: 909.957249\n",
      "Step: 47\tloss: 909.957246\n",
      "Step: 48\tloss: 909.957243\n",
      "Step: 49\tloss: 909.957241\n",
      "Step: 50\tloss: 909.957238\n",
      "pval: 0.000256\n",
      "Step: 51\tloss: 909.957236\n",
      "Step: 52\tloss: 909.957232\n",
      "Step: 53\tloss: 909.957229\n",
      "Step: 54\tloss: 909.957226\n",
      "Step: 55\tloss: 909.957221\n",
      "Step: 56\tloss: 909.957217\n",
      "Step: 57\tloss: 909.957212\n",
      "Step: 58\tloss: 909.957208\n",
      "Step: 59\tloss: 909.957204\n",
      "Step: 60\tloss: 909.957201\n",
      "pval: 0.000001\n",
      "Step: 61\tloss: 909.957198\n",
      "Step: 62\tloss: 909.957196\n",
      "Step: 63\tloss: 909.957193\n",
      "Step: 64\tloss: 909.957192\n",
      "Step: 65\tloss: 909.957190\n",
      "Step: 66\tloss: 909.957189\n",
      "Step: 67\tloss: 909.957189\n",
      "Step: 68\tloss: 909.957189\n",
      "Step: 69\tloss: 909.957189\n",
      "Step: 70\tloss: 909.957189\n",
      "pval: 0.000015\n",
      "Step: 71\tloss: 909.957189\n",
      "Step: 72\tloss: 909.957189\n",
      "Step: 73\tloss: 909.957188\n",
      "Step: 74\tloss: 909.957188\n",
      "Step: 75\tloss: 909.957188\n",
      "Step: 76\tloss: 909.957187\n",
      "Step: 77\tloss: 909.957186\n",
      "Step: 78\tloss: 909.957186\n",
      "Step: 79\tloss: 909.957185\n",
      "Step: 80\tloss: 909.957185\n",
      "pval: 0.000867\n",
      "Step: 81\tloss: 909.957184\n",
      "Step: 82\tloss: 909.957184\n",
      "Step: 83\tloss: 909.957184\n",
      "Step: 84\tloss: 909.957183\n",
      "Step: 85\tloss: 909.957183\n",
      "Step: 86\tloss: 909.957183\n",
      "Step: 87\tloss: 909.957183\n",
      "Step: 88\tloss: 909.957183\n",
      "Step: 89\tloss: 909.957183\n",
      "Step: 90\tloss: 909.957183\n",
      "pval: 0.000003\n",
      "Step: 91\tloss: 909.957183\n",
      "Step: 92\tloss: 909.957183\n",
      "Step: 93\tloss: 909.957183\n",
      "Step: 94\tloss: 909.957183\n",
      "Step: 95\tloss: 909.957183\n",
      "Step: 96\tloss: 909.957183\n",
      "Step: 97\tloss: 909.957183\n",
      "Step: 98\tloss: 909.957183\n",
      "Step: 99\tloss: 909.957183\n",
      "Step: 100\tloss: 909.957183\n",
      "pval: 0.000469\n",
      "Step: 101\tloss: 909.957183\n",
      "Step: 102\tloss: 909.957183\n",
      "Step: 103\tloss: 909.957183\n",
      "Step: 104\tloss: 909.957182\n",
      "Step: 105\tloss: 909.957182\n",
      "Step: 106\tloss: 909.957182\n",
      "Step: 107\tloss: 909.957182\n",
      "Step: 108\tloss: 909.957182\n",
      "Step: 109\tloss: 909.957182\n",
      "Step: 110\tloss: 909.957182\n",
      "pval: 0.000163\n",
      "Step: 111\tloss: 909.957182\n",
      "Step: 112\tloss: 909.957182\n",
      "Step: 113\tloss: 909.957182\n",
      "Step: 114\tloss: 909.957182\n",
      "Step: 115\tloss: 909.957182\n",
      "Step: 116\tloss: 909.957182\n",
      "Step: 117\tloss: 909.957182\n",
      "Step: 118\tloss: 909.957182\n",
      "Step: 119\tloss: 909.957182\n",
      "Step: 120\tloss: 909.957182\n",
      "pval: 0.000015\n",
      "Step: 121\tloss: 909.957182\n",
      "Step: 122\tloss: 909.957182\n",
      "Step: 123\tloss: 909.957182\n",
      "Step: 124\tloss: 909.957182\n",
      "Step: 125\tloss: 909.957182\n",
      "Step: 126\tloss: 909.957182\n",
      "Step: 127\tloss: 909.957182\n",
      "Step: 128\tloss: 909.957182\n",
      "Step: 129\tloss: 909.957182\n",
      "Step: 130\tloss: 909.957182\n",
      "pval: 0.000133\n",
      "Step: 131\tloss: 909.957182\n",
      "Step: 132\tloss: 909.957182\n",
      "Step: 133\tloss: 909.957182\n",
      "Step: 134\tloss: 909.957182\n",
      "Step: 135\tloss: 909.957182\n",
      "Step: 136\tloss: 909.957182\n",
      "Step: 137\tloss: 909.957182\n",
      "Step: 138\tloss: 909.957182\n",
      "Step: 139\tloss: 909.957182\n",
      "Step: 140\tloss: 909.957182\n",
      "pval: 0.000025\n",
      "Step: 141\tloss: 909.957182\n",
      "Step: 142\tloss: 909.957182\n",
      "Step: 143\tloss: 909.957182\n",
      "Step: 144\tloss: 909.957182\n",
      "Step: 145\tloss: 909.957182\n",
      "Step: 146\tloss: 909.957182\n",
      "Step: 147\tloss: 909.957182\n",
      "Step: 148\tloss: 909.957182\n",
      "Step: 149\tloss: 909.957182\n",
      "Step: 150\tloss: 909.957182\n",
      "pval: 0.000500\n",
      "Step: 151\tloss: 909.957182\n",
      "Step: 152\tloss: 909.957182\n",
      "Step: 153\tloss: 909.957182\n",
      "Step: 154\tloss: 909.957182\n",
      "Step: 155\tloss: 909.957182\n",
      "Step: 156\tloss: 909.957182\n",
      "Step: 157\tloss: 909.957182\n",
      "Step: 158\tloss: 909.957182\n",
      "Step: 159\tloss: 909.957182\n",
      "Step: 160\tloss: 909.957182\n",
      "pval: 0.000008\n",
      "Step: 161\tloss: 909.957182\n",
      "Step: 162\tloss: 909.957182\n",
      "Step: 163\tloss: 909.957182\n",
      "Step: 164\tloss: 909.957182\n",
      "Step: 165\tloss: 909.957182\n",
      "Step: 166\tloss: 909.957182\n",
      "Step: 167\tloss: 909.957182\n",
      "Step: 168\tloss: 909.957182\n",
      "Step: 169\tloss: 909.957182\n",
      "Step: 170\tloss: 909.957182\n",
      "pval: 0.000012\n",
      "Step: 171\tloss: 909.957182\n",
      "Step: 172\tloss: 909.957182\n",
      "Step: 173\tloss: 909.957182\n",
      "Step: 174\tloss: 909.957182\n",
      "Step: 175\tloss: 909.957182\n",
      "Step: 176\tloss: 909.957182\n",
      "Step: 177\tloss: 909.957182\n",
      "Step: 178\tloss: 909.957182\n",
      "Step: 179\tloss: 909.957182\n",
      "Step: 180\tloss: 909.957182\n",
      "pval: 0.000028\n",
      "Step: 181\tloss: 909.957182\n",
      "Step: 182\tloss: 909.957182\n",
      "Step: 183\tloss: 909.957182\n",
      "Step: 184\tloss: 909.957182\n",
      "Step: 185\tloss: 909.957182\n",
      "Step: 186\tloss: 909.957182\n",
      "Step: 187\tloss: 909.957182\n",
      "Step: 188\tloss: 909.957182\n",
      "Step: 189\tloss: 909.957182\n",
      "Step: 190\tloss: 909.957182\n",
      "pval: 0.000043\n",
      "Step: 191\tloss: 909.957182\n",
      "Step: 192\tloss: 909.957182\n",
      "Step: 193\tloss: 909.957182\n",
      "Step: 194\tloss: 909.957182\n",
      "Step: 195\tloss: 909.957182\n",
      "Step: 196\tloss: 909.957182\n",
      "Step: 197\tloss: 909.957182\n",
      "Step: 198\tloss: 909.957182\n",
      "Step: 199\tloss: 909.957182\n",
      "Step: 200\tloss: 909.957182\n",
      "pval: 0.000001\n",
      "Step: 201\tloss: 909.957182\n",
      "Step: 202\tloss: 909.957182\n",
      "Step: 203\tloss: 909.957182\n",
      "Step: 204\tloss: 909.957182\n",
      "Step: 205\tloss: 909.957182\n",
      "Step: 206\tloss: 909.957182\n",
      "Step: 207\tloss: 909.957182\n",
      "Step: 208\tloss: 909.957182\n",
      "Step: 209\tloss: 909.957182\n",
      "Step: 210\tloss: 909.957182\n",
      "pval: 0.232709\n",
      "Step: 211\tloss: 909.957182\n",
      "Step: 212\tloss: 909.957182\n",
      "Step: 213\tloss: 909.957182\n",
      "Step: 214\tloss: 909.957182\n",
      "Step: 215\tloss: 909.957182\n",
      "Step: 216\tloss: 909.957182\n",
      "Step: 217\tloss: 909.957182\n",
      "Step: 218\tloss: 909.957182\n",
      "Step: 219\tloss: 909.957182\n",
      "Step: 220\tloss: 909.957182\n",
      "pval: 0.017934\n",
      "Step: 221\tloss: 909.957182\n",
      "Step: 222\tloss: 909.957182\n",
      "Step: 223\tloss: 909.957182\n",
      "Step: 224\tloss: 909.957182\n",
      "Step: 225\tloss: 909.957182\n",
      "Step: 226\tloss: 909.957182\n",
      "Step: 227\tloss: 909.957182\n",
      "Step: 228\tloss: 909.957182\n",
      "Step: 229\tloss: 909.957182\n",
      "Step: 230\tloss: 909.957182\n",
      "pval: 0.897292\n",
      "Training sequence #1 complete\n"
     ]
    }
   ],
   "source": [
    "estimator.train_sequence('AUTO')"
   ]
  },
  {
   "cell_type": "markdown",
   "metadata": {},
   "source": [
    "## Obtaining the results\n",
    "\n",
    "The fitted parameters can be retrieved by calling the corresponding parameters of `estimator`:"
   ]
  },
  {
   "cell_type": "code",
   "execution_count": 20,
   "metadata": {},
   "outputs": [
    {
     "data": {
      "text/plain": [
       "<xarray.DataArray (design_loc_params: 6, features: 100)>\n",
       "array([[ 9.278052,  9.165176,  8.917734, ...,  8.526134,  9.486837,  9.003132],\n",
       "       [ 0.061182,  0.322709, -0.542116, ...,  0.393476,  0.106263, -0.243964],\n",
       "       [-0.061182, -0.322709,  0.542116, ..., -0.393476, -0.106263,  0.243964],\n",
       "       [-0.166838, -0.14927 ,  0.051688, ..., -0.081269,  0.066566, -0.127305],\n",
       "       [ 0.166838,  0.14927 , -0.051688, ...,  0.081269, -0.066566,  0.127305],\n",
       "       [ 0.698859,  0.102646,  0.83754 , ...,  0.983851, -0.75716 , -0.03016 ]])\n",
       "Coordinates:\n",
       "  * design_loc_params  (design_loc_params) <U2 'p0' 'p1' 'p2' 'p3' 'p4' 'p5'\n",
       "    feature_allzero    (features) bool False False False False False False ...\n",
       "  * features           (features) int64 0 1 2 3 4 5 6 7 8 9 10 11 12 13 14 ..."
      ]
     },
     "execution_count": 20,
     "metadata": {},
     "output_type": "execute_result"
    }
   ],
   "source": [
    "estimator.par_link_loc"
   ]
  },
  {
   "cell_type": "code",
   "execution_count": 21,
   "metadata": {
    "scrolled": true
   },
   "outputs": [
    {
     "data": {
      "text/plain": [
       "<xarray.DataArray (design_scale_params: 6, features: 100)>\n",
       "array([[ 2.199805,  2.191249,  1.744115, ...,  2.309823,  0.703358,  2.806439],\n",
       "       [ 0.396867, -0.195051,  0.07298 , ...,  0.258389, -0.475605,  0.123256],\n",
       "       [-0.396867,  0.195051, -0.07298 , ..., -0.258389,  0.475605, -0.123256],\n",
       "       [-0.063983, -0.151285,  0.275507, ...,  0.382301, -0.267185, -0.075441],\n",
       "       [ 0.063983,  0.151285, -0.275507, ..., -0.382301,  0.267185,  0.075441],\n",
       "       [-0.27461 ,  0.906192,  0.847079, ...,  0.429621,  0.480646,  0.145633]])\n",
       "Coordinates:\n",
       "  * design_scale_params  (design_scale_params) <U2 'p0' 'p1' 'p2' 'p3' 'p4' 'p5'\n",
       "    feature_allzero      (features) bool False False False False False False ...\n",
       "  * features             (features) int64 0 1 2 3 4 5 6 7 8 9 10 11 12 13 14 ..."
      ]
     },
     "execution_count": 21,
     "metadata": {},
     "output_type": "execute_result"
    }
   ],
   "source": [
    "estimator.par_link_scale"
   ]
  },
  {
   "cell_type": "markdown",
   "metadata": {},
   "source": [
    "### Check that constraints were met"
   ]
  },
  {
   "cell_type": "markdown",
   "metadata": {},
   "source": [
    "These parameter sets should sum to zero for each gene."
   ]
  },
  {
   "cell_type": "code",
   "execution_count": 22,
   "metadata": {
    "scrolled": false
   },
   "outputs": [
    {
     "data": {
      "text/plain": [
       "<xarray.DataArray ()>\n",
       "array(5.551115e-17)\n",
       "Coordinates:\n",
       "    design_loc_params  <U2 'p1'"
      ]
     },
     "execution_count": 22,
     "metadata": {},
     "output_type": "execute_result"
    }
   ],
   "source": [
    "np.max(estimator.par_link_loc[1,:]+np.sum(estimator.par_link_loc[2:5,:], axis=0))"
   ]
  },
  {
   "cell_type": "code",
   "execution_count": 24,
   "metadata": {
    "scrolled": false
   },
   "outputs": [
    {
     "data": {
      "text/plain": [
       "<xarray.DataArray ()>\n",
       "array(5.551115e-17)"
      ]
     },
     "execution_count": 24,
     "metadata": {},
     "output_type": "execute_result"
    }
   ],
   "source": [
    "np.max(np.sum(estimator.par_link_loc[1:3,:], axis=0)+np.sum(estimator.par_link_loc[3:5,:], axis=0))"
   ]
  },
  {
   "cell_type": "markdown",
   "metadata": {},
   "source": [
    "## Comparing the results with the simulated data:"
   ]
  },
  {
   "cell_type": "markdown",
   "metadata": {},
   "source": [
    "Linear model output:"
   ]
  },
  {
   "cell_type": "code",
   "execution_count": 25,
   "metadata": {},
   "outputs": [
    {
     "name": "stdout",
     "output_type": "stream",
     "text": [
      "Root mean squared deviation of location: 0.02\n",
      "Root mean squared deviation of scale:    0.06\n"
     ]
    }
   ],
   "source": [
    "locdiff = glm.utils.stats.rmsd(np.matmul(estimator.design_loc, estimator.par_link_loc), \n",
    "                               np.matmul(sim.design_loc, sim.par_link_loc))\n",
    "print(\"Root mean squared deviation of location: %.2f\" % locdiff)\n",
    "\n",
    "scalediff = glm.utils.stats.rmsd(np.matmul(estimator.design_scale, estimator.par_link_scale), \n",
    "                                 np.matmul(sim.design_scale, sim.par_link_scale))\n",
    "print(\"Root mean squared deviation of scale:    %.2f\" % scalediff)"
   ]
  }
 ],
 "metadata": {
  "kernelspec": {
   "display_name": "Python 3",
   "language": "python",
   "name": "python3"
  },
  "language_info": {
   "codemirror_mode": {
    "name": "ipython",
    "version": 3
   },
   "file_extension": ".py",
   "mimetype": "text/x-python",
   "name": "python",
   "nbconvert_exporter": "python",
   "pygments_lexer": "ipython3",
   "version": "3.6.5"
  }
 },
 "nbformat": 4,
 "nbformat_minor": 2
}
