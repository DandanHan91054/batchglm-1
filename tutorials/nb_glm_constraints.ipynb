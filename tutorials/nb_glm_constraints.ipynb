{
 "cells": [
  {
   "cell_type": "code",
   "execution_count": 1,
   "metadata": {},
   "outputs": [
    {
     "name": "stderr",
     "output_type": "stream",
     "text": [
      "/Users/david.fischer/miniconda3/lib/python3.6/importlib/_bootstrap.py:219: RuntimeWarning: numpy.dtype size changed, may indicate binary incompatibility. Expected 96, got 88\n",
      "  return f(*args, **kwds)\n",
      "/Users/david.fischer/miniconda3/lib/python3.6/importlib/_bootstrap.py:219: RuntimeWarning: numpy.dtype size changed, may indicate binary incompatibility. Expected 96, got 88\n",
      "  return f(*args, **kwds)\n"
     ]
    }
   ],
   "source": [
    "import os\n",
    "import datetime\n",
    "import numpy as np\n",
    "import xarray as xa\n",
    "import pprint\n",
    "\n",
    "import logging\n",
    "import warnings\n",
    "\n",
    "logging.getLogger(\"tensorflow\").setLevel(logging.INFO)\n",
    "logging.getLogger(\"batchglm\").setLevel(logging.INFO)"
   ]
  },
  {
   "cell_type": "markdown",
   "metadata": {},
   "source": [
    "## Import batchglm"
   ]
  },
  {
   "cell_type": "code",
   "execution_count": 2,
   "metadata": {},
   "outputs": [],
   "source": [
    "import batchglm.api as glm"
   ]
  },
  {
   "cell_type": "code",
   "execution_count": 3,
   "metadata": {},
   "outputs": [],
   "source": [
    "# just to ignore some tensorflow warnings; just ignore this line\n",
    "warnings.filterwarnings(\"ignore\", category=DeprecationWarning, module=\"tensorflow\")"
   ]
  },
  {
   "cell_type": "markdown",
   "metadata": {},
   "source": [
    "## Simulate some data"
   ]
  },
  {
   "cell_type": "code",
   "execution_count": 4,
   "metadata": {},
   "outputs": [],
   "source": [
    "sim = glm.models.nb_glm.Simulator(num_features=100)"
   ]
  },
  {
   "cell_type": "code",
   "execution_count": 5,
   "metadata": {},
   "outputs": [],
   "source": [
    "dmat = xa.DataArray(np.zeros([2000, 6]), dims=[\"observations\", \"design_loc_params\"])\n",
    "dmat.coords[\"design_loc_params\"] = ['intercept', 'bio1', 'bio2', 'bio3', 'bio4', 'cond2']\n",
    "dmat[:,0] = 1\n",
    "dmat[0:500,1] = 1\n",
    "dmat[500:1000,2] = 1\n",
    "dmat[1000:1500,3] = 1\n",
    "dmat[1500:2000,4] = 1\n",
    "dmat[1000:2000,5] = 1\n",
    "sim.data[\"design_loc\"] = dmat"
   ]
  },
  {
   "cell_type": "code",
   "execution_count": 6,
   "metadata": {},
   "outputs": [],
   "source": [
    "dmat = xa.DataArray(np.zeros([2000, 6]), dims=[\"observations\", \"design_scale_params\"])\n",
    "dmat.coords[\"design_scale_params\"] = ['intercept', 'bio1', 'bio2', 'bio3', 'bio4', 'cond2']\n",
    "dmat[:,0] = 1\n",
    "dmat[0:500,1] = 1\n",
    "dmat[500:1000,2] = 1\n",
    "dmat[1000:1500,3] = 1\n",
    "dmat[1500:2000,4] = 1\n",
    "dmat[1000:2000,5] = 1\n",
    "sim.data[\"design_scale\"] = dmat"
   ]
  },
  {
   "cell_type": "code",
   "execution_count": 7,
   "metadata": {},
   "outputs": [],
   "source": [
    "sim.generate()"
   ]
  },
  {
   "cell_type": "code",
   "execution_count": 8,
   "metadata": {},
   "outputs": [
    {
     "data": {
      "text/plain": [
       "<xarray.DataArray 'design_loc' (observations: 2000, design_loc_params: 6)>\n",
       "array([[1., 1., 0., 0., 0., 0.],\n",
       "       [1., 1., 0., 0., 0., 0.],\n",
       "       [1., 1., 0., 0., 0., 0.],\n",
       "       ...,\n",
       "       [1., 0., 0., 0., 1., 1.],\n",
       "       [1., 0., 0., 0., 1., 1.],\n",
       "       [1., 0., 0., 0., 1., 1.]])\n",
       "Coordinates:\n",
       "  * design_loc_params  (design_loc_params) <U9 'intercept' 'bio1' 'bio2' ...\n",
       "Dimensions without coordinates: observations"
      ]
     },
     "execution_count": 8,
     "metadata": {},
     "output_type": "execute_result"
    }
   ],
   "source": [
    "sim.design_loc"
   ]
  },
  {
   "cell_type": "markdown",
   "metadata": {},
   "source": [
    "### Simulated model data:"
   ]
  },
  {
   "cell_type": "code",
   "execution_count": 9,
   "metadata": {
    "scrolled": true
   },
   "outputs": [
    {
     "data": {
      "text/plain": [
       "<xarray.DataArray 'X' (observations: 2000, features: 100)>\n",
       "array([[  478, 18830, 12251, ...,  7559,  6097,  5756],\n",
       "       [  202, 23037,  9357, ...,  3648,  5570,  7311],\n",
       "       [  152, 34740, 12296, ...,  6450,  7926,  7561],\n",
       "       ...,\n",
       "       [  955,  9602,  6298, ...,  3246, 14386, 31011],\n",
       "       [ 1117, 11882,  7861, ...,  2951, 25191, 28232],\n",
       "       [  771, 13197,  6668, ...,  4065, 28411, 33315]])\n",
       "Dimensions without coordinates: observations, features"
      ]
     },
     "execution_count": 9,
     "metadata": {},
     "output_type": "execute_result"
    }
   ],
   "source": [
    "sim.X"
   ]
  },
  {
   "cell_type": "code",
   "execution_count": 10,
   "metadata": {},
   "outputs": [
    {
     "data": {
      "text/plain": [
       "array([[1., 0., 0., 0., 1., 1.],\n",
       "       [1., 0., 0., 1., 0., 1.],\n",
       "       [1., 0., 1., 0., 0., 0.],\n",
       "       [1., 1., 0., 0., 0., 0.]])"
      ]
     },
     "execution_count": 10,
     "metadata": {},
     "output_type": "execute_result"
    }
   ],
   "source": [
    "np.unique(sim.design_loc, axis=0)"
   ]
  },
  {
   "cell_type": "markdown",
   "metadata": {},
   "source": [
    "### The parameters used to generate this data:"
   ]
  },
  {
   "cell_type": "code",
   "execution_count": 11,
   "metadata": {},
   "outputs": [
    {
     "data": {
      "text/plain": [
       "<xarray.DataArray 'a' (design_loc_params: 6, features: 100)>\n",
       "array([[ 6.045812,  9.167033,  8.973297, ...,  9.021496,  9.014817,  9.089966],\n",
       "       [-0.256734,  0.58049 ,  0.648218, ..., -0.200294, -0.171946, -0.338725],\n",
       "       [ 0.053395,  0.02412 ,  0.013432, ...,  0.527793,  0.390301,  0.131826],\n",
       "       [-0.480349, -0.43441 ,  0.12154 , ...,  0.47683 , -0.238827, -0.410813],\n",
       "       [ 0.124989, -0.272484,  0.321173, ..., -0.660628,  0.605444,  0.671045],\n",
       "       [ 0.611672,  0.105642, -0.473701, ..., -0.482572,  0.483994,  0.643748]])\n",
       "Coordinates:\n",
       "  * design_loc_params  (design_loc_params) <U9 'intercept' 'bio1' 'bio2' ...\n",
       "Dimensions without coordinates: features"
      ]
     },
     "execution_count": 11,
     "metadata": {},
     "output_type": "execute_result"
    }
   ],
   "source": [
    "sim.par_link_loc"
   ]
  },
  {
   "cell_type": "code",
   "execution_count": 12,
   "metadata": {},
   "outputs": [
    {
     "data": {
      "text/plain": [
       "<xarray.DataArray 'b' (design_scale_params: 6, features: 100)>\n",
       "array([[ 2.079442,  0.693147,  2.197225, ...,  2.079442,  1.386294,  2.079442],\n",
       "       [-0.281658, -0.448469,  0.013467, ...,  0.045641, -0.270166,  0.38107 ],\n",
       "       [ 0.220301,  0.601458, -0.47555 , ..., -0.141956,  0.546687,  0.684411],\n",
       "       [ 0.371832, -0.017138,  0.417785, ...,  0.634734, -0.3468  , -0.538411],\n",
       "       [-0.250497,  0.400265,  0.507651, ..., -0.200762, -0.182734,  0.246663],\n",
       "       [ 0.393928,  0.011343, -0.083216, ..., -0.611615,  0.252928,  0.487104]])\n",
       "Coordinates:\n",
       "  * design_scale_params  (design_scale_params) <U9 'intercept' 'bio1' 'bio2' ...\n",
       "Dimensions without coordinates: features"
      ]
     },
     "execution_count": 12,
     "metadata": {},
     "output_type": "execute_result"
    }
   ],
   "source": [
    "sim.par_link_scale"
   ]
  },
  {
   "cell_type": "markdown",
   "metadata": {},
   "source": [
    "## Constraints for model"
   ]
  },
  {
   "cell_type": "code",
   "execution_count": 13,
   "metadata": {},
   "outputs": [
    {
     "data": {
      "text/plain": [
       "array([[ 0.,  0.,  0., -1.,  1.,  0.],\n",
       "       [ 0., -1.,  1.,  1.,  1.,  0.]])"
      ]
     },
     "execution_count": 13,
     "metadata": {},
     "output_type": "execute_result"
    }
   ],
   "source": [
    "constraints_loc = np.zeros([2, sim.design_loc.shape[1]])\n",
    "constraints_loc[0,3] = -1\n",
    "constraints_loc[0,4:5] = 1\n",
    "constraints_loc[1,1] = -1\n",
    "constraints_loc[1,2:5] = 1\n",
    "constraints_loc"
   ]
  },
  {
   "cell_type": "code",
   "execution_count": 14,
   "metadata": {},
   "outputs": [
    {
     "data": {
      "text/plain": [
       "array([[ 0.,  0.,  0., -1.,  1.,  0.],\n",
       "       [ 0., -1.,  1.,  1.,  1.,  0.]])"
      ]
     },
     "execution_count": 14,
     "metadata": {},
     "output_type": "execute_result"
    }
   ],
   "source": [
    "constraints_scale = np.zeros([2, sim.design_scale.shape[1]])\n",
    "constraints_scale[0,3] = -1\n",
    "constraints_scale[0,4:5] = 1\n",
    "constraints_scale[1,1] = -1\n",
    "constraints_scale[1,2:5] = 1\n",
    "constraints_scale"
   ]
  },
  {
   "cell_type": "markdown",
   "metadata": {},
   "source": [
    "## Estimate the model"
   ]
  },
  {
   "cell_type": "code",
   "execution_count": 15,
   "metadata": {},
   "outputs": [],
   "source": [
    "input_data = None"
   ]
  },
  {
   "cell_type": "code",
   "execution_count": 16,
   "metadata": {},
   "outputs": [],
   "source": [
    "X = sim.X\n",
    "design_loc = sim.design_loc\n",
    "design_scale = sim.design_scale\n",
    "\n",
    "# input data\n",
    "input_data = glm.models.nb_glm.InputData.new(\n",
    "    data=X, \n",
    "    design_loc=design_loc,\n",
    "    design_scale=design_scale)\n",
    "input_data.constraints_loc = constraints_loc\n",
    "input_data.constraints_scale = constraints_scale"
   ]
  },
  {
   "cell_type": "code",
   "execution_count": 17,
   "metadata": {},
   "outputs": [],
   "source": [
    "input_data.constraints_loc = constraints_loc\n",
    "input_data.constraints_scale = constraints_scale"
   ]
  },
  {
   "cell_type": "markdown",
   "metadata": {},
   "source": [
    "### set up estimator:"
   ]
  },
  {
   "cell_type": "code",
   "execution_count": 18,
   "metadata": {},
   "outputs": [
    {
     "name": "stdout",
     "output_type": "stream",
     "text": [
      "Using closed-form MLE initialization for mean\n",
      "Should train mu: False\n",
      "Using closed-form MME initialization for dispersion\n",
      "Should train r: True\n"
     ]
    },
    {
     "name": "stderr",
     "output_type": "stream",
     "text": [
      "/Users/david.fischer/miniconda3/lib/python3.6/site-packages/tensorflow/python/ops/gradients_impl.py:108: UserWarning: Converting sparse IndexedSlices to a dense Tensor of unknown shape. This may consume a large amount of memory.\n",
      "  \"Converting sparse IndexedSlices to a dense Tensor of unknown shape. \"\n",
      "/Users/david.fischer/miniconda3/lib/python3.6/site-packages/tensorflow/python/ops/gradients_impl.py:108: UserWarning: Converting sparse IndexedSlices to a dense Tensor of unknown shape. This may consume a large amount of memory.\n",
      "  \"Converting sparse IndexedSlices to a dense Tensor of unknown shape. \"\n",
      "/Users/david.fischer/miniconda3/lib/python3.6/site-packages/tensorflow/python/ops/gradients_impl.py:108: UserWarning: Converting sparse IndexedSlices to a dense Tensor of unknown shape. This may consume a large amount of memory.\n",
      "  \"Converting sparse IndexedSlices to a dense Tensor of unknown shape. \"\n",
      "/Users/david.fischer/miniconda3/lib/python3.6/site-packages/tensorflow/python/ops/gradients_impl.py:108: UserWarning: Converting sparse IndexedSlices to a dense Tensor of unknown shape. This may consume a large amount of memory.\n",
      "  \"Converting sparse IndexedSlices to a dense Tensor of unknown shape. \"\n"
     ]
    },
    {
     "name": "stdout",
     "output_type": "stream",
     "text": [
      "Graph was finalized.\n",
      "Running local_init_op.\n",
      "Done running local_init_op.\n"
     ]
    }
   ],
   "source": [
    "estimator = glm.models.nb_glm.Estimator(input_data, quick_scale=False)\n",
    "estimator.initialize()"
   ]
  },
  {
   "cell_type": "markdown",
   "metadata": {},
   "source": [
    "### train"
   ]
  },
  {
   "cell_type": "markdown",
   "metadata": {},
   "source": [
    "Now start the training sequence and let the estimator choose automatically the best training strategy:"
   ]
  },
  {
   "cell_type": "code",
   "execution_count": 19,
   "metadata": {},
   "outputs": [
    {
     "name": "stdout",
     "output_type": "stream",
     "text": [
      "training strategy:\n",
      "[{'convergence_criteria': 't_test',\n",
      "  'learning_rate': 0.1,\n",
      "  'loss_window_size': 100,\n",
      "  'optim_algo': 'ADAM',\n",
      "  'stop_at_loss_change': 0.05,\n",
      "  'use_batching': True}]\n",
      "Beginning with training sequence #1\n",
      "Step: 1\tloss: 7654.568380\n",
      "Step: 2\tloss: 5003.113677\n",
      "Step: 3\tloss: 4057.491532\n",
      "Step: 4\tloss: 4451.445869\n",
      "Step: 5\tloss: 7186.717137\n",
      "Step: 6\tloss: 4980.996485\n",
      "Step: 7\tloss: 4360.479423\n",
      "Step: 8\tloss: 4588.746617\n",
      "Step: 9\tloss: 8071.190809\n",
      "Step: 10\tloss: 4395.710618\n",
      "Step: 11\tloss: 4569.978129\n",
      "Step: 12\tloss: 4066.625962\n",
      "Step: 13\tloss: 7627.783795\n",
      "Step: 14\tloss: 4937.498953\n",
      "Step: 15\tloss: 4385.357833\n",
      "Step: 16\tloss: 4149.012362\n",
      "Step: 17\tloss: 7190.199802\n",
      "Step: 18\tloss: 5445.378308\n",
      "Step: 19\tloss: 4121.230940\n",
      "Step: 20\tloss: 4341.818785\n",
      "Step: 21\tloss: 7381.279913\n",
      "Step: 22\tloss: 4910.779687\n",
      "Step: 23\tloss: 4283.777700\n",
      "Step: 24\tloss: 4522.343336\n",
      "Step: 25\tloss: 7936.285462\n",
      "Step: 26\tloss: 4750.447752\n",
      "Step: 27\tloss: 4293.079547\n",
      "Step: 28\tloss: 4117.959345\n",
      "Step: 29\tloss: 8572.606618\n",
      "Step: 30\tloss: 4568.825211\n",
      "Step: 31\tloss: 4208.662412\n",
      "Step: 32\tloss: 3747.443708\n",
      "Step: 33\tloss: 7811.208174\n",
      "Step: 34\tloss: 5006.689193\n",
      "Step: 35\tloss: 4450.052307\n",
      "Step: 36\tloss: 3829.398702\n",
      "Step: 37\tloss: 8101.598274\n",
      "Step: 38\tloss: 4865.881747\n",
      "Step: 39\tloss: 3794.992012\n",
      "Step: 40\tloss: 4334.668353\n",
      "Step: 41\tloss: 8322.210996\n",
      "Step: 42\tloss: 4814.321273\n",
      "Step: 43\tloss: 4051.212824\n",
      "Step: 44\tloss: 3909.200238\n",
      "Step: 45\tloss: 8022.897601\n",
      "Step: 46\tloss: 4637.375876\n",
      "Step: 47\tloss: 4184.507755\n",
      "Step: 48\tloss: 4251.998872\n",
      "Step: 49\tloss: 7962.911811\n",
      "Step: 50\tloss: 4854.931735\n",
      "Step: 51\tloss: 4303.362617\n",
      "Step: 52\tloss: 3975.490092\n",
      "Step: 53\tloss: 7980.959956\n",
      "Step: 54\tloss: 5058.691751\n",
      "Step: 55\tloss: 4134.445962\n",
      "Step: 56\tloss: 3922.519542\n",
      "Step: 57\tloss: 8504.063697\n",
      "Step: 58\tloss: 4610.554138\n",
      "Step: 59\tloss: 3907.465024\n",
      "Step: 60\tloss: 4074.487905\n",
      "Step: 61\tloss: 7379.397176\n",
      "Step: 62\tloss: 5219.146180\n",
      "Step: 63\tloss: 4756.461406\n",
      "Step: 64\tloss: 3741.525583\n",
      "Step: 65\tloss: 7639.425332\n",
      "Step: 66\tloss: 4997.179960\n",
      "Step: 67\tloss: 4292.045336\n",
      "Step: 68\tloss: 4167.851711\n",
      "Step: 69\tloss: 8216.878126\n",
      "Step: 70\tloss: 4712.212241\n",
      "Step: 71\tloss: 4408.442773\n",
      "Step: 72\tloss: 3758.959719\n",
      "Step: 73\tloss: 7113.604624\n",
      "Step: 74\tloss: 5365.804522\n",
      "Step: 75\tloss: 4228.067181\n",
      "Step: 76\tloss: 4389.013912\n",
      "Step: 77\tloss: 8015.612768\n",
      "Step: 78\tloss: 5040.835908\n",
      "Step: 79\tloss: 3695.037558\n",
      "Step: 80\tloss: 4344.992548\n",
      "Step: 81\tloss: 7727.602654\n",
      "Step: 82\tloss: 5217.459212\n",
      "Step: 83\tloss: 4288.517679\n",
      "Step: 84\tloss: 3862.881520\n",
      "Step: 85\tloss: 7527.627064\n",
      "Step: 86\tloss: 4953.659823\n",
      "Step: 87\tloss: 4371.694034\n",
      "Step: 88\tloss: 4243.474712\n",
      "Step: 89\tloss: 7605.516025\n",
      "Step: 90\tloss: 5751.825036\n",
      "Step: 91\tloss: 3847.758114\n",
      "Step: 92\tloss: 3891.352808\n",
      "Step: 93\tloss: 7996.948943\n",
      "Step: 94\tloss: 4775.270995\n",
      "Step: 95\tloss: 3953.323259\n",
      "Step: 96\tloss: 4370.920080\n",
      "Step: 97\tloss: 7905.583030\n",
      "Step: 98\tloss: 5215.126109\n",
      "Step: 99\tloss: 4030.671632\n",
      "Step: 100\tloss: 3945.067377\n",
      "Step: 101\tloss: 8054.989337\n",
      "Step: 102\tloss: 4717.623385\n",
      "Step: 103\tloss: 4319.174095\n",
      "Step: 104\tloss: 4004.665642\n",
      "Step: 105\tloss: 8022.081167\n",
      "Step: 106\tloss: 4787.115511\n",
      "Step: 107\tloss: 4388.952646\n",
      "Step: 108\tloss: 3898.324186\n",
      "Step: 109\tloss: 7509.750394\n",
      "Step: 110\tloss: 5018.625351\n",
      "Step: 111\tloss: 4235.549506\n",
      "Step: 112\tloss: 4332.545686\n",
      "Step: 113\tloss: 8249.176191\n",
      "Step: 114\tloss: 4787.977803\n",
      "Step: 115\tloss: 3805.081446\n",
      "Step: 116\tloss: 4254.239297\n",
      "Step: 117\tloss: 7782.233627\n",
      "Step: 118\tloss: 5137.127643\n",
      "Step: 119\tloss: 4038.297769\n",
      "Step: 120\tloss: 4138.809888\n",
      "Step: 121\tloss: 7385.687859\n",
      "Step: 122\tloss: 5507.224496\n",
      "Step: 123\tloss: 4082.567825\n",
      "Step: 124\tloss: 4120.990548\n",
      "Step: 125\tloss: 7849.536239\n",
      "Step: 126\tloss: 5056.963348\n",
      "Step: 127\tloss: 4175.907599\n",
      "Step: 128\tloss: 4014.064862\n",
      "Step: 129\tloss: 8211.259944\n",
      "Step: 130\tloss: 5246.953728\n",
      "Step: 131\tloss: 4055.304832\n",
      "Step: 132\tloss: 3582.936512\n",
      "Step: 133\tloss: 8019.435554\n",
      "Step: 134\tloss: 4523.303995\n",
      "Step: 135\tloss: 3834.558307\n",
      "Step: 136\tloss: 4719.165388\n",
      "Step: 137\tloss: 7640.545727\n",
      "Step: 138\tloss: 5043.882491\n",
      "Step: 139\tloss: 4056.722057\n",
      "Step: 140\tloss: 4355.317226\n",
      "Step: 141\tloss: 7563.472020\n",
      "Step: 142\tloss: 5128.293483\n",
      "Step: 143\tloss: 4008.049688\n",
      "Step: 144\tloss: 4396.653828\n",
      "Step: 145\tloss: 7661.017434\n",
      "Step: 146\tloss: 4789.667194\n",
      "Step: 147\tloss: 4314.026742\n",
      "Step: 148\tloss: 4331.763484\n",
      "Step: 149\tloss: 7316.733819\n",
      "Step: 150\tloss: 4829.873154\n",
      "Step: 151\tloss: 4383.827228\n",
      "Step: 152\tloss: 4566.036432\n",
      "Step: 153\tloss: 7775.581118\n",
      "Step: 154\tloss: 4856.244715\n",
      "Step: 155\tloss: 3983.501853\n",
      "Step: 156\tloss: 4481.138344\n",
      "Step: 157\tloss: 8095.171718\n",
      "Step: 158\tloss: 4804.442131\n",
      "Step: 159\tloss: 4100.722920\n",
      "Step: 160\tloss: 4096.138790\n",
      "Step: 161\tloss: 7610.047648\n",
      "Step: 162\tloss: 5523.449844\n",
      "Step: 163\tloss: 3854.883397\n",
      "Step: 164\tloss: 4108.082279\n",
      "Step: 165\tloss: 7661.614706\n",
      "Step: 166\tloss: 5250.559696\n",
      "Step: 167\tloss: 4245.524607\n",
      "Step: 168\tloss: 3938.769062\n",
      "Step: 169\tloss: 7900.242616\n",
      "Step: 170\tloss: 4175.827759\n",
      "Step: 171\tloss: 4498.053211\n",
      "Step: 172\tloss: 4522.341814\n",
      "Step: 173\tloss: 8389.496323\n",
      "Step: 174\tloss: 4565.965416\n",
      "Step: 175\tloss: 4333.553890\n",
      "Step: 176\tloss: 3807.453048\n",
      "Step: 177\tloss: 7578.289688\n",
      "Step: 178\tloss: 4910.415282\n",
      "Step: 179\tloss: 4370.959450\n",
      "Step: 180\tloss: 4236.805057\n",
      "Step: 181\tloss: 7422.007814\n",
      "Step: 182\tloss: 5493.962622\n",
      "Step: 183\tloss: 4672.232405\n",
      "Step: 184\tloss: 3508.274942\n",
      "Step: 185\tloss: 7902.466674\n",
      "Step: 186\tloss: 4813.362743\n",
      "Step: 187\tloss: 4248.278698\n",
      "Step: 188\tloss: 4132.356088\n",
      "Step: 189\tloss: 8241.622158\n",
      "Step: 190\tloss: 4602.791612\n",
      "Step: 191\tloss: 4317.132279\n",
      "Step: 192\tloss: 3934.941867\n",
      "Step: 193\tloss: 7765.800214\n",
      "Step: 194\tloss: 4859.459715\n",
      "Step: 195\tloss: 3958.990185\n",
      "Step: 196\tloss: 4512.206372\n",
      "Step: 197\tloss: 8089.725517\n",
      "Step: 198\tloss: 4850.850190\n",
      "Step: 199\tloss: 3892.678768\n",
      "Step: 200\tloss: 4263.218299\n",
      "pval: 0.497979\n",
      "Training sequence #1 complete\n"
     ]
    }
   ],
   "source": [
    "estimator.train_sequence('QUICK')"
   ]
  },
  {
   "cell_type": "markdown",
   "metadata": {},
   "source": [
    "## Obtaining the results\n",
    "\n",
    "The fitted parameters can be retrieved by calling the corresponding parameters of `estimator`:"
   ]
  },
  {
   "cell_type": "code",
   "execution_count": 20,
   "metadata": {},
   "outputs": [
    {
     "data": {
      "text/plain": [
       "<xarray.DataArray (design_loc_params: 6, features: 100)>\n",
       "array([[ 4.620341,  6.914816,  6.738789, ...,  6.790247,  7.054823,  7.019336],\n",
       "       [-1.461348, -2.26702 , -2.214622, ..., -2.737714, -2.348623, -2.205947],\n",
       "       [ 1.461348,  2.26702 ,  2.214622, ...,  2.737714,  2.348623,  2.205947],\n",
       "       [ 0.053355, -0.352749, -0.363557, ...,  0.531118,  0.135382,  0.059618],\n",
       "       [-0.053355,  0.352749,  0.363557, ..., -0.531118, -0.135382, -0.059618],\n",
       "       [ 2.002969,  1.717037,  1.647973, ...,  1.999238,  2.902166,  3.090634]])\n",
       "Coordinates:\n",
       "  * design_loc_params  (design_loc_params) <U9 'intercept' 'bio1' 'bio2' ...\n",
       "    feature_allzero    (features) bool False False False False False False ...\n",
       "  * features           (features) int64 0 1 2 3 4 5 6 7 8 9 10 11 12 13 14 ..."
      ]
     },
     "execution_count": 20,
     "metadata": {},
     "output_type": "execute_result"
    }
   ],
   "source": [
    "estimator.par_link_loc"
   ]
  },
  {
   "cell_type": "code",
   "execution_count": 21,
   "metadata": {
    "scrolled": true
   },
   "outputs": [
    {
     "data": {
      "text/plain": [
       "<xarray.DataArray (design_scale_params: 6, features: 100)>\n",
       "array([[ 1.610447,  0.769736,  1.529644, ...,  1.250262,  1.137096,  1.664887],\n",
       "       [-0.707272, -0.610573, -0.16996 , ..., -0.600896, -0.805995, -0.953684],\n",
       "       [ 0.707272,  0.610573,  0.16996 , ...,  0.600896,  0.805995,  0.953684],\n",
       "       [-0.28793 , -0.485543, -0.855342, ...,  0.341852, -0.421477, -0.557091],\n",
       "       [ 0.28793 ,  0.485543,  0.855342, ..., -0.341852,  0.421477,  0.557091],\n",
       "       [-0.053626, -0.185137,  0.081975, ...,  0.022312, -0.423629, -0.621982]])\n",
       "Coordinates:\n",
       "  * design_scale_params  (design_scale_params) <U9 'intercept' 'bio1' 'bio2' ...\n",
       "    feature_allzero      (features) bool False False False False False False ...\n",
       "  * features             (features) int64 0 1 2 3 4 5 6 7 8 9 10 11 12 13 14 ..."
      ]
     },
     "execution_count": 21,
     "metadata": {},
     "output_type": "execute_result"
    }
   ],
   "source": [
    "estimator.par_link_scale"
   ]
  },
  {
   "cell_type": "markdown",
   "metadata": {},
   "source": [
    "### Check that constraints were met"
   ]
  },
  {
   "cell_type": "markdown",
   "metadata": {},
   "source": [
    "These parameter sets should sum to zero for each gene."
   ]
  },
  {
   "cell_type": "code",
   "execution_count": 26,
   "metadata": {
    "scrolled": true
   },
   "outputs": [
    {
     "data": {
      "text/plain": [
       "<xarray.DataArray ()>\n",
       "array(4.440892e-16)"
      ]
     },
     "execution_count": 26,
     "metadata": {},
     "output_type": "execute_result"
    }
   ],
   "source": [
    "np.max(np.sum(estimator.par_link_loc[1:5,:], axis=0))"
   ]
  },
  {
   "cell_type": "code",
   "execution_count": 27,
   "metadata": {},
   "outputs": [
    {
     "data": {
      "text/plain": [
       "<xarray.DataArray ()>\n",
       "array(0.)"
      ]
     },
     "execution_count": 27,
     "metadata": {},
     "output_type": "execute_result"
    }
   ],
   "source": [
    "np.max(np.sum(estimator.par_link_loc[3:5,:], axis=0))"
   ]
  },
  {
   "cell_type": "markdown",
   "metadata": {},
   "source": [
    "## Comparing the results with the simulated data:"
   ]
  },
  {
   "cell_type": "code",
   "execution_count": 36,
   "metadata": {},
   "outputs": [
    {
     "name": "stdout",
     "output_type": "stream",
     "text": [
      "Root mean squared deviation of location: 2.13\n",
      "Root mean squared deviation of scale:    0.83\n"
     ]
    }
   ],
   "source": [
    "locdiff = glm.utils.stats.rmsd(np.matmul(estimator.design_loc, estimator.par_link_loc), \n",
    "                               np.matmul(sim.design_loc, sim.par_link_loc))\n",
    "print(\"Root mean squared deviation of location: %.2f\" % locdiff)\n",
    "\n",
    "scalediff = glm.utils.stats.rmsd(np.matmul(estimator.design_scale, estimator.par_link_scale), \n",
    "                                 np.matmul(sim.design_scale, sim.par_link_scale))\n",
    "print(\"Root mean squared deviation of scale:    %.2f\" % scalediff)"
   ]
  }
 ],
 "metadata": {
  "kernelspec": {
   "display_name": "Python 3",
   "language": "python",
   "name": "python3"
  },
  "language_info": {
   "codemirror_mode": {
    "name": "ipython",
    "version": 3
   },
   "file_extension": ".py",
   "mimetype": "text/x-python",
   "name": "python",
   "nbconvert_exporter": "python",
   "pygments_lexer": "ipython3",
   "version": "3.6.5"
  }
 },
 "nbformat": 4,
 "nbformat_minor": 2
}
