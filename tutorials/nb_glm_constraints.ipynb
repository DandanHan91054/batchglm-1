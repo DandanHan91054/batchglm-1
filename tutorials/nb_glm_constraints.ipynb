{
 "cells": [
  {
   "cell_type": "code",
   "execution_count": 1,
   "metadata": {},
   "outputs": [
    {
     "name": "stderr",
     "output_type": "stream",
     "text": [
      "/Users/david.fischer/miniconda3/lib/python3.6/importlib/_bootstrap.py:219: RuntimeWarning: numpy.dtype size changed, may indicate binary incompatibility. Expected 96, got 88\n",
      "  return f(*args, **kwds)\n",
      "/Users/david.fischer/miniconda3/lib/python3.6/importlib/_bootstrap.py:219: RuntimeWarning: numpy.dtype size changed, may indicate binary incompatibility. Expected 96, got 88\n",
      "  return f(*args, **kwds)\n"
     ]
    }
   ],
   "source": [
    "import os\n",
    "import datetime\n",
    "import numpy as np\n",
    "import xarray as xa\n",
    "import pprint\n",
    "\n",
    "import logging\n",
    "import warnings\n",
    "\n",
    "logging.getLogger(\"tensorflow\").setLevel(logging.INFO)\n",
    "logging.getLogger(\"batchglm\").setLevel(logging.DEBUG)"
   ]
  },
  {
   "cell_type": "markdown",
   "metadata": {},
   "source": [
    "## Import batchglm"
   ]
  },
  {
   "cell_type": "code",
   "execution_count": 2,
   "metadata": {},
   "outputs": [],
   "source": [
    "import batchglm.api as glm"
   ]
  },
  {
   "cell_type": "code",
   "execution_count": 3,
   "metadata": {},
   "outputs": [],
   "source": [
    "# just to ignore some tensorflow warnings; just ignore this line\n",
    "warnings.filterwarnings(\"ignore\", category=DeprecationWarning, module=\"tensorflow\")"
   ]
  },
  {
   "cell_type": "markdown",
   "metadata": {},
   "source": [
    "## Simulate some data"
   ]
  },
  {
   "cell_type": "code",
   "execution_count": 4,
   "metadata": {},
   "outputs": [],
   "source": [
    "sim = glm.models.nb_glm.Simulator(num_features=100)"
   ]
  },
  {
   "cell_type": "code",
   "execution_count": 5,
   "metadata": {},
   "outputs": [],
   "source": [
    "sim.generate_sample_description(num_batches=2, num_confounders=4)\n",
    "sim.generate_params()\n",
    "sim.generate_data()"
   ]
  },
  {
   "cell_type": "markdown",
   "metadata": {},
   "source": [
    "### Simulated model data:"
   ]
  },
  {
   "cell_type": "code",
   "execution_count": 6,
   "metadata": {
    "scrolled": true
   },
   "outputs": [
    {
     "data": {
      "text/plain": [
       "<xarray.DataArray 'X' (observations: 2000, features: 100)>\n",
       "array([[ 9598,  4652,   319, ...,  6282,  1708,  2095],\n",
       "       [13948,  4938,   365, ...,  2417,  3692,  1040],\n",
       "       [ 8743,  8356,  1578, ...,  9620,  3276,  1056],\n",
       "       ...,\n",
       "       [ 8598,  3504,  1973, ...,  1451,  5367,  1597],\n",
       "       [ 6778,  3215,  1380, ..., 17942,  4649,  3053],\n",
       "       [10059,  8003,  1708, ..., 10895,  4325,  1732]])\n",
       "Dimensions without coordinates: observations, features"
      ]
     },
     "execution_count": 6,
     "metadata": {},
     "output_type": "execute_result"
    }
   ],
   "source": [
    "sim.X"
   ]
  },
  {
   "cell_type": "code",
   "execution_count": 7,
   "metadata": {},
   "outputs": [
    {
     "data": {
      "text/plain": [
       "array([[1., 0., 0., 0., 0.],\n",
       "       [1., 0., 0., 0., 1.],\n",
       "       [1., 0., 0., 1., 0.],\n",
       "       [1., 0., 1., 0., 0.],\n",
       "       [1., 1., 0., 0., 0.],\n",
       "       [1., 1., 0., 0., 1.],\n",
       "       [1., 1., 0., 1., 0.],\n",
       "       [1., 1., 1., 0., 0.]])"
      ]
     },
     "execution_count": 7,
     "metadata": {},
     "output_type": "execute_result"
    }
   ],
   "source": [
    "np.unique(sim.design_loc, axis=0)"
   ]
  },
  {
   "cell_type": "markdown",
   "metadata": {},
   "source": [
    "### The parameters used to generate this data:"
   ]
  },
  {
   "cell_type": "code",
   "execution_count": 8,
   "metadata": {},
   "outputs": [
    {
     "data": {
      "text/plain": [
       "<xarray.DataArray 'a' (design_loc_params: 5, features: 100)>\n",
       "array([[ 9.196003e+00,  8.491143e+00,  6.852566e+00, ...,  8.637595e+00,\n",
       "         8.003287e+00,  7.287410e+00],\n",
       "       [-2.187385e-01, -1.766351e-01,  1.469890e-02, ...,  9.231006e-02,\n",
       "         8.961836e-02,  1.568556e-03],\n",
       "       [ 1.995042e-01, -1.144684e-01,  2.361525e-01, ..., -6.698329e-01,\n",
       "         3.360822e-01, -1.045535e-01],\n",
       "       [ 3.163526e-01,  2.160538e-01,  3.013061e-01, ...,  5.993177e-01,\n",
       "         3.107750e-01,  6.100819e-01],\n",
       "       [ 6.569366e-01,  5.965733e-01,  1.312351e-01, ...,  5.535659e-01,\n",
       "         1.333506e-01,  5.455421e-01]])\n",
       "Coordinates:\n",
       "  * design_loc_params  (design_loc_params) <U14 'Intercept' 'batch[T.1]' ...\n",
       "Dimensions without coordinates: features"
      ]
     },
     "execution_count": 8,
     "metadata": {},
     "output_type": "execute_result"
    }
   ],
   "source": [
    "sim.par_link_loc"
   ]
  },
  {
   "cell_type": "code",
   "execution_count": 9,
   "metadata": {},
   "outputs": [
    {
     "data": {
      "text/plain": [
       "<xarray.DataArray 'b' (design_scale_params: 5, features: 100)>\n",
       "array([[ 1.791759,  2.302585,  1.386294, ...,  1.098612,  2.197225,  1.609438],\n",
       "       [ 0.0063  ,  0.229879,  0.669902, ...,  0.246405, -0.399035,  0.033967],\n",
       "       [ 0.689788, -0.296096,  0.421386, ...,  0.598311,  0.070376,  0.4149  ],\n",
       "       [ 0.562711, -0.469413,  0.460855, ...,  0.146805,  0.288761, -0.098345],\n",
       "       [-0.676518,  0.299728,  0.318685, ...,  0.373308, -0.391379,  0.452296]])\n",
       "Coordinates:\n",
       "  * design_scale_params  (design_scale_params) <U14 'Intercept' 'batch[T.1]' ...\n",
       "Dimensions without coordinates: features"
      ]
     },
     "execution_count": 9,
     "metadata": {},
     "output_type": "execute_result"
    }
   ],
   "source": [
    "sim.par_link_scale"
   ]
  },
  {
   "cell_type": "markdown",
   "metadata": {},
   "source": [
    "## Constraints for model"
   ]
  },
  {
   "cell_type": "code",
   "execution_count": 43,
   "metadata": {},
   "outputs": [],
   "source": [
    "dmat_est_loc = sim.design_loc"
   ]
  },
  {
   "cell_type": "code",
   "execution_count": 46,
   "metadata": {},
   "outputs": [],
   "source": [
    "dmat_est_scale = sim.design_scale"
   ]
  },
  {
   "cell_type": "code",
   "execution_count": 47,
   "metadata": {},
   "outputs": [
    {
     "data": {
      "text/plain": [
       "array([[ 0., -1.,  1.,  1.,  1.],\n",
       "       [ 0., -1., -1.,  1.,  1.]])"
      ]
     },
     "execution_count": 47,
     "metadata": {},
     "output_type": "execute_result"
    }
   ],
   "source": [
    "constraints_loc = np.zeros([2, dmat_est_loc.shape[1]])\n",
    "constraints_loc[0,1] = -1\n",
    "constraints_loc[0,2:5] = 1\n",
    "constraints_loc[1,1:3] = -1\n",
    "constraints_loc[1,3:5] = 1\n",
    "constraints_loc"
   ]
  },
  {
   "cell_type": "code",
   "execution_count": 48,
   "metadata": {},
   "outputs": [
    {
     "data": {
      "text/plain": [
       "array([[ 0., -1.,  1.,  1.,  1.],\n",
       "       [ 0., -1., -1.,  1.,  1.]])"
      ]
     },
     "execution_count": 48,
     "metadata": {},
     "output_type": "execute_result"
    }
   ],
   "source": [
    "constraints_scale = np.zeros([2, dmat_est_scale.shape[1]])\n",
    "constraints_scale[0,1] = -1\n",
    "constraints_scale[0,2:5] = 1\n",
    "constraints_scale[1,1:3] = -1\n",
    "constraints_scale[1,3:5] = 1\n",
    "constraints_scale"
   ]
  },
  {
   "cell_type": "code",
   "execution_count": 49,
   "metadata": {},
   "outputs": [
    {
     "name": "stdout",
     "output_type": "stream",
     "text": [
      "[[ 1.  0.  0.  0.  0.]\n",
      " [ 1.  0.  0.  0.  1.]\n",
      " [ 1.  0.  0.  1.  0.]\n",
      " [ 1.  0.  1.  0.  0.]\n",
      " [ 1.  1.  0.  0.  0.]\n",
      " [ 1.  1.  0.  0.  1.]\n",
      " [ 1.  1.  0.  1.  0.]\n",
      " [ 1.  1.  1.  0.  0.]\n",
      " [ 0. -1.  1.  1.  1.]\n",
      " [ 0. -1. -1.  1.  1.]]\n",
      "rank deficiency without constraints: 0\n",
      "rank deficiency with constraints: 0\n"
     ]
    },
    {
     "ename": "LinAlgError",
     "evalue": "Last 2 dimensions of the array must be square",
     "output_type": "error",
     "traceback": [
      "\u001b[0;31m---------------------------------------------------------------------------\u001b[0m",
      "\u001b[0;31mLinAlgError\u001b[0m                               Traceback (most recent call last)",
      "\u001b[0;32m<ipython-input-49-55bc22403144>\u001b[0m in \u001b[0;36m<module>\u001b[0;34m()\u001b[0m\n\u001b[1;32m      3\u001b[0m \u001b[0mprint\u001b[0m\u001b[0;34m(\u001b[0m\u001b[0;34m\"rank deficiency without constraints: \"\u001b[0m\u001b[0;34m+\u001b[0m \u001b[0mstr\u001b[0m\u001b[0;34m(\u001b[0m\u001b[0mdmat_est_loc\u001b[0m\u001b[0;34m.\u001b[0m\u001b[0mshape\u001b[0m\u001b[0;34m[\u001b[0m\u001b[0;36m1\u001b[0m\u001b[0;34m]\u001b[0m \u001b[0;34m-\u001b[0m \u001b[0mmatrix_rank\u001b[0m\u001b[0;34m(\u001b[0m\u001b[0mnp\u001b[0m\u001b[0;34m.\u001b[0m\u001b[0mvstack\u001b[0m\u001b[0;34m(\u001b[0m\u001b[0;34m[\u001b[0m\u001b[0mnp\u001b[0m\u001b[0;34m.\u001b[0m\u001b[0munique\u001b[0m\u001b[0;34m(\u001b[0m\u001b[0mdmat_est_loc\u001b[0m\u001b[0;34m,\u001b[0m \u001b[0maxis\u001b[0m\u001b[0;34m=\u001b[0m\u001b[0;36m0\u001b[0m\u001b[0;34m)\u001b[0m\u001b[0;34m]\u001b[0m\u001b[0;34m)\u001b[0m\u001b[0;34m)\u001b[0m\u001b[0;34m)\u001b[0m\u001b[0;34m)\u001b[0m\u001b[0;34m\u001b[0m\u001b[0m\n\u001b[1;32m      4\u001b[0m \u001b[0mprint\u001b[0m\u001b[0;34m(\u001b[0m\u001b[0;34m\"rank deficiency with constraints: \"\u001b[0m\u001b[0;34m+\u001b[0m \u001b[0mstr\u001b[0m\u001b[0;34m(\u001b[0m\u001b[0mdmat_est_loc\u001b[0m\u001b[0;34m.\u001b[0m\u001b[0mshape\u001b[0m\u001b[0;34m[\u001b[0m\u001b[0;36m1\u001b[0m\u001b[0;34m]\u001b[0m \u001b[0;34m-\u001b[0m \u001b[0mmatrix_rank\u001b[0m\u001b[0;34m(\u001b[0m\u001b[0mnp\u001b[0m\u001b[0;34m.\u001b[0m\u001b[0mvstack\u001b[0m\u001b[0;34m(\u001b[0m\u001b[0;34m[\u001b[0m\u001b[0mnp\u001b[0m\u001b[0;34m.\u001b[0m\u001b[0munique\u001b[0m\u001b[0;34m(\u001b[0m\u001b[0mdmat_est_loc\u001b[0m\u001b[0;34m,\u001b[0m \u001b[0maxis\u001b[0m\u001b[0;34m=\u001b[0m\u001b[0;36m0\u001b[0m\u001b[0;34m)\u001b[0m\u001b[0;34m,\u001b[0m \u001b[0mconstraints_loc\u001b[0m\u001b[0;34m]\u001b[0m\u001b[0;34m)\u001b[0m\u001b[0;34m)\u001b[0m\u001b[0;34m)\u001b[0m\u001b[0;34m)\u001b[0m\u001b[0;34m\u001b[0m\u001b[0m\n\u001b[0;32m----> 5\u001b[0;31m \u001b[0mnp\u001b[0m\u001b[0;34m.\u001b[0m\u001b[0mlinalg\u001b[0m\u001b[0;34m.\u001b[0m\u001b[0minv\u001b[0m\u001b[0;34m(\u001b[0m\u001b[0mnp\u001b[0m\u001b[0;34m.\u001b[0m\u001b[0mvstack\u001b[0m\u001b[0;34m(\u001b[0m\u001b[0;34m[\u001b[0m\u001b[0mnp\u001b[0m\u001b[0;34m.\u001b[0m\u001b[0munique\u001b[0m\u001b[0;34m(\u001b[0m\u001b[0mdmat_est_loc\u001b[0m\u001b[0;34m,\u001b[0m \u001b[0maxis\u001b[0m\u001b[0;34m=\u001b[0m\u001b[0;36m0\u001b[0m\u001b[0;34m)\u001b[0m\u001b[0;34m,\u001b[0m \u001b[0mconstraints_loc\u001b[0m\u001b[0;34m]\u001b[0m\u001b[0;34m)\u001b[0m\u001b[0;34m)\u001b[0m\u001b[0;34m\u001b[0m\u001b[0m\n\u001b[0m",
      "\u001b[0;32m~/miniconda3/lib/python3.6/site-packages/numpy/linalg/linalg.py\u001b[0m in \u001b[0;36minv\u001b[0;34m(a)\u001b[0m\n\u001b[1;32m    525\u001b[0m     \u001b[0ma\u001b[0m\u001b[0;34m,\u001b[0m \u001b[0mwrap\u001b[0m \u001b[0;34m=\u001b[0m \u001b[0m_makearray\u001b[0m\u001b[0;34m(\u001b[0m\u001b[0ma\u001b[0m\u001b[0;34m)\u001b[0m\u001b[0;34m\u001b[0m\u001b[0m\n\u001b[1;32m    526\u001b[0m     \u001b[0m_assertRankAtLeast2\u001b[0m\u001b[0;34m(\u001b[0m\u001b[0ma\u001b[0m\u001b[0;34m)\u001b[0m\u001b[0;34m\u001b[0m\u001b[0m\n\u001b[0;32m--> 527\u001b[0;31m     \u001b[0m_assertNdSquareness\u001b[0m\u001b[0;34m(\u001b[0m\u001b[0ma\u001b[0m\u001b[0;34m)\u001b[0m\u001b[0;34m\u001b[0m\u001b[0m\n\u001b[0m\u001b[1;32m    528\u001b[0m     \u001b[0mt\u001b[0m\u001b[0;34m,\u001b[0m \u001b[0mresult_t\u001b[0m \u001b[0;34m=\u001b[0m \u001b[0m_commonType\u001b[0m\u001b[0;34m(\u001b[0m\u001b[0ma\u001b[0m\u001b[0;34m)\u001b[0m\u001b[0;34m\u001b[0m\u001b[0m\n\u001b[1;32m    529\u001b[0m \u001b[0;34m\u001b[0m\u001b[0m\n",
      "\u001b[0;32m~/miniconda3/lib/python3.6/site-packages/numpy/linalg/linalg.py\u001b[0m in \u001b[0;36m_assertNdSquareness\u001b[0;34m(*arrays)\u001b[0m\n\u001b[1;32m    213\u001b[0m         \u001b[0mm\u001b[0m\u001b[0;34m,\u001b[0m \u001b[0mn\u001b[0m \u001b[0;34m=\u001b[0m \u001b[0ma\u001b[0m\u001b[0;34m.\u001b[0m\u001b[0mshape\u001b[0m\u001b[0;34m[\u001b[0m\u001b[0;34m-\u001b[0m\u001b[0;36m2\u001b[0m\u001b[0;34m:\u001b[0m\u001b[0;34m]\u001b[0m\u001b[0;34m\u001b[0m\u001b[0m\n\u001b[1;32m    214\u001b[0m         \u001b[0;32mif\u001b[0m \u001b[0mm\u001b[0m \u001b[0;34m!=\u001b[0m \u001b[0mn\u001b[0m\u001b[0;34m:\u001b[0m\u001b[0;34m\u001b[0m\u001b[0m\n\u001b[0;32m--> 215\u001b[0;31m             \u001b[0;32mraise\u001b[0m \u001b[0mLinAlgError\u001b[0m\u001b[0;34m(\u001b[0m\u001b[0;34m'Last 2 dimensions of the array must be square'\u001b[0m\u001b[0;34m)\u001b[0m\u001b[0;34m\u001b[0m\u001b[0m\n\u001b[0m\u001b[1;32m    216\u001b[0m \u001b[0;34m\u001b[0m\u001b[0m\n\u001b[1;32m    217\u001b[0m \u001b[0;32mdef\u001b[0m \u001b[0m_assertFinite\u001b[0m\u001b[0;34m(\u001b[0m\u001b[0;34m*\u001b[0m\u001b[0marrays\u001b[0m\u001b[0;34m)\u001b[0m\u001b[0;34m:\u001b[0m\u001b[0;34m\u001b[0m\u001b[0m\n",
      "\u001b[0;31mLinAlgError\u001b[0m: Last 2 dimensions of the array must be square"
     ]
    }
   ],
   "source": [
    "from numpy.linalg import matrix_rank\n",
    "print(np.vstack([np.unique(dmat_est_loc, axis=0), constraints_loc]))\n",
    "print(\"rank deficiency without constraints: \"+ str(dmat_est_loc.shape[1] - matrix_rank(np.vstack([np.unique(dmat_est_loc, axis=0)]))))\n",
    "print(\"rank deficiency with constraints: \"+ str(dmat_est_loc.shape[1] - matrix_rank(np.vstack([np.unique(dmat_est_loc, axis=0), constraints_loc]))))\n",
    "np.linalg.inv(np.vstack([np.unique(dmat_est_loc, axis=0), constraints_loc]))"
   ]
  },
  {
   "cell_type": "markdown",
   "metadata": {},
   "source": [
    "## Estimate the model"
   ]
  },
  {
   "cell_type": "code",
   "execution_count": 15,
   "metadata": {},
   "outputs": [],
   "source": [
    "input_data = None"
   ]
  },
  {
   "cell_type": "code",
   "execution_count": 16,
   "metadata": {},
   "outputs": [],
   "source": [
    "X = sim.X\n",
    "design_loc = dmat_est_loc\n",
    "design_scale = dmat_est_scale\n",
    "\n",
    "# input data\n",
    "input_data = glm.models.nb_glm.InputData.new(\n",
    "    data=X, \n",
    "    design_loc=design_loc,\n",
    "    design_scale=design_scale)\n",
    "input_data.constraints_loc = constraints_loc\n",
    "input_data.constraints_scale = constraints_scale"
   ]
  },
  {
   "cell_type": "code",
   "execution_count": 17,
   "metadata": {},
   "outputs": [],
   "source": [
    "input_data.constraints_loc = constraints_loc\n",
    "input_data.constraints_scale = constraints_scale"
   ]
  },
  {
   "cell_type": "markdown",
   "metadata": {},
   "source": [
    "### set up estimator:"
   ]
  },
  {
   "cell_type": "code",
   "execution_count": 18,
   "metadata": {},
   "outputs": [
    {
     "name": "stdout",
     "output_type": "stream",
     "text": [
      "Using closed-form MLE initialization for mean\n",
      "RMSE of closed-form mean:\n",
      "[]\n",
      "Should train mu: False\n",
      "Using closed-form MME initialization for dispersion\n",
      "RMSE of closed-form dispersion:\n",
      "[]\n",
      "Should train r: True\n"
     ]
    },
    {
     "name": "stderr",
     "output_type": "stream",
     "text": [
      "/Users/david.fischer/miniconda3/lib/python3.6/site-packages/tensorflow/python/ops/gradients_impl.py:108: UserWarning: Converting sparse IndexedSlices to a dense Tensor of unknown shape. This may consume a large amount of memory.\n",
      "  \"Converting sparse IndexedSlices to a dense Tensor of unknown shape. \"\n",
      "/Users/david.fischer/miniconda3/lib/python3.6/site-packages/tensorflow/python/ops/gradients_impl.py:108: UserWarning: Converting sparse IndexedSlices to a dense Tensor of unknown shape. This may consume a large amount of memory.\n",
      "  \"Converting sparse IndexedSlices to a dense Tensor of unknown shape. \"\n",
      "/Users/david.fischer/miniconda3/lib/python3.6/site-packages/tensorflow/python/ops/gradients_impl.py:108: UserWarning: Converting sparse IndexedSlices to a dense Tensor of unknown shape. This may consume a large amount of memory.\n",
      "  \"Converting sparse IndexedSlices to a dense Tensor of unknown shape. \"\n",
      "/Users/david.fischer/miniconda3/lib/python3.6/site-packages/tensorflow/python/ops/gradients_impl.py:108: UserWarning: Converting sparse IndexedSlices to a dense Tensor of unknown shape. This may consume a large amount of memory.\n",
      "  \"Converting sparse IndexedSlices to a dense Tensor of unknown shape. \"\n"
     ]
    },
    {
     "name": "stdout",
     "output_type": "stream",
     "text": [
      "Graph was finalized.\n",
      "Running local_init_op.\n",
      "Done running local_init_op.\n"
     ]
    }
   ],
   "source": [
    "estimator = glm.models.nb_glm.Estimator(input_data, quick_scale=False)\n",
    "estimator.initialize()"
   ]
  },
  {
   "cell_type": "markdown",
   "metadata": {},
   "source": [
    "### train"
   ]
  },
  {
   "cell_type": "markdown",
   "metadata": {},
   "source": [
    "Now start the training sequence and let the estimator choose automatically the best training strategy:"
   ]
  },
  {
   "cell_type": "code",
   "execution_count": 19,
   "metadata": {},
   "outputs": [
    {
     "name": "stdout",
     "output_type": "stream",
     "text": [
      "training strategy:\n",
      "[{'convergence_criteria': 't_test',\n",
      "  'learning_rate': 0.01,\n",
      "  'loss_window_size': 10,\n",
      "  'optim_algo': 'ADAM',\n",
      "  'stop_at_loss_change': 0.25,\n",
      "  'use_batching': False}]\n",
      "Beginning with training sequence #1\n",
      "Step: 1\tloss: 909.218686\n",
      "Step: 2\tloss: 909.113620\n",
      "Step: 3\tloss: 909.018105\n",
      "Step: 4\tloss: 908.931312\n",
      "Step: 5\tloss: 908.852508\n",
      "Step: 6\tloss: 908.781084\n",
      "Step: 7\tloss: 908.716429\n",
      "Step: 8\tloss: 908.657927\n",
      "Step: 9\tloss: 908.605016\n",
      "Step: 10\tloss: 908.557184\n",
      "Step: 11\tloss: 908.513951\n",
      "Step: 12\tloss: 908.474877\n",
      "Step: 13\tloss: 908.439576\n",
      "Step: 14\tloss: 908.407705\n",
      "Step: 15\tloss: 908.378943\n",
      "Step: 16\tloss: 908.352983\n",
      "Step: 17\tloss: 908.329553\n",
      "Step: 18\tloss: 908.308419\n",
      "Step: 19\tloss: 908.289373\n",
      "Step: 20\tloss: 908.272216\n",
      "pval: 0.000017\n",
      "Step: 21\tloss: 908.256747\n",
      "Step: 22\tloss: 908.242765\n",
      "Step: 23\tloss: 908.230074\n",
      "Step: 24\tloss: 908.218499\n",
      "Step: 25\tloss: 908.207886\n",
      "Step: 26\tloss: 908.198100\n",
      "Step: 27\tloss: 908.189024\n",
      "Step: 28\tloss: 908.180565\n",
      "Step: 29\tloss: 908.172652\n",
      "Step: 30\tloss: 908.165241\n",
      "pval: 0.000017\n",
      "Step: 31\tloss: 908.158304\n",
      "Step: 32\tloss: 908.151823\n",
      "Step: 33\tloss: 908.145782\n",
      "Step: 34\tloss: 908.140165\n",
      "Step: 35\tloss: 908.134959\n",
      "Step: 36\tloss: 908.130148\n",
      "Step: 37\tloss: 908.125715\n",
      "Step: 38\tloss: 908.121643\n",
      "Step: 39\tloss: 908.117907\n",
      "Step: 40\tloss: 908.114482\n",
      "pval: 0.000004\n",
      "Step: 41\tloss: 908.111337\n",
      "Step: 42\tloss: 908.108446\n",
      "Step: 43\tloss: 908.105779\n",
      "Step: 44\tloss: 908.103316\n",
      "Step: 45\tloss: 908.101034\n",
      "Step: 46\tloss: 908.098919\n",
      "Step: 47\tloss: 908.096954\n",
      "Step: 48\tloss: 908.095129\n",
      "Step: 49\tloss: 908.093430\n",
      "Step: 50\tloss: 908.091849\n",
      "pval: 0.000007\n",
      "Step: 51\tloss: 908.090374\n",
      "Step: 52\tloss: 908.088998\n",
      "Step: 53\tloss: 908.087714\n",
      "Step: 54\tloss: 908.086518\n",
      "Step: 55\tloss: 908.085404\n",
      "Step: 56\tloss: 908.084369\n",
      "Step: 57\tloss: 908.083411\n",
      "Step: 58\tloss: 908.082526\n",
      "Step: 59\tloss: 908.081710\n",
      "Step: 60\tloss: 908.080960\n",
      "pval: 0.000004\n",
      "Step: 61\tloss: 908.080270\n",
      "Step: 62\tloss: 908.079638\n",
      "Step: 63\tloss: 908.079060\n",
      "Step: 64\tloss: 908.078533\n",
      "Step: 65\tloss: 908.078055\n",
      "Step: 66\tloss: 908.077623\n",
      "Step: 67\tloss: 908.077237\n",
      "Step: 68\tloss: 908.076892\n",
      "Step: 69\tloss: 908.076587\n",
      "Step: 70\tloss: 908.076319\n",
      "pval: 0.000007\n",
      "Step: 71\tloss: 908.076083\n",
      "Step: 72\tloss: 908.075876\n",
      "Step: 73\tloss: 908.075695\n",
      "Step: 74\tloss: 908.075537\n",
      "Step: 75\tloss: 908.075399\n",
      "Step: 76\tloss: 908.075278\n",
      "Step: 77\tloss: 908.075173\n",
      "Step: 78\tloss: 908.075082\n",
      "Step: 79\tloss: 908.075002\n",
      "Step: 80\tloss: 908.074934\n",
      "pval: 0.000037\n",
      "Step: 81\tloss: 908.074875\n",
      "Step: 82\tloss: 908.074825\n",
      "Step: 83\tloss: 908.074783\n",
      "Step: 84\tloss: 908.074747\n",
      "Step: 85\tloss: 908.074717\n",
      "Step: 86\tloss: 908.074692\n",
      "Step: 87\tloss: 908.074670\n",
      "Step: 88\tloss: 908.074653\n",
      "Step: 89\tloss: 908.074638\n",
      "Step: 90\tloss: 908.074625\n",
      "pval: 0.000096\n",
      "Step: 91\tloss: 908.074614\n",
      "Step: 92\tloss: 908.074604\n",
      "Step: 93\tloss: 908.074596\n",
      "Step: 94\tloss: 908.074589\n",
      "Step: 95\tloss: 908.074583\n",
      "Step: 96\tloss: 908.074578\n",
      "Step: 97\tloss: 908.074573\n",
      "Step: 98\tloss: 908.074569\n",
      "Step: 99\tloss: 908.074566\n",
      "Step: 100\tloss: 908.074563\n",
      "pval: 0.000166\n",
      "Step: 101\tloss: 908.074561\n",
      "Step: 102\tloss: 908.074559\n",
      "Step: 103\tloss: 908.074558\n",
      "Step: 104\tloss: 908.074556\n",
      "Step: 105\tloss: 908.074556\n",
      "Step: 106\tloss: 908.074555\n",
      "Step: 107\tloss: 908.074554\n",
      "Step: 108\tloss: 908.074554\n",
      "Step: 109\tloss: 908.074553\n",
      "Step: 110\tloss: 908.074553\n",
      "pval: 0.000184\n",
      "Step: 111\tloss: 908.074552\n",
      "Step: 112\tloss: 908.074552\n",
      "Step: 113\tloss: 908.074551\n",
      "Step: 114\tloss: 908.074550\n",
      "Step: 115\tloss: 908.074550\n",
      "Step: 116\tloss: 908.074549\n",
      "Step: 117\tloss: 908.074548\n",
      "Step: 118\tloss: 908.074548\n",
      "Step: 119\tloss: 908.074547\n",
      "Step: 120\tloss: 908.074546\n",
      "pval: 0.000004\n",
      "Step: 121\tloss: 908.074545\n",
      "Step: 122\tloss: 908.074545\n",
      "Step: 123\tloss: 908.074544\n",
      "Step: 124\tloss: 908.074543\n",
      "Step: 125\tloss: 908.074542\n",
      "Step: 126\tloss: 908.074542\n",
      "Step: 127\tloss: 908.074541\n",
      "Step: 128\tloss: 908.074540\n",
      "Step: 129\tloss: 908.074540\n",
      "Step: 130\tloss: 908.074539\n",
      "pval: 0.000000\n",
      "Step: 131\tloss: 908.074539\n",
      "Step: 132\tloss: 908.074538\n",
      "Step: 133\tloss: 908.074538\n",
      "Step: 134\tloss: 908.074538\n",
      "Step: 135\tloss: 908.074537\n",
      "Step: 136\tloss: 908.074537\n",
      "Step: 137\tloss: 908.074537\n",
      "Step: 138\tloss: 908.074537\n",
      "Step: 139\tloss: 908.074536\n",
      "Step: 140\tloss: 908.074536\n",
      "pval: 0.000007\n",
      "Step: 141\tloss: 908.074536\n",
      "Step: 142\tloss: 908.074536\n",
      "Step: 143\tloss: 908.074536\n",
      "Step: 144\tloss: 908.074536\n",
      "Step: 145\tloss: 908.074536\n",
      "Step: 146\tloss: 908.074536\n",
      "Step: 147\tloss: 908.074536\n",
      "Step: 148\tloss: 908.074536\n",
      "Step: 149\tloss: 908.074536\n",
      "Step: 150\tloss: 908.074536\n",
      "pval: 0.000189\n",
      "Step: 151\tloss: 908.074536\n",
      "Step: 152\tloss: 908.074536\n",
      "Step: 153\tloss: 908.074536\n",
      "Step: 154\tloss: 908.074536\n",
      "Step: 155\tloss: 908.074536\n",
      "Step: 156\tloss: 908.074536\n",
      "Step: 157\tloss: 908.074536\n",
      "Step: 158\tloss: 908.074536\n",
      "Step: 159\tloss: 908.074536\n",
      "Step: 160\tloss: 908.074536\n",
      "pval: 0.000255\n",
      "Step: 161\tloss: 908.074536\n",
      "Step: 162\tloss: 908.074536\n",
      "Step: 163\tloss: 908.074536\n",
      "Step: 164\tloss: 908.074536\n",
      "Step: 165\tloss: 908.074536\n",
      "Step: 166\tloss: 908.074536\n",
      "Step: 167\tloss: 908.074536\n",
      "Step: 168\tloss: 908.074536\n",
      "Step: 169\tloss: 908.074536\n",
      "Step: 170\tloss: 908.074536\n",
      "pval: 0.000001\n",
      "Step: 171\tloss: 908.074536\n",
      "Step: 172\tloss: 908.074536\n",
      "Step: 173\tloss: 908.074536\n",
      "Step: 174\tloss: 908.074536\n",
      "Step: 175\tloss: 908.074536\n",
      "Step: 176\tloss: 908.074536\n",
      "Step: 177\tloss: 908.074536\n",
      "Step: 178\tloss: 908.074536\n",
      "Step: 179\tloss: 908.074536\n",
      "Step: 180\tloss: 908.074536\n",
      "pval: 0.000003\n",
      "Step: 181\tloss: 908.074536\n",
      "Step: 182\tloss: 908.074536\n",
      "Step: 183\tloss: 908.074536\n",
      "Step: 184\tloss: 908.074536\n",
      "Step: 185\tloss: 908.074536\n",
      "Step: 186\tloss: 908.074536\n",
      "Step: 187\tloss: 908.074536\n",
      "Step: 188\tloss: 908.074536\n",
      "Step: 189\tloss: 908.074536\n",
      "Step: 190\tloss: 908.074536\n",
      "pval: 0.000017\n",
      "Step: 191\tloss: 908.074536\n",
      "Step: 192\tloss: 908.074536\n",
      "Step: 193\tloss: 908.074536\n",
      "Step: 194\tloss: 908.074536\n",
      "Step: 195\tloss: 908.074536\n",
      "Step: 196\tloss: 908.074536\n",
      "Step: 197\tloss: 908.074536\n",
      "Step: 198\tloss: 908.074536\n",
      "Step: 199\tloss: 908.074536\n",
      "Step: 200\tloss: 908.074536\n",
      "pval: 0.000117\n",
      "Step: 201\tloss: 908.074536\n",
      "Step: 202\tloss: 908.074536\n",
      "Step: 203\tloss: 908.074536\n",
      "Step: 204\tloss: 908.074536\n",
      "Step: 205\tloss: 908.074536\n",
      "Step: 206\tloss: 908.074536\n",
      "Step: 207\tloss: 908.074536\n",
      "Step: 208\tloss: 908.074536\n",
      "Step: 209\tloss: 908.074536\n",
      "Step: 210\tloss: 908.074536\n",
      "pval: 0.000071\n",
      "Step: 211\tloss: 908.074536\n",
      "Step: 212\tloss: 908.074536\n",
      "Step: 213\tloss: 908.074536\n",
      "Step: 214\tloss: 908.074536\n",
      "Step: 215\tloss: 908.074536\n",
      "Step: 216\tloss: 908.074536\n",
      "Step: 217\tloss: 908.074536\n",
      "Step: 218\tloss: 908.074536\n",
      "Step: 219\tloss: 908.074536\n",
      "Step: 220\tloss: 908.074536\n",
      "pval: 0.000001\n",
      "Step: 221\tloss: 908.074536\n",
      "Step: 222\tloss: 908.074536\n",
      "Step: 223\tloss: 908.074536\n",
      "Step: 224\tloss: 908.074536\n",
      "Step: 225\tloss: 908.074536\n",
      "Step: 226\tloss: 908.074536\n",
      "Step: 227\tloss: 908.074536\n",
      "Step: 228\tloss: 908.074536\n",
      "Step: 229\tloss: 908.074536\n",
      "Step: 230\tloss: 908.074536\n",
      "pval: 0.000007\n",
      "Step: 231\tloss: 908.074536\n",
      "Step: 232\tloss: 908.074536\n",
      "Step: 233\tloss: 908.074536\n",
      "Step: 234\tloss: 908.074536\n",
      "Step: 235\tloss: 908.074536\n",
      "Step: 236\tloss: 908.074536\n",
      "Step: 237\tloss: 908.074536\n",
      "Step: 238\tloss: 908.074536\n",
      "Step: 239\tloss: 908.074536\n",
      "Step: 240\tloss: 908.074536\n",
      "pval: 0.000139\n",
      "Step: 241\tloss: 908.074536\n",
      "Step: 242\tloss: 908.074536\n",
      "Step: 243\tloss: 908.074536\n",
      "Step: 244\tloss: 908.074536\n",
      "Step: 245\tloss: 908.074536\n",
      "Step: 246\tloss: 908.074536\n",
      "Step: 247\tloss: 908.074536\n",
      "Step: 248\tloss: 908.074536\n",
      "Step: 249\tloss: 908.074536\n",
      "Step: 250\tloss: 908.074536\n",
      "pval: 0.007190\n",
      "Step: 251\tloss: 908.074536\n",
      "Step: 252\tloss: 908.074536\n",
      "Step: 253\tloss: 908.074536\n",
      "Step: 254\tloss: 908.074536\n",
      "Step: 255\tloss: 908.074536\n",
      "Step: 256\tloss: 908.074536\n",
      "Step: 257\tloss: 908.074536\n",
      "Step: 258\tloss: 908.074536\n",
      "Step: 259\tloss: 908.074536\n",
      "Step: 260\tloss: 908.074536\n",
      "pval: 0.043632\n",
      "Step: 261\tloss: 908.074536\n",
      "Step: 262\tloss: 908.074536\n",
      "Step: 263\tloss: 908.074536\n",
      "Step: 264\tloss: 908.074536\n",
      "Step: 265\tloss: 908.074536\n",
      "Step: 266\tloss: 908.074536\n",
      "Step: 267\tloss: 908.074536\n",
      "Step: 268\tloss: 908.074536\n",
      "Step: 269\tloss: 908.074536\n",
      "Step: 270\tloss: 908.074536\n",
      "pval: 0.974229\n",
      "Training sequence #1 complete\n"
     ]
    }
   ],
   "source": [
    "estimator.train_sequence('AUTO')"
   ]
  },
  {
   "cell_type": "markdown",
   "metadata": {},
   "source": [
    "## Obtaining the results\n",
    "\n",
    "The fitted parameters can be retrieved by calling the corresponding parameters of `estimator`:"
   ]
  },
  {
   "cell_type": "code",
   "execution_count": 20,
   "metadata": {},
   "outputs": [
    {
     "data": {
      "text/plain": [
       "<xarray.DataArray (design_loc_params: 6, features: 100)>\n",
       "array([[ 9.500858e+00,  8.694280e+00,  7.002476e+00, ...,  8.857478e+00,\n",
       "         8.201733e+00,  7.587812e+00],\n",
       "       [-2.170482e-02, -7.155830e-03, -2.760999e-02, ..., -2.847717e-02,\n",
       "         2.061314e-02, -2.449700e-02],\n",
       "       [-4.340965e-02, -1.431166e-02, -5.521997e-02, ..., -5.695434e-02,\n",
       "         4.122628e-02, -4.899400e-02],\n",
       "       [ 4.298312e-02,  1.208923e-02, -1.295364e-03, ...,  8.687255e-03,\n",
       "         6.952673e-03,  2.610220e-02],\n",
       "       [-2.127830e-02, -4.933397e-03,  2.890535e-02, ...,  1.978991e-02,\n",
       "        -2.756581e-02, -1.605199e-03],\n",
       "       [-2.139402e-01, -1.742721e-01,  2.632533e-02, ...,  8.565863e-02,\n",
       "         9.926631e-02,  3.642646e-03]])\n",
       "Coordinates:\n",
       "  * design_loc_params  (design_loc_params) <U9 'intercept' 'bio1' 'bio2' ...\n",
       "    feature_allzero    (features) bool False False False False False False ...\n",
       "  * features           (features) int64 0 1 2 3 4 5 6 7 8 9 10 11 12 13 14 ..."
      ]
     },
     "execution_count": 20,
     "metadata": {},
     "output_type": "execute_result"
    }
   ],
   "source": [
    "estimator.par_link_loc"
   ]
  },
  {
   "cell_type": "code",
   "execution_count": 21,
   "metadata": {
    "scrolled": true
   },
   "outputs": [
    {
     "data": {
      "text/plain": [
       "<xarray.DataArray (design_scale_params: 6, features: 100)>\n",
       "array([[ 1.217465,  1.538154,  1.772653, ...,  0.796824,  2.115584,  1.116638],\n",
       "       [ 0.108818,  0.046557, -0.044049, ...,  0.005485, -0.040011,  0.061176],\n",
       "       [ 0.217637,  0.093114, -0.088099, ...,  0.01097 , -0.080022,  0.122352],\n",
       "       [ 0.038498,  0.025622,  0.01294 , ..., -0.147301, -0.101545,  0.018101],\n",
       "       [-0.147316, -0.072179,  0.031109, ...,  0.141816,  0.141556, -0.079277],\n",
       "       [ 0.352197,  0.281237,  0.383562, ...,  0.057901, -0.443884,  0.263469]])\n",
       "Coordinates:\n",
       "  * design_scale_params  (design_scale_params) <U9 'intercept' 'bio1' 'bio2' ...\n",
       "    feature_allzero      (features) bool False False False False False False ...\n",
       "  * features             (features) int64 0 1 2 3 4 5 6 7 8 9 10 11 12 13 14 ..."
      ]
     },
     "execution_count": 21,
     "metadata": {},
     "output_type": "execute_result"
    }
   ],
   "source": [
    "estimator.par_link_scale"
   ]
  },
  {
   "cell_type": "markdown",
   "metadata": {},
   "source": [
    "### Check that constraints were met"
   ]
  },
  {
   "cell_type": "markdown",
   "metadata": {},
   "source": [
    "These parameter sets should sum to zero for each gene."
   ]
  },
  {
   "cell_type": "code",
   "execution_count": 22,
   "metadata": {
    "scrolled": true
   },
   "outputs": [
    {
     "data": {
      "text/plain": [
       "<xarray.DataArray (features: 100)>\n",
       "array([-0.04341 , -0.014312, -0.05522 ,  0.015561,  0.033623, -0.046711,\n",
       "        0.107139,  0.02646 ,  0.048112,  0.011796, -0.073012,  0.001583,\n",
       "       -0.080625, -0.022484,  0.009809, -0.090137, -0.036012,  0.046344,\n",
       "       -0.031822, -0.017174,  0.065789,  0.099932,  0.030154, -0.068511,\n",
       "        0.055571,  0.056106,  0.008257, -0.022975,  0.001068,  0.069764,\n",
       "        0.013374, -0.102713,  0.015313, -0.059028, -0.014516,  0.001358,\n",
       "       -0.013114,  0.001527,  0.069074, -0.050366,  0.020922, -0.026936,\n",
       "        0.024557,  0.023731, -0.03017 ,  0.007878, -0.031901,  0.046674,\n",
       "       -0.019948,  0.049765, -0.03643 ,  0.034322,  0.034613,  0.007805,\n",
       "        0.06723 , -0.080218,  0.0105  , -0.241046, -0.007088, -0.022811,\n",
       "        0.046027,  0.086787,  0.056503, -0.08825 , -0.117307, -0.045259,\n",
       "       -0.047805, -0.389447,  0.00591 , -0.007536, -0.039915,  0.048071,\n",
       "       -0.165247, -0.032978, -0.158107, -0.052858, -0.015417,  0.018587,\n",
       "       -0.013339,  0.006239,  0.023787, -0.128168, -0.013208,  0.036593,\n",
       "       -0.001205,  0.014938,  0.150556, -0.009983,  0.035463, -0.013177,\n",
       "        0.034028, -0.137261, -0.02134 , -0.009131, -0.038429,  0.013459,\n",
       "        0.019111, -0.056954,  0.041226, -0.048994])\n",
       "Coordinates:\n",
       "    feature_allzero  (features) bool False False False False False False ...\n",
       "  * features         (features) int64 0 1 2 3 4 5 6 7 8 9 10 11 12 13 14 15 ..."
      ]
     },
     "execution_count": 22,
     "metadata": {},
     "output_type": "execute_result"
    }
   ],
   "source": [
    "np.sum(estimator.par_link_loc[1:5,:], axis=0)"
   ]
  },
  {
   "cell_type": "code",
   "execution_count": 23,
   "metadata": {},
   "outputs": [
    {
     "data": {
      "text/plain": [
       "<xarray.DataArray ()>\n",
       "array(0.150556)\n",
       "Coordinates:\n",
       "    design_loc_params  <U9 'bio1'"
      ]
     },
     "execution_count": 23,
     "metadata": {},
     "output_type": "execute_result"
    }
   ],
   "source": [
    "np.max(estimator.par_link_loc[1,:]+np.sum(estimator.par_link_loc[2:5,:], axis=0))"
   ]
  },
  {
   "cell_type": "code",
   "execution_count": 24,
   "metadata": {
    "scrolled": true
   },
   "outputs": [
    {
     "data": {
      "text/plain": [
       "<xarray.DataArray ()>\n",
       "array(0.150556)"
      ]
     },
     "execution_count": 24,
     "metadata": {},
     "output_type": "execute_result"
    }
   ],
   "source": [
    "np.max(np.sum(estimator.par_link_loc[1:3,:], axis=0)+np.sum(estimator.par_link_loc[3:5,:], axis=0))"
   ]
  },
  {
   "cell_type": "markdown",
   "metadata": {},
   "source": [
    "## Comparing the results with the simulated data:"
   ]
  },
  {
   "cell_type": "markdown",
   "metadata": {},
   "source": [
    "Individual coefficients:"
   ]
  },
  {
   "cell_type": "code",
   "execution_count": 25,
   "metadata": {
    "scrolled": true
   },
   "outputs": [
    {
     "data": {
      "text/plain": [
       "<xarray.DataArray (design_loc_params: 6, features: 3)>\n",
       "array([[ 9.500858e+00,  8.694280e+00,  7.002476e+00],\n",
       "       [-2.170482e-02, -7.155830e-03, -2.760999e-02],\n",
       "       [-4.340965e-02, -1.431166e-02, -5.521997e-02],\n",
       "       [ 4.298312e-02,  1.208923e-02, -1.295364e-03],\n",
       "       [-2.127830e-02, -4.933397e-03,  2.890535e-02],\n",
       "       [-2.139402e-01, -1.742721e-01,  2.632533e-02]])\n",
       "Coordinates:\n",
       "  * design_loc_params  (design_loc_params) <U9 'intercept' 'bio1' 'bio2' ...\n",
       "    feature_allzero    (features) bool False False False\n",
       "  * features           (features) int64 0 1 2"
      ]
     },
     "execution_count": 25,
     "metadata": {},
     "output_type": "execute_result"
    }
   ],
   "source": [
    "estimator.par_link_loc[:,:3]"
   ]
  },
  {
   "cell_type": "code",
   "execution_count": 26,
   "metadata": {
    "scrolled": false
   },
   "outputs": [
    {
     "data": {
      "text/plain": [
       "<xarray.DataArray 'a' (design_loc_params: 5, features: 3)>\n",
       "array([[ 9.196003,  8.491143,  6.852566],\n",
       "       [-0.218738, -0.176635,  0.014699],\n",
       "       [ 0.199504, -0.114468,  0.236152],\n",
       "       [ 0.316353,  0.216054,  0.301306],\n",
       "       [ 0.656937,  0.596573,  0.131235]])\n",
       "Coordinates:\n",
       "  * design_loc_params  (design_loc_params) <U14 'Intercept' 'batch[T.1]' ...\n",
       "Dimensions without coordinates: features"
      ]
     },
     "execution_count": 26,
     "metadata": {},
     "output_type": "execute_result"
    }
   ],
   "source": [
    "sim.par_link_loc[:,:3]"
   ]
  },
  {
   "cell_type": "code",
   "execution_count": 39,
   "metadata": {
    "scrolled": true
   },
   "outputs": [
    {
     "data": {
      "text/plain": [
       "array([[9.47915345, 8.68712424, 6.97486621, 7.63937715, 9.33286889],\n",
       "       [9.47915345, 8.68712424, 6.97486621, 7.63937715, 9.33286889],\n",
       "       [9.47915345, 8.68712424, 6.97486621, 7.63937715, 9.33286889],\n",
       "       [9.47915345, 8.68712424, 6.97486621, 7.63937715, 9.33286889],\n",
       "       [9.47915345, 8.68712424, 6.97486621, 7.63937715, 9.33286889],\n",
       "       [9.47915345, 8.68712424, 6.97486621, 7.63937715, 9.33286889],\n",
       "       [9.47915345, 8.68712424, 6.97486621, 7.63937715, 9.33286889],\n",
       "       [9.47915345, 8.68712424, 6.97486621, 7.63937715, 9.33286889],\n",
       "       [9.47915345, 8.68712424, 6.97486621, 7.63937715, 9.33286889],\n",
       "       [9.47915345, 8.68712424, 6.97486621, 7.63937715, 9.33286889]])"
      ]
     },
     "execution_count": 39,
     "metadata": {},
     "output_type": "execute_result"
    }
   ],
   "source": [
    "np.matmul(estimator.design_loc, estimator.par_link_loc)[:10,:5]"
   ]
  },
  {
   "cell_type": "code",
   "execution_count": 41,
   "metadata": {},
   "outputs": [
    {
     "data": {
      "text/plain": [
       "array([[9.19600273, 8.49114266, 6.8525657 , 7.55697204, 9.11584935],\n",
       "       [9.39550692, 8.3766743 , 7.08871818, 7.19990695, 9.15972565],\n",
       "       [9.51235529, 8.70719642, 7.15387178, 8.13880293, 8.9451711 ],\n",
       "       [9.85293933, 9.08771593, 6.98380081, 7.3532452 , 9.73717642],\n",
       "       [9.19600273, 8.49114266, 6.8525657 , 7.55697204, 9.11584935],\n",
       "       [9.39550692, 8.3766743 , 7.08871818, 7.19990695, 9.15972565],\n",
       "       [9.51235529, 8.70719642, 7.15387178, 8.13880293, 8.9451711 ],\n",
       "       [9.85293933, 9.08771593, 6.98380081, 7.3532452 , 9.73717642],\n",
       "       [9.19600273, 8.49114266, 6.8525657 , 7.55697204, 9.11584935],\n",
       "       [9.39550692, 8.3766743 , 7.08871818, 7.19990695, 9.15972565]])"
      ]
     },
     "execution_count": 41,
     "metadata": {},
     "output_type": "execute_result"
    }
   ],
   "source": [
    "np.matmul(sim.design_loc, sim.par_link_loc)[:10,:5]"
   ]
  },
  {
   "cell_type": "code",
   "execution_count": 29,
   "metadata": {},
   "outputs": [
    {
     "data": {
      "text/plain": [
       "array([[ 0.28315071,  0.19598158,  0.12230051,  0.08240511,  0.21701953],\n",
       "       [ 0.08364652,  0.31044994, -0.11385197,  0.43947019,  0.17314324],\n",
       "       [-0.03320185, -0.02007218, -0.17900557, -0.49942578,  0.38769779]])"
      ]
     },
     "execution_count": 29,
     "metadata": {},
     "output_type": "execute_result"
    }
   ],
   "source": [
    "(np.matmul(estimator.design_loc, estimator.par_link_loc) - np.matmul(sim.design_loc, sim.par_link_loc))[:3,:5]"
   ]
  },
  {
   "cell_type": "markdown",
   "metadata": {},
   "source": [
    "Linear model output:"
   ]
  },
  {
   "cell_type": "code",
   "execution_count": 30,
   "metadata": {},
   "outputs": [
    {
     "name": "stdout",
     "output_type": "stream",
     "text": [
      "Root mean squared deviation of location: 0.30\n",
      "Root mean squared deviation of scale:    0.60\n"
     ]
    }
   ],
   "source": [
    "locdiff = glm.utils.stats.rmsd(np.matmul(estimator.design_loc, estimator.par_link_loc), \n",
    "                               np.matmul(sim.design_loc, sim.par_link_loc))\n",
    "print(\"Root mean squared deviation of location: %.2f\" % locdiff)\n",
    "\n",
    "scalediff = glm.utils.stats.rmsd(np.matmul(estimator.design_scale, estimator.par_link_scale), \n",
    "                                 np.matmul(sim.design_scale, sim.par_link_scale))\n",
    "print(\"Root mean squared deviation of scale:    %.2f\" % scalediff)"
   ]
  }
 ],
 "metadata": {
  "kernelspec": {
   "display_name": "Python 3",
   "language": "python",
   "name": "python3"
  },
  "language_info": {
   "codemirror_mode": {
    "name": "ipython",
    "version": 3
   },
   "file_extension": ".py",
   "mimetype": "text/x-python",
   "name": "python",
   "nbconvert_exporter": "python",
   "pygments_lexer": "ipython3",
   "version": "3.6.5"
  }
 },
 "nbformat": 4,
 "nbformat_minor": 2
}
