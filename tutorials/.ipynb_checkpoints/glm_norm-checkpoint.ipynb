{
 "cells": [
  {
   "cell_type": "markdown",
   "metadata": {
    "collapsed": true
   },
   "source": [
    "# Tests for Normaldistribution (glm_norm)"
   ]
  },
  {
   "cell_type": "markdown",
   "metadata": {},
   "source": [
    "## Import batchglm"
   ]
  },
  {
   "cell_type": "code",
   "execution_count": 1,
   "metadata": {},
   "outputs": [],
   "source": [
    "import batchglm.api as glm"
   ]
  },
  {
   "cell_type": "markdown",
   "metadata": {},
   "source": [
    "## Sample from Normal Distribution"
   ]
  },
  {
   "cell_type": "code",
   "execution_count": 2,
   "metadata": {},
   "outputs": [],
   "source": [
    "norm = glm.utils.random.Normal(500, 0.7)"
   ]
  },
  {
   "cell_type": "code",
   "execution_count": 3,
   "metadata": {},
   "outputs": [
    {
     "data": {
      "text/plain": [
       "array([501.16990104, 501.87933173, 501.12399924, 499.10792245,\n",
       "       501.96891545, 499.93059519, 499.90800135, 499.74033333,\n",
       "       501.59740348, 499.52794853])"
      ]
     },
     "execution_count": 3,
     "metadata": {},
     "output_type": "execute_result"
    }
   ],
   "source": [
    "norm.sample(10)"
   ]
  },
  {
   "cell_type": "markdown",
   "metadata": {},
   "source": [
    "## Simulate some Data"
   ]
  },
  {
   "cell_type": "code",
   "execution_count": 4,
   "metadata": {},
   "outputs": [],
   "source": [
    "sim = glm.models.glm_norm.Simulator()"
   ]
  },
  {
   "cell_type": "code",
   "execution_count": 5,
   "metadata": {},
   "outputs": [],
   "source": [
    "sim.generate()"
   ]
  },
  {
   "cell_type": "code",
   "execution_count": 6,
   "metadata": {},
   "outputs": [
    {
     "data": {
      "text/plain": [
       "<xarray.DataArray 'X' (observations: 1000, features: 100)>\n",
       "array([[534.885898, 517.714316, 533.724384, ..., 465.544998, 466.079193,\n",
       "        492.459785],\n",
       "       [536.296469, 519.227485, 532.496771, ..., 465.486631, 465.547815,\n",
       "        493.957113],\n",
       "       [533.287987, 517.277459, 532.565823, ..., 466.903683, 467.14708 ,\n",
       "        492.84162 ],\n",
       "       ...,\n",
       "       [537.464229, 519.045625, 533.429528, ..., 468.636974, 466.938627,\n",
       "        495.498174],\n",
       "       [534.152704, 519.841488, 533.583878, ..., 465.04549 , 467.282679,\n",
       "        495.247824],\n",
       "       [535.124783, 521.802541, 535.246801, ..., 467.165793, 467.262551,\n",
       "        495.66941 ]])\n",
       "Dimensions without coordinates: observations, features"
      ]
     },
     "execution_count": 6,
     "metadata": {},
     "output_type": "execute_result"
    }
   ],
   "source": [
    "sim.X"
   ]
  },
  {
   "cell_type": "code",
   "execution_count": 7,
   "metadata": {},
   "outputs": [
    {
     "data": {
      "text/plain": [
       "<xarray.DataArray (observations: 1000, features: 100)>\n",
       "array([[ 8.858984e-01, -2.856839e-01,  1.724384e+00, ..., -4.550021e-01,\n",
       "         1.079193e+00, -5.402148e-01],\n",
       "       [ 1.325814e+00,  2.045396e-01, -5.986113e-01, ..., -1.515724e+00,\n",
       "        -3.884208e-01,  5.672521e-04],\n",
       "       [-7.120132e-01, -7.225412e-01,  5.658230e-01, ...,  9.036826e-01,\n",
       "         2.147080e+00, -1.583799e-01],\n",
       "       ...,\n",
       "       [ 1.400040e+00, -9.385553e-01, -7.632287e-01, ...,  7.074755e-01,\n",
       "        -9.360747e-02,  4.512945e-01],\n",
       "       [-9.408313e-01,  8.802526e-01,  4.865039e-01, ..., -1.881653e+00,\n",
       "         1.186679e+00,  1.157491e+00],\n",
       "       [-9.394063e-01,  1.818361e+00,  1.054044e+00, ..., -7.637051e-01,\n",
       "         2.303157e-01,  6.225305e-01]])\n",
       "Dimensions without coordinates: observations, features"
      ]
     },
     "execution_count": 7,
     "metadata": {},
     "output_type": "execute_result"
    }
   ],
   "source": [
    "sim.X - sim.mean"
   ]
  },
  {
   "cell_type": "code",
   "execution_count": 9,
   "metadata": {},
   "outputs": [
    {
     "data": {
      "text/plain": [
       "<xarray.DataArray (design_loc_params: 5, features: 100)>\n",
       "array([[534.      , 518.      , 532.      , ..., 466.      , 465.      ,\n",
       "        493.      ],\n",
       "       [  0.970654,   1.022945,   1.095383, ...,   1.002355,   0.936235,\n",
       "          0.956546],\n",
       "       [  0.997545,   0.949605,   1.066627, ...,   0.94779 ,   1.013263,\n",
       "          1.077953],\n",
       "       [  0.949114,   1.004306,   0.928083, ...,   1.014683,   0.931005,\n",
       "          0.964396],\n",
       "       [  1.093535,   0.961235,   1.097374, ...,   0.927143,   1.096   ,\n",
       "          1.090333]])\n",
       "Coordinates:\n",
       "  * design_loc_params  (design_loc_params) object 'Intercept' ... 'batch[T.3]'\n",
       "Dimensions without coordinates: features"
      ]
     },
     "execution_count": 9,
     "metadata": {},
     "output_type": "execute_result"
    }
   ],
   "source": [
    "sim.par_link_loc"
   ]
  },
  {
   "cell_type": "code",
   "execution_count": 10,
   "metadata": {},
   "outputs": [
    {
     "data": {
      "text/plain": [
       "<xarray.DataArray (design_scale_params: 5, features: 100)>\n",
       "array([[ 0.060102, -0.095473, -0.050693, ...,  0.024583,  0.066026, -0.041802],\n",
       "       [ 0.026694,  0.078939, -0.048199, ...,  0.087494, -0.059635,  0.081853],\n",
       "       [ 0.007741,  0.078092, -0.05149 , ...,  0.087376,  0.005888, -0.088101],\n",
       "       [ 0.013655,  0.001156, -0.008845, ...,  0.090815,  0.038706, -0.022527],\n",
       "       [-0.09768 ,  0.040431,  0.017566, ..., -0.017789,  0.076505,  0.05674 ]])\n",
       "Coordinates:\n",
       "  * design_scale_params  (design_scale_params) object 'Intercept' ... 'batch[T.3]'\n",
       "Dimensions without coordinates: features"
      ]
     },
     "execution_count": 10,
     "metadata": {},
     "output_type": "execute_result"
    }
   ],
   "source": [
    "sim.par_link_scale"
   ]
  },
  {
   "cell_type": "markdown",
   "metadata": {},
   "source": [
    "## Set up Estimator"
   ]
  },
  {
   "cell_type": "code",
   "execution_count": 12,
   "metadata": {},
   "outputs": [],
   "source": [
    "X = sim.X\n",
    "design_loc = sim.design_loc\n",
    "design_scale = sim.design_scale\n",
    "\n",
    "# input data\n",
    "input_data = glm.models.glm_norm.InputData.new(data=X, design_loc=design_loc, design_scale=design_scale)"
   ]
  },
  {
   "cell_type": "code",
   "execution_count": 14,
   "metadata": {},
   "outputs": [
    {
     "ename": "ValueError",
     "evalue": "noise model norm was not recognized",
     "output_type": "error",
     "traceback": [
      "\u001b[0;31m---------------------------------------------------------------------------\u001b[0m",
      "\u001b[0;31mValueError\u001b[0m                                Traceback (most recent call last)",
      "\u001b[0;32m<ipython-input-14-f3b5f12a8e84>\u001b[0m in \u001b[0;36m<module>\u001b[0;34m\u001b[0m\n\u001b[0;32m----> 1\u001b[0;31m \u001b[0mestimator\u001b[0m \u001b[0;34m=\u001b[0m \u001b[0mglm\u001b[0m\u001b[0;34m.\u001b[0m\u001b[0mmodels\u001b[0m\u001b[0;34m.\u001b[0m\u001b[0mglm_norm\u001b[0m\u001b[0;34m.\u001b[0m\u001b[0mEstimator\u001b[0m\u001b[0;34m(\u001b[0m\u001b[0minput_data\u001b[0m\u001b[0;34m)\u001b[0m\u001b[0;34m\u001b[0m\u001b[0;34m\u001b[0m\u001b[0m\n\u001b[0m\u001b[1;32m      2\u001b[0m \u001b[0;31m#estimator.initialize()\u001b[0m\u001b[0;34m\u001b[0m\u001b[0;34m\u001b[0m\u001b[0;34m\u001b[0m\u001b[0m\n",
      "\u001b[0;32m~/Praktikum/batchglm/batchglm/train/tf/glm_norm/estimator.py\u001b[0m in \u001b[0;36m__init__\u001b[0;34m(self, input_data, batch_size, graph, init_model, init_a, init_b, quick_scale, model, provide_optimizers, provide_batched, termination_type, extended_summary, dtype)\u001b[0m\n\u001b[1;32m    118\u001b[0m             \u001b[0mextended_summary\u001b[0m\u001b[0;34m=\u001b[0m\u001b[0mextended_summary\u001b[0m\u001b[0;34m,\u001b[0m\u001b[0;34m\u001b[0m\u001b[0;34m\u001b[0m\u001b[0m\n\u001b[1;32m    119\u001b[0m             \u001b[0mnoise_model\u001b[0m\u001b[0;34m=\u001b[0m\u001b[0;34m\"norm\"\u001b[0m\u001b[0;34m,\u001b[0m\u001b[0;34m\u001b[0m\u001b[0;34m\u001b[0m\u001b[0m\n\u001b[0;32m--> 120\u001b[0;31m             \u001b[0mdtype\u001b[0m\u001b[0;34m=\u001b[0m\u001b[0mdtype\u001b[0m\u001b[0;34m\u001b[0m\u001b[0;34m\u001b[0m\u001b[0m\n\u001b[0m\u001b[1;32m    121\u001b[0m         )\n\u001b[1;32m    122\u001b[0m \u001b[0;34m\u001b[0m\u001b[0m\n",
      "\u001b[0;32m~/Praktikum/batchglm/batchglm/train/tf/base_glm_all/estimator.py\u001b[0m in \u001b[0;36m__init__\u001b[0;34m(self, input_data, batch_size, graph, init_a, init_b, model, provide_optimizers, provide_batched, termination_type, extended_summary, noise_model, dtype)\u001b[0m\n\u001b[1;32m     79\u001b[0m             \u001b[0;32mfrom\u001b[0m \u001b[0;34m.\u001b[0m\u001b[0mexternal_nb\u001b[0m \u001b[0;32mimport\u001b[0m \u001b[0mEstimatorGraph\u001b[0m\u001b[0;34m\u001b[0m\u001b[0;34m\u001b[0m\u001b[0m\n\u001b[1;32m     80\u001b[0m         \u001b[0;32melse\u001b[0m\u001b[0;34m:\u001b[0m\u001b[0;34m\u001b[0m\u001b[0;34m\u001b[0m\u001b[0m\n\u001b[0;32m---> 81\u001b[0;31m             \u001b[0;32mraise\u001b[0m \u001b[0mValueError\u001b[0m\u001b[0;34m(\u001b[0m\u001b[0;34m\"noise model %s was not recognized\"\u001b[0m \u001b[0;34m%\u001b[0m \u001b[0mnoise_model\u001b[0m\u001b[0;34m)\u001b[0m\u001b[0;34m\u001b[0m\u001b[0;34m\u001b[0m\u001b[0m\n\u001b[0m\u001b[1;32m     82\u001b[0m         \u001b[0mself\u001b[0m\u001b[0;34m.\u001b[0m\u001b[0mnoise_model\u001b[0m \u001b[0;34m=\u001b[0m \u001b[0mnoise_model\u001b[0m\u001b[0;34m\u001b[0m\u001b[0;34m\u001b[0m\u001b[0m\n\u001b[1;32m     83\u001b[0m \u001b[0;34m\u001b[0m\u001b[0m\n",
      "\u001b[0;31mValueError\u001b[0m: noise model norm was not recognized"
     ]
    }
   ],
   "source": [
    "estimator = glm.models.glm_norm.Estimator(input_data)\n",
    "#estimator.initialize()"
   ]
  },
  {
   "cell_type": "code",
   "execution_count": null,
   "metadata": {},
   "outputs": [],
   "source": []
  }
 ],
 "metadata": {
  "kernelspec": {
   "display_name": "Python (batchglm)",
   "language": "python",
   "name": "batchglm"
  },
  "language_info": {
   "codemirror_mode": {
    "name": "ipython",
    "version": 3
   },
   "file_extension": ".py",
   "mimetype": "text/x-python",
   "name": "python",
   "nbconvert_exporter": "python",
   "pygments_lexer": "ipython3",
   "version": "3.6.8"
  }
 },
 "nbformat": 4,
 "nbformat_minor": 1
}
